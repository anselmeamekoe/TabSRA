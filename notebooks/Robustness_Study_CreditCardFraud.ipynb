{
 "cells": [
  {
   "cell_type": "markdown",
   "id": "2089a6db-afb4-46e4-ba3a-a185a95842c5",
   "metadata": {},
   "source": [
    "# Robustness Study:Card Card Fraud \n"
   ]
  },
  {
   "cell_type": "markdown",
   "id": "d866c3c4-1001-42e6-b0a2-7988556e316f",
   "metadata": {},
   "source": [
    "For this dataset, the aim is to predict whether credit card transaction is fraudulent or genuine. The original dataset is PCA transformed for privacy purpose. We drop the time information in our study https://www.kaggle.com/mlg-ulb/creditcardfraud."
   ]
  },
  {
   "cell_type": "markdown",
   "id": "7e11e671-3e41-4e7e-8888-b33d1de76194",
   "metadata": {},
   "source": [
    "First download the dataset and store it in your working directory."
   ]
  },
  {
   "cell_type": "markdown",
   "id": "2987b76c-72f3-4f6d-9702-fdea7d7c42b7",
   "metadata": {},
   "source": [
    "## Librairies "
   ]
  },
  {
   "cell_type": "code",
   "execution_count": 1,
   "id": "82d04152-4cfa-4340-9324-53731fffe8b7",
   "metadata": {},
   "outputs": [],
   "source": [
    "import os, sys, time\n",
    "import numpy as np\n",
    "\n",
    "import pandas as pd"
   ]
  },
  {
   "cell_type": "code",
   "execution_count": 2,
   "id": "3aa685ff-4be5-4319-9469-4bb59e5efddc",
   "metadata": {},
   "outputs": [],
   "source": [
    "from sklearn.metrics import roc_auc_score, average_precision_score\n",
    "from sklearn.preprocessing import StandardScaler, OneHotEncoder\n",
    "from sklearn.model_selection import StratifiedKFold"
   ]
  },
  {
   "cell_type": "code",
   "execution_count": 3,
   "id": "32c3a441-92a8-45bb-b7db-8804b5f1b311",
   "metadata": {},
   "outputs": [],
   "source": [
    "from sklearn import set_config\n",
    "from sklearn.compose import ColumnTransformer\n",
    "from sklearn.pipeline import make_pipeline"
   ]
  },
  {
   "cell_type": "code",
   "execution_count": 4,
   "id": "66ecf9e5-af68-49a9-92ec-dc6f423b4ac7",
   "metadata": {},
   "outputs": [],
   "source": [
    "import torch \n",
    "import torch.nn as nn\n",
    "import torch.optim as optim "
   ]
  },
  {
   "cell_type": "code",
   "execution_count": 5,
   "id": "4683e029-2e4c-4021-b582-c669f242de76",
   "metadata": {},
   "outputs": [],
   "source": [
    "import pickle\n",
    "import torch\n",
    "from torch.optim.lr_scheduler import ReduceLROnPlateau\n",
    "from skorch.callbacks import EarlyStopping,LRScheduler,Checkpoint, TrainEndCheckpoint, EpochScoring\n",
    "from skorch.dataset import Dataset\n",
    "from skorch.helper import predefined_split\n",
    "from sklearn.model_selection import train_test_split\n",
    "from sklearn.metrics import mean_squared_error, r2_score"
   ]
  },
  {
   "cell_type": "code",
   "execution_count": 6,
   "id": "8fb63796-266f-48d2-94d0-ba2b4e525f90",
   "metadata": {},
   "outputs": [],
   "source": [
    "sys.path.append(\"../\")\n",
    "from sramodels.SRAModels import TabSRALinearClassifier,InputShapeSetterTabSRA,LinearClassifier"
   ]
  },
  {
   "cell_type": "code",
   "execution_count": null,
   "id": "ac5d5acc-d18d-441a-a0c3-184f1a2850c6",
   "metadata": {},
   "outputs": [],
   "source": [
    "from xgboost import XGBClassifier\n",
    "import xgboost as xgb"
   ]
  },
  {
   "cell_type": "code",
   "execution_count": null,
   "id": "2d9f0172-bc04-4445-8ff4-a16ecac0287d",
   "metadata": {},
   "outputs": [],
   "source": [
    "import shap"
   ]
  },
  {
   "cell_type": "code",
   "execution_count": null,
   "id": "3fa8efcf-c7c3-4245-8961-388c7a13d711",
   "metadata": {},
   "outputs": [],
   "source": [
    "from interpret.glassbox import ExplainableBoostingClassifier, ExplainableBoostingRegressor\n"
   ]
  },
  {
   "cell_type": "code",
   "execution_count": 7,
   "id": "a2b1616d-6738-4447-8422-23cb43c176d2",
   "metadata": {},
   "outputs": [],
   "source": [
    "pd.options.display.max_rows = 1000\n",
    "pd.options.display.max_columns = 1000"
   ]
  },
  {
   "cell_type": "code",
   "execution_count": null,
   "id": "3ada836a-1be4-45e2-bd84-4c3049b712b5",
   "metadata": {},
   "outputs": [],
   "source": [
    "import matplotlib.pyplot as plt\n",
    "plt.style.use('ggplot')\n",
    "import seaborn as sns"
   ]
  },
  {
   "cell_type": "markdown",
   "id": "c9d6b675-c0f6-4822-8411-9b5abe80e4c3",
   "metadata": {},
   "source": [
    "## Data loading, preprocessing and Split"
   ]
  },
  {
   "cell_type": "code",
   "execution_count": 8,
   "id": "cbb697a4-ef56-4f4a-bcf3-5672157d20a9",
   "metadata": {},
   "outputs": [
    {
     "data": {
      "text/html": [
       "<div>\n",
       "<style scoped>\n",
       "    .dataframe tbody tr th:only-of-type {\n",
       "        vertical-align: middle;\n",
       "    }\n",
       "\n",
       "    .dataframe tbody tr th {\n",
       "        vertical-align: top;\n",
       "    }\n",
       "\n",
       "    .dataframe thead th {\n",
       "        text-align: right;\n",
       "    }\n",
       "</style>\n",
       "<table border=\"1\" class=\"dataframe\">\n",
       "  <thead>\n",
       "    <tr style=\"text-align: right;\">\n",
       "      <th></th>\n",
       "      <th>V1</th>\n",
       "      <th>V2</th>\n",
       "      <th>V3</th>\n",
       "      <th>V4</th>\n",
       "      <th>V5</th>\n",
       "      <th>V6</th>\n",
       "      <th>V7</th>\n",
       "      <th>V8</th>\n",
       "      <th>V9</th>\n",
       "      <th>V10</th>\n",
       "      <th>V11</th>\n",
       "      <th>V12</th>\n",
       "      <th>V13</th>\n",
       "      <th>V14</th>\n",
       "      <th>V15</th>\n",
       "      <th>V16</th>\n",
       "      <th>V17</th>\n",
       "      <th>V18</th>\n",
       "      <th>V19</th>\n",
       "      <th>V20</th>\n",
       "      <th>V21</th>\n",
       "      <th>V22</th>\n",
       "      <th>V23</th>\n",
       "      <th>V24</th>\n",
       "      <th>V25</th>\n",
       "      <th>V26</th>\n",
       "      <th>V27</th>\n",
       "      <th>V28</th>\n",
       "      <th>Amount</th>\n",
       "      <th>Class</th>\n",
       "    </tr>\n",
       "  </thead>\n",
       "  <tbody>\n",
       "    <tr>\n",
       "      <th>0</th>\n",
       "      <td>-1.359807</td>\n",
       "      <td>-0.072781</td>\n",
       "      <td>2.536347</td>\n",
       "      <td>1.378155</td>\n",
       "      <td>-0.338321</td>\n",
       "      <td>0.462388</td>\n",
       "      <td>0.239599</td>\n",
       "      <td>0.098698</td>\n",
       "      <td>0.363787</td>\n",
       "      <td>0.090794</td>\n",
       "      <td>-0.551600</td>\n",
       "      <td>-0.617801</td>\n",
       "      <td>-0.991390</td>\n",
       "      <td>-0.311169</td>\n",
       "      <td>1.468177</td>\n",
       "      <td>-0.470401</td>\n",
       "      <td>0.207971</td>\n",
       "      <td>0.025791</td>\n",
       "      <td>0.403993</td>\n",
       "      <td>0.251412</td>\n",
       "      <td>-0.018307</td>\n",
       "      <td>0.277838</td>\n",
       "      <td>-0.110474</td>\n",
       "      <td>0.066928</td>\n",
       "      <td>0.128539</td>\n",
       "      <td>-0.189115</td>\n",
       "      <td>0.133558</td>\n",
       "      <td>-0.021053</td>\n",
       "      <td>149.62</td>\n",
       "      <td>0</td>\n",
       "    </tr>\n",
       "    <tr>\n",
       "      <th>1</th>\n",
       "      <td>1.191857</td>\n",
       "      <td>0.266151</td>\n",
       "      <td>0.166480</td>\n",
       "      <td>0.448154</td>\n",
       "      <td>0.060018</td>\n",
       "      <td>-0.082361</td>\n",
       "      <td>-0.078803</td>\n",
       "      <td>0.085102</td>\n",
       "      <td>-0.255425</td>\n",
       "      <td>-0.166974</td>\n",
       "      <td>1.612727</td>\n",
       "      <td>1.065235</td>\n",
       "      <td>0.489095</td>\n",
       "      <td>-0.143772</td>\n",
       "      <td>0.635558</td>\n",
       "      <td>0.463917</td>\n",
       "      <td>-0.114805</td>\n",
       "      <td>-0.183361</td>\n",
       "      <td>-0.145783</td>\n",
       "      <td>-0.069083</td>\n",
       "      <td>-0.225775</td>\n",
       "      <td>-0.638672</td>\n",
       "      <td>0.101288</td>\n",
       "      <td>-0.339846</td>\n",
       "      <td>0.167170</td>\n",
       "      <td>0.125895</td>\n",
       "      <td>-0.008983</td>\n",
       "      <td>0.014724</td>\n",
       "      <td>2.69</td>\n",
       "      <td>0</td>\n",
       "    </tr>\n",
       "    <tr>\n",
       "      <th>2</th>\n",
       "      <td>-1.358354</td>\n",
       "      <td>-1.340163</td>\n",
       "      <td>1.773209</td>\n",
       "      <td>0.379780</td>\n",
       "      <td>-0.503198</td>\n",
       "      <td>1.800499</td>\n",
       "      <td>0.791461</td>\n",
       "      <td>0.247676</td>\n",
       "      <td>-1.514654</td>\n",
       "      <td>0.207643</td>\n",
       "      <td>0.624501</td>\n",
       "      <td>0.066084</td>\n",
       "      <td>0.717293</td>\n",
       "      <td>-0.165946</td>\n",
       "      <td>2.345865</td>\n",
       "      <td>-2.890083</td>\n",
       "      <td>1.109969</td>\n",
       "      <td>-0.121359</td>\n",
       "      <td>-2.261857</td>\n",
       "      <td>0.524980</td>\n",
       "      <td>0.247998</td>\n",
       "      <td>0.771679</td>\n",
       "      <td>0.909412</td>\n",
       "      <td>-0.689281</td>\n",
       "      <td>-0.327642</td>\n",
       "      <td>-0.139097</td>\n",
       "      <td>-0.055353</td>\n",
       "      <td>-0.059752</td>\n",
       "      <td>378.66</td>\n",
       "      <td>0</td>\n",
       "    </tr>\n",
       "    <tr>\n",
       "      <th>3</th>\n",
       "      <td>-0.966272</td>\n",
       "      <td>-0.185226</td>\n",
       "      <td>1.792993</td>\n",
       "      <td>-0.863291</td>\n",
       "      <td>-0.010309</td>\n",
       "      <td>1.247203</td>\n",
       "      <td>0.237609</td>\n",
       "      <td>0.377436</td>\n",
       "      <td>-1.387024</td>\n",
       "      <td>-0.054952</td>\n",
       "      <td>-0.226487</td>\n",
       "      <td>0.178228</td>\n",
       "      <td>0.507757</td>\n",
       "      <td>-0.287924</td>\n",
       "      <td>-0.631418</td>\n",
       "      <td>-1.059647</td>\n",
       "      <td>-0.684093</td>\n",
       "      <td>1.965775</td>\n",
       "      <td>-1.232622</td>\n",
       "      <td>-0.208038</td>\n",
       "      <td>-0.108300</td>\n",
       "      <td>0.005274</td>\n",
       "      <td>-0.190321</td>\n",
       "      <td>-1.175575</td>\n",
       "      <td>0.647376</td>\n",
       "      <td>-0.221929</td>\n",
       "      <td>0.062723</td>\n",
       "      <td>0.061458</td>\n",
       "      <td>123.50</td>\n",
       "      <td>0</td>\n",
       "    </tr>\n",
       "    <tr>\n",
       "      <th>4</th>\n",
       "      <td>-1.158233</td>\n",
       "      <td>0.877737</td>\n",
       "      <td>1.548718</td>\n",
       "      <td>0.403034</td>\n",
       "      <td>-0.407193</td>\n",
       "      <td>0.095921</td>\n",
       "      <td>0.592941</td>\n",
       "      <td>-0.270533</td>\n",
       "      <td>0.817739</td>\n",
       "      <td>0.753074</td>\n",
       "      <td>-0.822843</td>\n",
       "      <td>0.538196</td>\n",
       "      <td>1.345852</td>\n",
       "      <td>-1.119670</td>\n",
       "      <td>0.175121</td>\n",
       "      <td>-0.451449</td>\n",
       "      <td>-0.237033</td>\n",
       "      <td>-0.038195</td>\n",
       "      <td>0.803487</td>\n",
       "      <td>0.408542</td>\n",
       "      <td>-0.009431</td>\n",
       "      <td>0.798278</td>\n",
       "      <td>-0.137458</td>\n",
       "      <td>0.141267</td>\n",
       "      <td>-0.206010</td>\n",
       "      <td>0.502292</td>\n",
       "      <td>0.219422</td>\n",
       "      <td>0.215153</td>\n",
       "      <td>69.99</td>\n",
       "      <td>0</td>\n",
       "    </tr>\n",
       "  </tbody>\n",
       "</table>\n",
       "</div>"
      ],
      "text/plain": [
       "         V1        V2        V3        V4        V5        V6        V7  \\\n",
       "0 -1.359807 -0.072781  2.536347  1.378155 -0.338321  0.462388  0.239599   \n",
       "1  1.191857  0.266151  0.166480  0.448154  0.060018 -0.082361 -0.078803   \n",
       "2 -1.358354 -1.340163  1.773209  0.379780 -0.503198  1.800499  0.791461   \n",
       "3 -0.966272 -0.185226  1.792993 -0.863291 -0.010309  1.247203  0.237609   \n",
       "4 -1.158233  0.877737  1.548718  0.403034 -0.407193  0.095921  0.592941   \n",
       "\n",
       "         V8        V9       V10       V11       V12       V13       V14  \\\n",
       "0  0.098698  0.363787  0.090794 -0.551600 -0.617801 -0.991390 -0.311169   \n",
       "1  0.085102 -0.255425 -0.166974  1.612727  1.065235  0.489095 -0.143772   \n",
       "2  0.247676 -1.514654  0.207643  0.624501  0.066084  0.717293 -0.165946   \n",
       "3  0.377436 -1.387024 -0.054952 -0.226487  0.178228  0.507757 -0.287924   \n",
       "4 -0.270533  0.817739  0.753074 -0.822843  0.538196  1.345852 -1.119670   \n",
       "\n",
       "        V15       V16       V17       V18       V19       V20       V21  \\\n",
       "0  1.468177 -0.470401  0.207971  0.025791  0.403993  0.251412 -0.018307   \n",
       "1  0.635558  0.463917 -0.114805 -0.183361 -0.145783 -0.069083 -0.225775   \n",
       "2  2.345865 -2.890083  1.109969 -0.121359 -2.261857  0.524980  0.247998   \n",
       "3 -0.631418 -1.059647 -0.684093  1.965775 -1.232622 -0.208038 -0.108300   \n",
       "4  0.175121 -0.451449 -0.237033 -0.038195  0.803487  0.408542 -0.009431   \n",
       "\n",
       "        V22       V23       V24       V25       V26       V27       V28  \\\n",
       "0  0.277838 -0.110474  0.066928  0.128539 -0.189115  0.133558 -0.021053   \n",
       "1 -0.638672  0.101288 -0.339846  0.167170  0.125895 -0.008983  0.014724   \n",
       "2  0.771679  0.909412 -0.689281 -0.327642 -0.139097 -0.055353 -0.059752   \n",
       "3  0.005274 -0.190321 -1.175575  0.647376 -0.221929  0.062723  0.061458   \n",
       "4  0.798278 -0.137458  0.141267 -0.206010  0.502292  0.219422  0.215153   \n",
       "\n",
       "   Amount  Class  \n",
       "0  149.62      0  \n",
       "1    2.69      0  \n",
       "2  378.66      0  \n",
       "3  123.50      0  \n",
       "4   69.99      0  "
      ]
     },
     "execution_count": 8,
     "metadata": {},
     "output_type": "execute_result"
    }
   ],
   "source": [
    "data_path = '../ESANN_XKDD/Datasets/'\n",
    "data = pd.read_csv(data_path+'creditcard.csv')\n",
    "data.drop('Time', axis=1, inplace=True)\n",
    "data.head()"
   ]
  },
  {
   "cell_type": "code",
   "execution_count": 9,
   "id": "de235b18-5e74-45e2-ac00-4b25e5495d47",
   "metadata": {},
   "outputs": [
    {
     "data": {
      "text/plain": [
       "0.001727485630620034"
      ]
     },
     "execution_count": 9,
     "metadata": {},
     "output_type": "execute_result"
    }
   ],
   "source": [
    "data.Class.mean()"
   ]
  },
  {
   "cell_type": "markdown",
   "id": "20281c88-7cef-4213-8120-665ed4cb4b92",
   "metadata": {},
   "source": [
    "### Preprocessing "
   ]
  },
  {
   "cell_type": "code",
   "execution_count": 10,
   "id": "94b1d691-2026-4691-a5c2-60bb73b785cc",
   "metadata": {},
   "outputs": [],
   "source": [
    "data_copy = data.copy()"
   ]
  },
  {
   "cell_type": "code",
   "execution_count": 11,
   "id": "7226af8b-7e49-48ff-8067-de351d18fe2c",
   "metadata": {},
   "outputs": [],
   "source": [
    "feature_names = list(data.columns)\n",
    "feature_names.remove('Class')"
   ]
  },
  {
   "cell_type": "markdown",
   "id": "8a9a935b-105f-459f-9d7b-a94f090461ec",
   "metadata": {},
   "source": [
    "### Split "
   ]
  },
  {
   "cell_type": "code",
   "execution_count": 12,
   "id": "d5fbb86b-3ad8-4293-972b-c08dbdcccc24",
   "metadata": {},
   "outputs": [],
   "source": [
    "k =5\n",
    "Sf= StratifiedKFold(n_splits=k, shuffle=True, random_state= 42)\n",
    "#datasets = [(X[train_index], X[test_index],y[train_index], y[test_index]) for train_index,test_index in Sf.split(X, y) ]\n",
    "datasets_raw = [(data.iloc[train_index], data.iloc[test_index]) for train_index,test_index in Sf.split(data, data.Class.values) ]\n",
    "data_train_df,data_test_df = datasets_raw[0]"
   ]
  },
  {
   "cell_type": "code",
   "execution_count": 13,
   "id": "fa27a6d4-0a06-4d40-be5c-74ebf519f089",
   "metadata": {},
   "outputs": [],
   "source": [
    "data_train_df,data_test_df = datasets_raw[0]"
   ]
  },
  {
   "cell_type": "code",
   "execution_count": 14,
   "id": "3d76fc9f-467b-4bad-8684-27f509e12e68",
   "metadata": {},
   "outputs": [],
   "source": [
    "X_train_, X_test_, Y_train_, Y_test_ = data_train_df[feature_names], data_test_df[feature_names],data_train_df.Class.values,data_test_df.Class.values"
   ]
  },
  {
   "cell_type": "code",
   "execution_count": 15,
   "id": "1591692a-74f7-4ac3-8e08-ec14bb672a36",
   "metadata": {},
   "outputs": [],
   "source": [
    "set_config(transform_output=\"pandas\")\n",
    "processor =  StandardScaler()"
   ]
  },
  {
   "cell_type": "code",
   "execution_count": 16,
   "id": "9a3d7f5e-6855-4c72-8092-4db7c3f56537",
   "metadata": {},
   "outputs": [],
   "source": [
    "X_train_ = processor.fit_transform(X_train_)\n",
    "X_test_ = processor.transform(X_test_)"
   ]
  },
  {
   "cell_type": "markdown",
   "id": "60720d5d-f257-4b56-9eb8-56af62522a38",
   "metadata": {},
   "source": [
    "### Correlation visualization (map)"
   ]
  },
  {
   "cell_type": "code",
   "execution_count": 17,
   "id": "ee94046c-3fcf-433e-a38e-7adafd26086b",
   "metadata": {},
   "outputs": [],
   "source": [
    "import matplotlib.pyplot as plt\n",
    "import seaborn as sns "
   ]
  },
  {
   "cell_type": "code",
   "execution_count": 18,
   "id": "f13aa89c-f8cc-4f8a-9a73-9fa287fb91be",
   "metadata": {},
   "outputs": [],
   "source": [
    "X_train_tmp = X_train_.copy()\n",
    "X_train_tmp['y'] = Y_train_"
   ]
  },
  {
   "cell_type": "code",
   "execution_count": 19,
   "id": "b2e00f21-16eb-4102-80d3-d5b675b6144d",
   "metadata": {},
   "outputs": [
    {
     "name": "stderr",
     "output_type": "stream",
     "text": [
      "/tmp/ipykernel_13855/1798339133.py:6: DeprecationWarning: `np.bool` is a deprecated alias for the builtin `bool`. To silence this warning, use `bool` by itself. Doing this will not modify any behavior and is safe. If you specifically wanted the numpy scalar type, use `np.bool_` here.\n",
      "Deprecated in NumPy 1.20; for more details and guidance: https://numpy.org/devdocs/release/1.20.0-notes.html#deprecations\n",
      "  sns.heatmap(corr, mask=np.zeros_like(corr, dtype=np.bool), cmap=sns.diverging_palette(220, 10, as_cmap=True),\n"
     ]
    },
    {
     "data": {
      "image/png": "[encoded data removed]",
      "text/plain": [
       "<Figure size 864x864 with 2 Axes>"
      ]
     },
     "metadata": {
      "needs_background": "light"
     },
     "output_type": "display_data"
    }
   ],
   "source": [
    "import seaborn as sns\n",
    "\n",
    "f, ax = plt.subplots(figsize=(12, 12))\n",
    "tmp = X_train_tmp.astype(float) \n",
    "corr = tmp.corr(method='spearman')\n",
    "sns.heatmap(corr, mask=np.zeros_like(corr, dtype=np.bool), cmap=sns.diverging_palette(220, 10, as_cmap=True),\n",
    "            square=True, ax=ax);"
   ]
  },
  {
   "cell_type": "code",
   "execution_count": 20,
   "id": "5f626d5c-2780-479c-8870-0aecc2452c79",
   "metadata": {},
   "outputs": [
    {
     "name": "stderr",
     "output_type": "stream",
     "text": [
      "/tmp/ipykernel_13855/2226804073.py:6: DeprecationWarning: `np.bool` is a deprecated alias for the builtin `bool`. To silence this warning, use `bool` by itself. Doing this will not modify any behavior and is safe. If you specifically wanted the numpy scalar type, use `np.bool_` here.\n",
      "Deprecated in NumPy 1.20; for more details and guidance: https://numpy.org/devdocs/release/1.20.0-notes.html#deprecations\n",
      "  sns.heatmap(corr, mask=np.zeros_like(corr, dtype=np.bool), cmap=sns.diverging_palette(220, 10, as_cmap=True),\n"
     ]
    },
    {
     "data": {
      "image/png": "[encoded data removed]",
      "text/plain": [
       "<Figure size 864x864 with 2 Axes>"
      ]
     },
     "metadata": {
      "needs_background": "light"
     },
     "output_type": "display_data"
    }
   ],
   "source": [
    "import seaborn as sns\n",
    "\n",
    "f, ax = plt.subplots(figsize=(12, 12))\n",
    "tmp = X_train_tmp.astype(float) \n",
    "corr = tmp.corr()\n",
    "sns.heatmap(corr, mask=np.zeros_like(corr, dtype=np.bool), cmap=sns.diverging_palette(220, 10, as_cmap=True),\n",
    "            square=True, ax=ax);"
   ]
  },
  {
   "cell_type": "markdown",
   "id": "accepting-mexico",
   "metadata": {
    "tags": []
   },
   "source": [
    "## Model"
   ]
  },
  {
   "cell_type": "markdown",
   "id": "c5357995-647b-493b-b60e-b350a463e33f",
   "metadata": {},
   "source": [
    "### Linear  "
   ]
  },
  {
   "cell_type": "code",
   "execution_count": 19,
   "id": "90551aab-c952-4220-9133-f771899996dc",
   "metadata": {},
   "outputs": [],
   "source": [
    "#valid_loss\n",
    "other_params_linear = {\"module__bias\":True,\n",
    "                \"optimizer__lr\":0.005269,\n",
    "                \"optimizer__weight_decay\":0.000072,\n",
    "                \"random_state\":42,\n",
    "                \"criterion\": nn.BCEWithLogitsLoss,\n",
    "                \"module__negative_indice\":None,\n",
    "                \"module__positive_indice\":None,\n",
    "                \"max_epochs\":100,\n",
    "                \"batch_size\":2048,\n",
    "                \"device\":'cuda'#change the device in 'cpu' if there is no GPU\n",
    "               }\n",
    "scoring = EpochScoring(scoring='average_precision',lower_is_better=False)\n",
    "setter = InputShapeSetterTabSRA(regression=False)\n",
    "early_stop = EarlyStopping(monitor=scoring.scoring, patience=10,load_best=True,lower_is_better=False, threshold=0.0001,threshold_mode='abs')\n",
    "lr_scheduler = LRScheduler(policy=ReduceLROnPlateau, patience=5, min_lr=2e-5,factor=0.2, verbose=1)\n",
    "call_b = [scoring, setter, early_stop, lr_scheduler]"
   ]
  },
  {
   "cell_type": "code",
   "execution_count": 22,
   "id": "8bd4929b-0bb2-4d03-a39f-ee37270dace8",
   "metadata": {},
   "outputs": [
    {
     "data": {
      "text/plain": [
       "(56962,)"
      ]
     },
     "execution_count": 22,
     "metadata": {},
     "output_type": "execute_result"
    }
   ],
   "source": [
    "Y_test_.shape"
   ]
  },
  {
   "cell_type": "code",
   "execution_count": 23,
   "id": "126a3369-ddde-4559-8e15-f21530b4673a",
   "metadata": {
    "tags": []
   },
   "outputs": [
    {
     "name": "stdout",
     "output_type": "stream",
     "text": [
      "Re-initializing module because the following parameters were re-set: module__dim_input, module__dim_output.\n",
      "Re-initializing criterion.\n",
      "Re-initializing optimizer.\n",
      "  epoch    average_precision    train_loss    valid_acc    valid_loss     dur\n",
      "-------  -------------------  ------------  -----------  ------------  ------\n",
      "      1               \u001b[36m0.6704\u001b[0m        \u001b[32m0.5015\u001b[0m       \u001b[35m0.9992\u001b[0m        \u001b[31m0.3963\u001b[0m  1.8172\n",
      "      2               0.6365        \u001b[32m0.3265\u001b[0m       0.9992        \u001b[31m0.2682\u001b[0m  1.2255\n",
      "      3               0.6271        \u001b[32m0.2260\u001b[0m       0.9992        \u001b[31m0.1918\u001b[0m  1.3348\n",
      "      4               0.6259        \u001b[32m0.1649\u001b[0m       0.9992        \u001b[31m0.1437\u001b[0m  1.3098\n",
      "      5               0.6390        \u001b[32m0.1255\u001b[0m       0.9992        \u001b[31m0.1117\u001b[0m  1.3540\n",
      "      6               0.6489        \u001b[32m0.0986\u001b[0m       0.9992        \u001b[31m0.0886\u001b[0m  1.2606\n",
      "      7               \u001b[36m0.6991\u001b[0m        \u001b[32m0.0791\u001b[0m       0.9992        \u001b[31m0.0716\u001b[0m  1.2962\n",
      "      8               0.6940        \u001b[32m0.0649\u001b[0m       0.9992        \u001b[31m0.0594\u001b[0m  1.2575\n",
      "      9               \u001b[36m0.7041\u001b[0m        \u001b[32m0.0544\u001b[0m       \u001b[35m0.9993\u001b[0m        \u001b[31m0.0503\u001b[0m  1.2707\n",
      "     10               0.6997        \u001b[32m0.0464\u001b[0m       0.9993        \u001b[31m0.0433\u001b[0m  1.1916\n",
      "     11               \u001b[36m0.7047\u001b[0m        \u001b[32m0.0401\u001b[0m       0.9991        \u001b[31m0.0376\u001b[0m  1.2727\n",
      "     12               0.7014        \u001b[32m0.0351\u001b[0m       0.9990        \u001b[31m0.0331\u001b[0m  1.3856\n",
      "     13               0.7042        \u001b[32m0.0310\u001b[0m       0.9991        \u001b[31m0.0294\u001b[0m  1.3940\n",
      "     14               \u001b[36m0.7050\u001b[0m        \u001b[32m0.0276\u001b[0m       0.9991        \u001b[31m0.0264\u001b[0m  1.2955\n",
      "     15               \u001b[36m0.7067\u001b[0m        \u001b[32m0.0248\u001b[0m       0.9990        \u001b[31m0.0238\u001b[0m  1.3274\n",
      "     16               \u001b[36m0.7093\u001b[0m        \u001b[32m0.0225\u001b[0m       0.9990        \u001b[31m0.0216\u001b[0m  1.2456\n",
      "     17               0.7023        \u001b[32m0.0204\u001b[0m       0.9990        \u001b[31m0.0198\u001b[0m  1.2205\n",
      "     18               \u001b[36m0.7118\u001b[0m        \u001b[32m0.0188\u001b[0m       0.9990        \u001b[31m0.0182\u001b[0m  1.2201\n",
      "     19               0.7110        \u001b[32m0.0173\u001b[0m       0.9991        \u001b[31m0.0168\u001b[0m  1.1776\n",
      "     20               \u001b[36m0.7158\u001b[0m        \u001b[32m0.0160\u001b[0m       0.9989        \u001b[31m0.0156\u001b[0m  1.2041\n",
      "     21               0.7157        \u001b[32m0.0148\u001b[0m       0.9990        \u001b[31m0.0145\u001b[0m  1.2456\n",
      "     22               \u001b[36m0.7169\u001b[0m        \u001b[32m0.0138\u001b[0m       0.9990        \u001b[31m0.0135\u001b[0m  1.1438\n",
      "     23               \u001b[36m0.7257\u001b[0m        \u001b[32m0.0129\u001b[0m       0.9990        \u001b[31m0.0127\u001b[0m  1.2052\n",
      "     24               0.7160        \u001b[32m0.0122\u001b[0m       0.9990        \u001b[31m0.0120\u001b[0m  1.2171\n",
      "     25               0.7221        \u001b[32m0.0115\u001b[0m       0.9990        \u001b[31m0.0113\u001b[0m  1.2413\n",
      "     26               0.7184        \u001b[32m0.0108\u001b[0m       0.9991        \u001b[31m0.0107\u001b[0m  1.2331\n",
      "     27               0.7139        \u001b[32m0.0103\u001b[0m       0.9991        \u001b[31m0.0103\u001b[0m  1.2733\n",
      "     28               0.7251        \u001b[32m0.0097\u001b[0m       0.9991        \u001b[31m0.0097\u001b[0m  1.2368\n",
      "     29               0.7206        \u001b[32m0.0093\u001b[0m       0.9991        \u001b[31m0.0094\u001b[0m  1.2742\n",
      "     30               \u001b[36m0.7282\u001b[0m        \u001b[32m0.0089\u001b[0m       0.9990        \u001b[31m0.0088\u001b[0m  1.2204\n",
      "     31               0.7261        \u001b[32m0.0085\u001b[0m       0.9991        \u001b[31m0.0085\u001b[0m  1.2175\n",
      "     32               0.7244        \u001b[32m0.0082\u001b[0m       0.9990        \u001b[31m0.0083\u001b[0m  1.2454\n",
      "     33               \u001b[36m0.7298\u001b[0m        \u001b[32m0.0079\u001b[0m       0.9991        \u001b[31m0.0079\u001b[0m  1.2526\n",
      "     34               0.7230        \u001b[32m0.0076\u001b[0m       0.9991        \u001b[31m0.0077\u001b[0m  1.1946\n",
      "     35               0.7180        \u001b[32m0.0073\u001b[0m       0.9991        \u001b[31m0.0075\u001b[0m  1.2174\n",
      "     36               0.7241        \u001b[32m0.0071\u001b[0m       0.9991        \u001b[31m0.0072\u001b[0m  1.2429\n",
      "     37               0.7280        \u001b[32m0.0069\u001b[0m       0.9991        \u001b[31m0.0069\u001b[0m  1.2125\n",
      "     38               0.7279        \u001b[32m0.0067\u001b[0m       0.9991        \u001b[31m0.0068\u001b[0m  1.2113\n",
      "     39               \u001b[36m0.7318\u001b[0m        \u001b[32m0.0065\u001b[0m       0.9991        \u001b[31m0.0065\u001b[0m  1.2493\n",
      "     40               0.7288        \u001b[32m0.0063\u001b[0m       0.9991        \u001b[31m0.0063\u001b[0m  1.2494\n",
      "     41               \u001b[36m0.7324\u001b[0m        \u001b[32m0.0061\u001b[0m       0.9991        \u001b[31m0.0062\u001b[0m  1.2081\n",
      "     42               \u001b[36m0.7345\u001b[0m        \u001b[32m0.0060\u001b[0m       0.9991        \u001b[31m0.0061\u001b[0m  1.1873\n",
      "     43               0.7342        \u001b[32m0.0058\u001b[0m       0.9991        \u001b[31m0.0059\u001b[0m  1.1421\n",
      "     44               0.7337        \u001b[32m0.0057\u001b[0m       0.9991        \u001b[31m0.0058\u001b[0m  1.1480\n",
      "     45               0.7326        \u001b[32m0.0056\u001b[0m       0.9991        \u001b[31m0.0058\u001b[0m  1.2636\n",
      "     46               0.7298        \u001b[32m0.0055\u001b[0m       0.9991        \u001b[31m0.0056\u001b[0m  1.2970\n",
      "     47               0.7291        \u001b[32m0.0054\u001b[0m       0.9991        \u001b[31m0.0056\u001b[0m  1.2796\n",
      "     48               0.7296        \u001b[32m0.0053\u001b[0m       0.9990        0.0056  1.2094\n",
      "     49               0.7304        \u001b[32m0.0052\u001b[0m       0.9991        \u001b[31m0.0054\u001b[0m  1.1900\n",
      "     50               0.7304        \u001b[32m0.0052\u001b[0m       0.9991        \u001b[31m0.0053\u001b[0m  1.1677\n",
      "     51               0.7322        \u001b[32m0.0051\u001b[0m       0.9991        \u001b[31m0.0052\u001b[0m  1.2550\n",
      "Stopping since average_precision has not improved in the last 10 epochs.\n",
      "Restoring best model from epoch 42.\n",
      "CPU times: user 3min 30s, sys: 1.78 s, total: 3min 32s\n",
      "Wall time: 1min 6s\n"
     ]
    }
   ],
   "source": [
    "%%time\n",
    "valid_dataset = Dataset(X_test_.values.astype(np.float32),Y_test_.astype(np.float32))\n",
    "LR = LinearClassifier(**other_params_linear,train_split = predefined_split(valid_dataset),callbacks = call_b)#,\n",
    "_ = LR.fit(X_train_.values.astype(np.float32),Y_train_.astype(np.float32))"
   ]
  },
  {
   "cell_type": "code",
   "execution_count": 25,
   "id": "d3120b1b-e7ec-47f8-a7b7-b845be5cd917",
   "metadata": {},
   "outputs": [
    {
     "data": {
      "text/plain": [
       "29"
      ]
     },
     "execution_count": 25,
     "metadata": {},
     "output_type": "execute_result"
    }
   ],
   "source": [
    "len(feature_names)"
   ]
  },
  {
   "cell_type": "code",
   "execution_count": 21,
   "id": "f41c39fd-c596-40c1-859d-6ba6363f96e3",
   "metadata": {},
   "outputs": [
    {
     "data": {
      "text/html": [
       "<div>\n",
       "<style scoped>\n",
       "    .dataframe tbody tr th:only-of-type {\n",
       "        vertical-align: middle;\n",
       "    }\n",
       "\n",
       "    .dataframe tbody tr th {\n",
       "        vertical-align: top;\n",
       "    }\n",
       "\n",
       "    .dataframe thead th {\n",
       "        text-align: right;\n",
       "    }\n",
       "</style>\n",
       "<table border=\"1\" class=\"dataframe\">\n",
       "  <thead>\n",
       "    <tr style=\"text-align: right;\">\n",
       "      <th></th>\n",
       "      <th>V1</th>\n",
       "      <th>V2</th>\n",
       "      <th>V3</th>\n",
       "      <th>V4</th>\n",
       "      <th>V5</th>\n",
       "      <th>V6</th>\n",
       "      <th>V7</th>\n",
       "      <th>V8</th>\n",
       "      <th>V9</th>\n",
       "      <th>V10</th>\n",
       "      <th>V11</th>\n",
       "      <th>V12</th>\n",
       "      <th>V13</th>\n",
       "      <th>V14</th>\n",
       "      <th>V15</th>\n",
       "      <th>V16</th>\n",
       "      <th>V17</th>\n",
       "      <th>V18</th>\n",
       "      <th>V19</th>\n",
       "      <th>V20</th>\n",
       "      <th>V21</th>\n",
       "      <th>V22</th>\n",
       "      <th>V23</th>\n",
       "      <th>V24</th>\n",
       "      <th>V25</th>\n",
       "      <th>V26</th>\n",
       "      <th>V27</th>\n",
       "      <th>V28</th>\n",
       "      <th>Amount</th>\n",
       "    </tr>\n",
       "  </thead>\n",
       "  <tbody>\n",
       "    <tr>\n",
       "      <th>0</th>\n",
       "      <td>0.07177</td>\n",
       "      <td>0.019077</td>\n",
       "      <td>-0.015189</td>\n",
       "      <td>0.228679</td>\n",
       "      <td>0.103202</td>\n",
       "      <td>-0.050416</td>\n",
       "      <td>-0.083417</td>\n",
       "      <td>-0.134857</td>\n",
       "      <td>-0.13168</td>\n",
       "      <td>-0.224736</td>\n",
       "      <td>0.114774</td>\n",
       "      <td>-0.174018</td>\n",
       "      <td>-0.064002</td>\n",
       "      <td>-0.379879</td>\n",
       "      <td>-0.001001</td>\n",
       "      <td>-0.11745</td>\n",
       "      <td>-0.075411</td>\n",
       "      <td>-0.002392</td>\n",
       "      <td>0.018217</td>\n",
       "      <td>-0.038823</td>\n",
       "      <td>0.059589</td>\n",
       "      <td>0.05622</td>\n",
       "      <td>0.007327</td>\n",
       "      <td>0.000492</td>\n",
       "      <td>-0.030213</td>\n",
       "      <td>0.020714</td>\n",
       "      <td>-0.031456</td>\n",
       "      <td>0.022659</td>\n",
       "      <td>0.095045</td>\n",
       "    </tr>\n",
       "  </tbody>\n",
       "</table>\n",
       "</div>"
      ],
      "text/plain": [
       "        V1        V2        V3        V4        V5        V6        V7  \\\n",
       "0  0.07177  0.019077 -0.015189  0.228679  0.103202 -0.050416 -0.083417   \n",
       "\n",
       "         V8       V9       V10       V11       V12       V13       V14  \\\n",
       "0 -0.134857 -0.13168 -0.224736  0.114774 -0.174018 -0.064002 -0.379879   \n",
       "\n",
       "        V15      V16       V17       V18       V19       V20       V21  \\\n",
       "0 -0.001001 -0.11745 -0.075411 -0.002392  0.018217 -0.038823  0.059589   \n",
       "\n",
       "       V22       V23       V24       V25       V26       V27       V28  \\\n",
       "0  0.05622  0.007327  0.000492 -0.030213  0.020714 -0.031456  0.022659   \n",
       "\n",
       "     Amount  \n",
       "0  0.095045  "
      ]
     },
     "execution_count": 21,
     "metadata": {},
     "output_type": "execute_result"
    }
   ],
   "source": [
    "Coef  = pd.DataFrame(LR.get_weights()[0])\n",
    "Coef = Coef\n",
    "Coef.columns=feature_names\n",
    "Coef"
   ]
  },
  {
   "cell_type": "code",
   "execution_count": 22,
   "id": "800cac39-0b66-4f3b-9f17-a4545ab5649b",
   "metadata": {},
   "outputs": [
    {
     "name": "stdout",
     "output_type": "stream",
     "text": [
      "--AUCROC perf = 0.9833274624087631 -- AUCPR perf = 0.7344657424704154\n"
     ]
    }
   ],
   "source": [
    "# Inference on the test set. the Predict function will return the ouptut scores and the attention weights as Model.get_attention is True\n",
    "pred_lr = LR.predict_proba(X_test_.values.astype(np.float32))[:,1]\n",
    "\n",
    "best_aucroc_lr = roc_auc_score(Y_test_, pred_lr) \n",
    "best_aurpr_lr = average_precision_score(Y_test_, pred_lr) \n",
    "print(f\"--AUCROC perf = {best_aucroc_lr} -- AUCPR perf = {best_aurpr_lr}\")"
   ]
  },
  {
   "cell_type": "markdown",
   "id": "b0c40273-23e2-4ca1-ad51-58bf966a7891",
   "metadata": {},
   "source": [
    "### TabSRA  "
   ]
  },
  {
   "cell_type": "code",
   "execution_count": 23,
   "id": "439db264-3d29-4739-9df4-53c42c311afe",
   "metadata": {},
   "outputs": [],
   "source": [
    "#valid_loss\n",
    "other_params = {\"module__encoder_bias\":True,\n",
    "                \"module__classifier_bias\":True,\n",
    "                \"module__n_head\":2,\n",
    "                \"module__dim_head\":4,\n",
    "                \"module__n_hidden_encoder\":1,\n",
    "                \"module__dropout_rate\":0.2,\n",
    "                \"optimizer__lr\":0.0006750277604651748,\n",
    "                \"optimizer__weight_decay\":2.1563909801506647e-05,\n",
    "                \"random_state\":42,\n",
    "                \"criterion\": nn.BCEWithLogitsLoss,\n",
    "                \"module__negative_indice\":None,\n",
    "                \"module__positive_indice\": None,\n",
    "                \"max_epochs\":800,\n",
    "                \"batch_size\":2048,\n",
    "                \"device\":'cuda'#change the device in 'cpu' if there is no GPU\n",
    "               }\n",
    "scoring = EpochScoring(scoring='average_precision',lower_is_better=False)\n",
    "setter = InputShapeSetterTabSRA(regression=False)\n",
    "early_stop = EarlyStopping(monitor=scoring.scoring, patience=50,load_best=True,lower_is_better=False, threshold=0.0001,threshold_mode='abs')\n",
    "lr_scheduler = LRScheduler(policy=ReduceLROnPlateau, patience=25, min_lr=2e-5,factor=0.2, verbose=1)\n",
    "call_b = [scoring, setter, early_stop, lr_scheduler]"
   ]
  },
  {
   "cell_type": "code",
   "execution_count": 38,
   "id": "85b4aac5-a7d4-4ce8-9200-4b29b221d403",
   "metadata": {
    "collapsed": true,
    "jupyter": {
     "outputs_hidden": true
    },
    "tags": []
   },
   "outputs": [
    {
     "name": "stdout",
     "output_type": "stream",
     "text": [
      "Re-initializing module because the following parameters were re-set: module__dim_input, module__dim_output.\n",
      "Re-initializing criterion.\n",
      "Re-initializing optimizer.\n",
      "  epoch    average_precision    train_loss    valid_acc    valid_loss     dur\n",
      "-------  -------------------  ------------  -----------  ------------  ------\n",
      "      1               \u001b[36m0.3762\u001b[0m        \u001b[32m0.5403\u001b[0m       \u001b[35m0.9988\u001b[0m        \u001b[31m0.3451\u001b[0m  1.5378\n",
      "      2               \u001b[36m0.4896\u001b[0m        \u001b[32m0.1901\u001b[0m       \u001b[35m0.9989\u001b[0m        \u001b[31m0.0896\u001b[0m  1.4672\n",
      "      3               \u001b[36m0.6187\u001b[0m        \u001b[32m0.0647\u001b[0m       \u001b[35m0.9990\u001b[0m        \u001b[31m0.0419\u001b[0m  1.4893\n",
      "      4               \u001b[36m0.6730\u001b[0m        \u001b[32m0.0362\u001b[0m       \u001b[35m0.9991\u001b[0m        \u001b[31m0.0266\u001b[0m  1.5036\n",
      "      5               \u001b[36m0.6934\u001b[0m        \u001b[32m0.0249\u001b[0m       \u001b[35m0.9992\u001b[0m        \u001b[31m0.0196\u001b[0m  1.4541\n",
      "      6               \u001b[36m0.7136\u001b[0m        \u001b[32m0.0190\u001b[0m       \u001b[35m0.9993\u001b[0m        \u001b[31m0.0156\u001b[0m  1.4701\n",
      "      7               \u001b[36m0.7289\u001b[0m        \u001b[32m0.0154\u001b[0m       \u001b[35m0.9993\u001b[0m        \u001b[31m0.0130\u001b[0m  1.4424\n",
      "      8               \u001b[36m0.7359\u001b[0m        \u001b[32m0.0132\u001b[0m       \u001b[35m0.9994\u001b[0m        \u001b[31m0.0113\u001b[0m  1.5338\n",
      "      9               0.7280        \u001b[32m0.0115\u001b[0m       0.9993        \u001b[31m0.0103\u001b[0m  1.4619\n",
      "     10               \u001b[36m0.7581\u001b[0m        \u001b[32m0.0102\u001b[0m       0.9994        \u001b[31m0.0091\u001b[0m  1.4657\n",
      "     11               \u001b[36m0.7816\u001b[0m        \u001b[32m0.0092\u001b[0m       \u001b[35m0.9994\u001b[0m        \u001b[31m0.0083\u001b[0m  1.4547\n",
      "     12               \u001b[36m0.7840\u001b[0m        \u001b[32m0.0083\u001b[0m       0.9994        \u001b[31m0.0077\u001b[0m  1.4723\n",
      "     13               0.7777        \u001b[32m0.0079\u001b[0m       0.9994        \u001b[31m0.0074\u001b[0m  1.4529\n",
      "     14               0.7825        \u001b[32m0.0073\u001b[0m       0.9994        \u001b[31m0.0070\u001b[0m  1.4617\n",
      "     15               \u001b[36m0.7936\u001b[0m        \u001b[32m0.0068\u001b[0m       0.9994        \u001b[31m0.0066\u001b[0m  1.4860\n",
      "     16               \u001b[36m0.7970\u001b[0m        \u001b[32m0.0064\u001b[0m       0.9994        \u001b[31m0.0063\u001b[0m  1.4883\n",
      "     17               0.7846        \u001b[32m0.0062\u001b[0m       0.9994        \u001b[31m0.0061\u001b[0m  1.4734\n",
      "     18               0.7948        \u001b[32m0.0059\u001b[0m       0.9994        \u001b[31m0.0059\u001b[0m  1.4563\n",
      "     19               0.7924        \u001b[32m0.0057\u001b[0m       0.9993        0.0059  1.4749\n",
      "     20               0.7907        \u001b[32m0.0054\u001b[0m       0.9994        \u001b[31m0.0056\u001b[0m  1.4413\n",
      "     21               0.7964        \u001b[32m0.0052\u001b[0m       0.9994        \u001b[31m0.0053\u001b[0m  1.5992\n",
      "     22               \u001b[36m0.7973\u001b[0m        \u001b[32m0.0050\u001b[0m       \u001b[35m0.9995\u001b[0m        \u001b[31m0.0052\u001b[0m  1.5537\n",
      "     23               \u001b[36m0.7979\u001b[0m        \u001b[32m0.0049\u001b[0m       0.9994        \u001b[31m0.0051\u001b[0m  1.4993\n",
      "     24               0.7962        \u001b[32m0.0048\u001b[0m       0.9994        \u001b[31m0.0051\u001b[0m  1.4882\n",
      "     25               0.7923        \u001b[32m0.0046\u001b[0m       0.9995        \u001b[31m0.0050\u001b[0m  1.4794\n",
      "     26               \u001b[36m0.8023\u001b[0m        \u001b[32m0.0044\u001b[0m       0.9994        \u001b[31m0.0049\u001b[0m  1.4800\n",
      "     27               0.7963        \u001b[32m0.0043\u001b[0m       0.9994        \u001b[31m0.0048\u001b[0m  1.4257\n",
      "     28               0.7979        \u001b[32m0.0043\u001b[0m       0.9995        \u001b[31m0.0047\u001b[0m  1.5079\n",
      "     29               0.7927        \u001b[32m0.0041\u001b[0m       0.9994        \u001b[31m0.0047\u001b[0m  1.4837\n",
      "     30               0.8007        \u001b[32m0.0040\u001b[0m       0.9994        \u001b[31m0.0046\u001b[0m  1.4811\n",
      "     31               0.7900        \u001b[32m0.0038\u001b[0m       0.9993        0.0048  1.5339\n",
      "     32               0.7698        0.0039       0.9994        0.0050  1.4850\n",
      "     33               0.7836        0.0038       0.9994        0.0047  1.4752\n",
      "     34               0.7967        \u001b[32m0.0036\u001b[0m       0.9993        \u001b[31m0.0045\u001b[0m  1.5307\n",
      "     35               \u001b[36m0.8071\u001b[0m        \u001b[32m0.0035\u001b[0m       0.9994        \u001b[31m0.0042\u001b[0m  1.3733\n",
      "     36               \u001b[36m0.8082\u001b[0m        \u001b[32m0.0035\u001b[0m       0.9994        0.0042  1.5167\n",
      "     37               \u001b[36m0.8164\u001b[0m        0.0036       0.9994        \u001b[31m0.0041\u001b[0m  1.4996\n",
      "     38               \u001b[36m0.8167\u001b[0m        \u001b[32m0.0033\u001b[0m       0.9994        \u001b[31m0.0041\u001b[0m  1.4971\n",
      "     39               \u001b[36m0.8170\u001b[0m        \u001b[32m0.0033\u001b[0m       0.9994        \u001b[31m0.0040\u001b[0m  1.4915\n",
      "     40               \u001b[36m0.8194\u001b[0m        \u001b[32m0.0033\u001b[0m       0.9995        \u001b[31m0.0039\u001b[0m  1.5041\n",
      "     41               0.8170        \u001b[32m0.0033\u001b[0m       0.9994        \u001b[31m0.0039\u001b[0m  1.5694\n",
      "     42               0.8179        \u001b[32m0.0031\u001b[0m       0.9994        \u001b[31m0.0039\u001b[0m  1.4465\n",
      "     43               0.8152        \u001b[32m0.0031\u001b[0m       0.9994        0.0039  1.4802\n",
      "     44               0.8161        \u001b[32m0.0031\u001b[0m       0.9994        0.0040  1.4968\n",
      "     45               0.8138        \u001b[32m0.0030\u001b[0m       0.9994        \u001b[31m0.0038\u001b[0m  1.5056\n",
      "     46               \u001b[36m0.8215\u001b[0m        0.0030       0.9994        0.0038  1.5106\n",
      "     47               0.8178        \u001b[32m0.0029\u001b[0m       0.9994        \u001b[31m0.0038\u001b[0m  1.5535\n",
      "     48               \u001b[36m0.8259\u001b[0m        \u001b[32m0.0029\u001b[0m       0.9995        \u001b[31m0.0037\u001b[0m  1.4720\n",
      "     49               0.8162        \u001b[32m0.0028\u001b[0m       0.9994        0.0038  1.6318\n",
      "     50               0.8135        0.0028       0.9994        0.0037  1.5397\n",
      "     51               0.8236        0.0028       0.9994        \u001b[31m0.0036\u001b[0m  1.5042\n",
      "     52               \u001b[36m0.8267\u001b[0m        0.0029       0.9994        0.0037  1.5452\n",
      "     53               0.8252        \u001b[32m0.0027\u001b[0m       0.9994        \u001b[31m0.0036\u001b[0m  1.4649\n",
      "     54               \u001b[36m0.8300\u001b[0m        \u001b[32m0.0027\u001b[0m       0.9994        \u001b[31m0.0035\u001b[0m  1.5645\n",
      "     55               0.8240        \u001b[32m0.0027\u001b[0m       0.9993        0.0037  1.5096\n",
      "     56               0.8208        \u001b[32m0.0026\u001b[0m       0.9995        0.0035  1.5004\n",
      "     57               0.8174        \u001b[32m0.0026\u001b[0m       0.9994        0.0037  1.5308\n",
      "     58               0.8266        \u001b[32m0.0026\u001b[0m       0.9994        0.0036  1.4936\n",
      "     59               0.8237        0.0026       0.9994        0.0037  1.4996\n",
      "     60               0.8259        \u001b[32m0.0025\u001b[0m       0.9994        \u001b[31m0.0035\u001b[0m  1.5452\n",
      "     61               0.8252        \u001b[32m0.0025\u001b[0m       0.9994        0.0035  1.5009\n",
      "     62               \u001b[36m0.8307\u001b[0m        0.0025       0.9994        \u001b[31m0.0034\u001b[0m  1.5008\n",
      "     63               0.8287        0.0025       \u001b[35m0.9995\u001b[0m        0.0034  1.5024\n",
      "     64               0.8280        0.0025       0.9994        0.0035  1.5375\n",
      "     65               \u001b[36m0.8325\u001b[0m        \u001b[32m0.0024\u001b[0m       0.9995        \u001b[31m0.0033\u001b[0m  1.5333\n",
      "     66               \u001b[36m0.8340\u001b[0m        \u001b[32m0.0024\u001b[0m       0.9994        0.0034  1.5192\n",
      "     67               0.8202        \u001b[32m0.0024\u001b[0m       0.9994        0.0034  1.4950\n",
      "     68               0.8313        0.0025       0.9994        0.0033  1.5058\n",
      "     69               0.8211        0.0024       0.9994        0.0035  1.5712\n",
      "     70               0.8294        0.0024       0.9994        0.0034  1.4961\n",
      "     71               0.8303        \u001b[32m0.0023\u001b[0m       0.9994        0.0034  1.5090\n",
      "     72               0.8282        \u001b[32m0.0023\u001b[0m       0.9994        0.0033  1.5333\n",
      "     73               0.8295        0.0023       0.9994        0.0033  1.5315\n",
      "     74               0.8326        \u001b[32m0.0022\u001b[0m       0.9994        0.0033  1.5224\n",
      "     75               0.8079        0.0023       0.9994        0.0036  1.5111\n",
      "     76               0.8232        0.0023       0.9994        0.0034  1.4758\n",
      "     77               0.8306        0.0022       0.9995        \u001b[31m0.0033\u001b[0m  1.4761\n",
      "     78               0.8317        \u001b[32m0.0022\u001b[0m       0.9995        \u001b[31m0.0032\u001b[0m  1.4584\n",
      "     79               0.8163        0.0022       0.9994        0.0036  1.4853\n",
      "     80               0.8092        0.0023       0.9994        0.0036  1.4807\n",
      "     81               0.8268        0.0023       0.9994        0.0033  1.5156\n",
      "     82               0.8330        \u001b[32m0.0022\u001b[0m       0.9995        \u001b[31m0.0032\u001b[0m  1.4620\n",
      "     83               0.8330        \u001b[32m0.0021\u001b[0m       0.9994        0.0033  1.4955\n",
      "     84               \u001b[36m0.8345\u001b[0m        0.0023       0.9994        0.0034  1.4273\n",
      "     85               0.8290        0.0022       0.9994        0.0033  1.4737\n",
      "     86               0.8339        0.0022       0.9995        \u001b[31m0.0031\u001b[0m  1.4954\n",
      "     87               \u001b[36m0.8351\u001b[0m        0.0022       0.9995        0.0032  1.5445\n",
      "     88               \u001b[36m0.8367\u001b[0m        0.0022       0.9995        \u001b[31m0.0031\u001b[0m  1.6364\n",
      "     89               \u001b[36m0.8388\u001b[0m        0.0022       0.9995        0.0031  1.4543\n",
      "     90               0.8387        \u001b[32m0.0021\u001b[0m       0.9994        0.0032  1.4791\n",
      "     91               0.8355        0.0021       0.9994        0.0033  1.4659\n",
      "     92               0.8338        0.0021       0.9994        0.0032  1.4842\n",
      "     93               0.8273        \u001b[32m0.0021\u001b[0m       0.9995        0.0032  1.4781\n",
      "     94               0.8375        0.0021       0.9995        \u001b[31m0.0031\u001b[0m  1.4604\n",
      "     95               0.8218        0.0022       0.9994        0.0035  1.5605\n",
      "     96               0.8338        0.0021       0.9994        0.0032  1.5052\n",
      "     97               0.8385        0.0021       0.9995        \u001b[31m0.0031\u001b[0m  1.4919\n",
      "     98               0.8351        0.0021       0.9995        0.0031  1.4775\n",
      "     99               0.8359        \u001b[32m0.0020\u001b[0m       0.9995        0.0031  1.4882\n",
      "    100               0.8206        \u001b[32m0.0020\u001b[0m       0.9994        0.0033  1.4858\n",
      "    101               0.8357        0.0021       0.9994        0.0031  1.5226\n",
      "    102               0.8346        \u001b[32m0.0020\u001b[0m       0.9995        0.0031  1.4373\n",
      "    103               0.8349        0.0021       0.9994        0.0031  1.4535\n",
      "    104               0.8351        0.0021       0.9994        0.0031  1.4544\n",
      "    105               \u001b[36m0.8397\u001b[0m        0.0021       0.9995        \u001b[31m0.0030\u001b[0m  1.4944\n",
      "    106               0.8386        0.0021       0.9995        0.0030  1.5063\n",
      "    107               0.8337        0.0020       0.9994        0.0033  1.4748\n",
      "    108               0.8368        0.0020       0.9993        0.0031  1.5135\n",
      "    109               \u001b[36m0.8398\u001b[0m        0.0021       0.9994        0.0031  1.5210\n",
      "    110               0.8368        0.0021       0.9995        \u001b[31m0.0030\u001b[0m  1.5372\n",
      "    111               0.8342        \u001b[32m0.0020\u001b[0m       0.9995        0.0031  1.5072\n",
      "    112               0.8341        0.0020       0.9994        0.0032  1.4812\n",
      "    113               \u001b[36m0.8407\u001b[0m        0.0020       0.9995        0.0030  1.4923\n",
      "    114               0.8304        0.0020       0.9994        0.0032  1.5450\n",
      "    115               0.8392        0.0021       0.9995        \u001b[31m0.0030\u001b[0m  1.5163\n",
      "    116               0.8387        \u001b[32m0.0020\u001b[0m       0.9995        \u001b[31m0.0030\u001b[0m  1.6007\n",
      "    117               0.8263        0.0020       0.9994        0.0034  1.8245\n",
      "    118               \u001b[36m0.8407\u001b[0m        0.0021       0.9994        0.0030  1.5635\n",
      "    119               0.8396        \u001b[32m0.0019\u001b[0m       0.9995        0.0031  1.4899\n",
      "    120               0.8366        0.0020       0.9994        0.0031  1.4790\n",
      "    121               0.8405        0.0021       0.9995        0.0030  1.5372\n",
      "    122               0.8363        0.0020       0.9995        0.0030  1.4538\n",
      "    123               0.8390        \u001b[32m0.0019\u001b[0m       0.9994        0.0030  1.4559\n",
      "    124               0.8369        0.0020       0.9994        \u001b[31m0.0030\u001b[0m  1.4429\n",
      "    125               0.8331        0.0021       0.9994        0.0031  1.4636\n",
      "    126               0.8390        0.0021       0.9995        \u001b[31m0.0030\u001b[0m  1.4781\n",
      "    127               \u001b[36m0.8418\u001b[0m        0.0019       0.9995        \u001b[31m0.0029\u001b[0m  1.5415\n",
      "    128               0.8370        0.0020       0.9995        0.0030  1.4608\n",
      "    129               0.8381        0.0020       0.9995        0.0030  1.4721\n",
      "    130               0.8379        0.0020       0.9995        0.0030  1.4904\n",
      "    131               0.8385        0.0020       0.9995        0.0029  1.4622\n",
      "    132               0.8407        0.0021       0.9995        0.0030  1.4815\n",
      "    133               0.8398        0.0020       0.9995        0.0030  1.4668\n",
      "    134               0.8398        0.0020       0.9995        0.0030  1.5795\n",
      "    135               0.8402        \u001b[32m0.0019\u001b[0m       0.9995        0.0030  1.4442\n",
      "    136               0.8350        0.0020       0.9995        0.0030  1.4753\n",
      "    137               0.8305        0.0020       0.9995        0.0031  1.5444\n",
      "    138               0.8387        0.0020       0.9995        0.0030  1.4657\n",
      "    139               0.8380        0.0020       0.9995        0.0029  1.4839\n",
      "    140               0.8361        0.0020       0.9994        0.0030  1.4530\n",
      "    141               0.8363        0.0020       0.9995        0.0030  1.4889\n",
      "    142               0.8376        0.0021       0.9995        0.0030  1.4872\n",
      "    143               0.8367        0.0020       0.9995        0.0030  1.4947\n",
      "    144               0.8383        0.0019       0.9995        0.0030  1.4959\n",
      "    145               0.8356        0.0020       0.9995        0.0031  1.4877\n",
      "    146               0.8376        0.0020       \u001b[35m0.9995\u001b[0m        0.0029  1.4897\n",
      "    147               0.8357        0.0020       0.9994        0.0030  1.5566\n",
      "    148               0.8371        0.0020       0.9995        0.0029  1.4606\n",
      "    149               0.8363        0.0020       0.9994        0.0031  1.4662\n",
      "    150               0.8338        0.0020       0.9994        0.0031  1.5060\n",
      "    151               0.8388        0.0020       0.9994        0.0030  1.4931\n",
      "    152               0.8409        0.0021       0.9994        0.0030  1.4607\n",
      "    153               0.8338        0.0020       0.9994        0.0030  1.5514\n",
      "    154               0.8364        0.0021       0.9994        0.0030  1.6104\n",
      "    155               0.8357        0.0020       0.9995        0.0030  1.4698\n",
      "    156               0.8371        0.0020       0.9995        0.0030  1.5253\n",
      "    157               0.8369        0.0020       0.9995        0.0030  1.5352\n",
      "    158               0.8302        0.0020       0.9994        0.0031  1.4907\n",
      "    159               0.8346        0.0020       0.9995        0.0030  1.4892\n",
      "    160               0.8257        0.0020       0.9994        0.0031  1.5202\n",
      "Epoch 00161: reducing learning rate of group 0 to 1.3501e-04.\n",
      "    161               0.8377        0.0020       0.9994        0.0030  1.5250\n",
      "    162               0.8376        0.0019       0.9995        0.0029  1.4840\n",
      "    163               0.8379        \u001b[32m0.0019\u001b[0m       0.9995        \u001b[31m0.0029\u001b[0m  1.5121\n",
      "    164               0.8380        \u001b[32m0.0019\u001b[0m       0.9995        0.0030  1.4900\n",
      "    165               0.8386        0.0019       0.9995        \u001b[31m0.0029\u001b[0m  1.5000\n",
      "    166               0.8367        \u001b[32m0.0019\u001b[0m       0.9995        0.0029  1.6024\n",
      "    167               0.8373        0.0019       0.9995        0.0029  1.5270\n",
      "    168               0.8380        0.0019       0.9995        0.0029  1.5635\n",
      "    169               0.8377        0.0019       0.9995        0.0029  1.5071\n",
      "    170               0.8376        \u001b[32m0.0019\u001b[0m       0.9995        0.0029  1.4938\n",
      "    171               0.8376        0.0019       0.9995        0.0029  1.4034\n",
      "    172               0.8357        0.0019       0.9995        0.0030  1.4073\n",
      "    173               0.8378        0.0019       0.9995        0.0029  1.4779\n",
      "    174               0.8374        0.0019       0.9995        0.0029  1.4770\n",
      "    175               0.8372        0.0019       0.9995        0.0029  1.5402\n",
      "    176               0.8371        0.0019       0.9995        0.0029  1.4952\n",
      "Stopping since average_precision has not improved in the last 50 epochs.\n",
      "Restoring best model from epoch 127.\n",
      "CPU times: user 10min 40s, sys: 9min 55s, total: 20min 35s\n",
      "Wall time: 4min 28s\n"
     ]
    }
   ],
   "source": [
    "%%time\n",
    "valid_dataset = Dataset(X_test_.values.astype(np.float32),Y_test_.astype(np.float32))\n",
    "TabSRA = TabSRALinearClassifier(**other_params,train_split = predefined_split(valid_dataset),callbacks = call_b)#,\n",
    "_ = TabSRA.fit(X_train_.values.astype(np.float32),Y_train_.astype(np.float32))"
   ]
  },
  {
   "cell_type": "code",
   "execution_count": 26,
   "id": "de81d178-786a-412a-af18-f7892eb1789f",
   "metadata": {},
   "outputs": [
    {
     "name": "stdout",
     "output_type": "stream",
     "text": [
      "--AUCROC perf = 0.9532959512647534 -- AUCPR perf = 0.8435589163670087\n"
     ]
    }
   ],
   "source": [
    "# Inference on the test set. the Predict function will return the ouptut scores and the attention weights as Model.get_attention is True\n",
    "pred_tabsra = TabSRA.predict_proba(X_test_.values.astype(np.float32))[:,1]\n",
    "\n",
    "best_aucroc = roc_auc_score(Y_test_, pred_tabsra) \n",
    "best_aurpr = average_precision_score(Y_test_, pred_tabsra) \n",
    "print(f\"--AUCROC perf = {best_aucroc} -- AUCPR perf = {best_aurpr}\")"
   ]
  },
  {
   "cell_type": "code",
   "execution_count": 27,
   "id": "90b78672-2498-41bd-a5d5-9195da23f3e3",
   "metadata": {},
   "outputs": [
    {
     "data": {
      "text/html": [
       "<div>\n",
       "<style scoped>\n",
       "    .dataframe tbody tr th:only-of-type {\n",
       "        vertical-align: middle;\n",
       "    }\n",
       "\n",
       "    .dataframe tbody tr th {\n",
       "        vertical-align: top;\n",
       "    }\n",
       "\n",
       "    .dataframe thead th {\n",
       "        text-align: right;\n",
       "    }\n",
       "</style>\n",
       "<table border=\"1\" class=\"dataframe\">\n",
       "  <thead>\n",
       "    <tr style=\"text-align: right;\">\n",
       "      <th></th>\n",
       "      <th>V1</th>\n",
       "      <th>V2</th>\n",
       "      <th>V3</th>\n",
       "      <th>V4</th>\n",
       "      <th>V5</th>\n",
       "      <th>V6</th>\n",
       "      <th>V7</th>\n",
       "      <th>V8</th>\n",
       "      <th>V9</th>\n",
       "      <th>V10</th>\n",
       "      <th>V11</th>\n",
       "      <th>V12</th>\n",
       "      <th>V13</th>\n",
       "      <th>V14</th>\n",
       "      <th>V15</th>\n",
       "      <th>V16</th>\n",
       "      <th>V17</th>\n",
       "      <th>V18</th>\n",
       "      <th>V19</th>\n",
       "      <th>V20</th>\n",
       "      <th>V21</th>\n",
       "      <th>V22</th>\n",
       "      <th>V23</th>\n",
       "      <th>V24</th>\n",
       "      <th>V25</th>\n",
       "      <th>V26</th>\n",
       "      <th>V27</th>\n",
       "      <th>V28</th>\n",
       "      <th>Amount</th>\n",
       "    </tr>\n",
       "  </thead>\n",
       "  <tbody>\n",
       "    <tr>\n",
       "      <th>0</th>\n",
       "      <td>-1.968044</td>\n",
       "      <td>0.994672</td>\n",
       "      <td>-1.190278</td>\n",
       "      <td>1.178692</td>\n",
       "      <td>-1.210035</td>\n",
       "      <td>1.605707</td>\n",
       "      <td>-1.309882</td>\n",
       "      <td>-0.441466</td>\n",
       "      <td>0.758051</td>\n",
       "      <td>-0.688957</td>\n",
       "      <td>-1.318433</td>\n",
       "      <td>0.9174</td>\n",
       "      <td>-0.665858</td>\n",
       "      <td>-0.851778</td>\n",
       "      <td>-1.415205</td>\n",
       "      <td>-0.900732</td>\n",
       "      <td>1.124458</td>\n",
       "      <td>-1.101885</td>\n",
       "      <td>0.768821</td>\n",
       "      <td>-0.584868</td>\n",
       "      <td>1.01632</td>\n",
       "      <td>-1.224642</td>\n",
       "      <td>0.447629</td>\n",
       "      <td>0.994145</td>\n",
       "      <td>1.379348</td>\n",
       "      <td>-1.224864</td>\n",
       "      <td>0.257821</td>\n",
       "      <td>0.100005</td>\n",
       "      <td>-0.430562</td>\n",
       "    </tr>\n",
       "  </tbody>\n",
       "</table>\n",
       "</div>"
      ],
      "text/plain": [
       "         V1        V2        V3        V4        V5        V6        V7  \\\n",
       "0 -1.968044  0.994672 -1.190278  1.178692 -1.210035  1.605707 -1.309882   \n",
       "\n",
       "         V8        V9       V10       V11     V12       V13       V14  \\\n",
       "0 -0.441466  0.758051 -0.688957 -1.318433  0.9174 -0.665858 -0.851778   \n",
       "\n",
       "        V15       V16       V17       V18       V19       V20      V21  \\\n",
       "0 -1.415205 -0.900732  1.124458 -1.101885  0.768821 -0.584868  1.01632   \n",
       "\n",
       "        V22       V23       V24       V25       V26       V27       V28  \\\n",
       "0 -1.224642  0.447629  0.994145  1.379348 -1.224864  0.257821  0.100005   \n",
       "\n",
       "     Amount  \n",
       "0 -0.430562  "
      ]
     },
     "execution_count": 27,
     "metadata": {},
     "output_type": "execute_result"
    }
   ],
   "source": [
    "Coef  = pd.DataFrame(TabSRA.get_weights()[0])\n",
    "Coef = Coef.T\n",
    "Coef.columns=feature_names\n",
    "Coef"
   ]
  },
  {
   "cell_type": "markdown",
   "id": "72af0eb1-646b-4f57-9deb-6cc304bf5f8d",
   "metadata": {},
   "source": [
    "### XGBoost"
   ]
  },
  {
   "cell_type": "code",
   "execution_count": 28,
   "id": "ec8459f0-4ad5-4458-8573-8254e11aaac5",
   "metadata": {},
   "outputs": [
    {
     "name": "stderr",
     "output_type": "stream",
     "text": [
      "/home/kodjo/anaconda3/lib/python3.9/site-packages/xgboost/compat.py:36: FutureWarning: pandas.Int64Index is deprecated and will be removed from pandas in a future version. Use pandas.Index with the appropriate dtype instead.\n",
      "  from pandas import MultiIndex, Int64Index\n"
     ]
    }
   ],
   "source": [
    "from xgboost import XGBClassifier\n",
    "import xgboost as xgb"
   ]
  },
  {
   "cell_type": "code",
   "execution_count": 29,
   "id": "a2272e98-4ce4-4869-a759-49cbb1cb2530",
   "metadata": {},
   "outputs": [],
   "source": [
    "static_params = {\n",
    "                 'random_state':42,\n",
    "                 'objective': 'binary:logistic',\n",
    "                 'n_jobs': -1,\n",
    "                 #'base_score':y.mean()\n",
    "\n",
    "}\n",
    "\n",
    "params = {'eta': 0.08507671904675652, 'max_depth': 5, 'colsample_bytree': 1.0, 'subsample': 0.8, 'n_estimators': 1000, 'min_child_weight': 2}\n",
    "\n",
    "\n",
    "\n",
    "params.update(static_params)"
   ]
  },
  {
   "cell_type": "code",
   "execution_count": 30,
   "id": "037dc1ca-95f0-4d4b-8e9b-56c3a031962a",
   "metadata": {},
   "outputs": [],
   "source": [
    "model_xgb = XGBClassifier(**params)"
   ]
  },
  {
   "cell_type": "code",
   "execution_count": 31,
   "id": "07b84507-14b3-4e2b-85f9-67b14c4214c6",
   "metadata": {
    "tags": []
   },
   "outputs": [
    {
     "name": "stderr",
     "output_type": "stream",
     "text": [
      "/home/kodjo/anaconda3/lib/python3.9/site-packages/xgboost/sklearn.py:1224: UserWarning: The use of label encoder in XGBClassifier is deprecated and will be removed in a future release. To remove this warning, do the following: 1) Pass option use_label_encoder=False when constructing XGBClassifier object; and 2) Encode your labels (y) as integers starting with 0, i.e. 0, 1, 2, ..., [num_class - 1].\n",
      "  warnings.warn(label_encoder_deprecation_msg, UserWarning)\n"
     ]
    },
    {
     "name": "stdout",
     "output_type": "stream",
     "text": [
      "CPU times: user 8min 39s, sys: 2.02 s, total: 8min 41s\n",
      "Wall time: 33.5 s\n"
     ]
    },
    {
     "data": {
      "text/html": [
       "<style>#sk-container-id-1 {color: black;background-color: white;}#sk-container-id-1 pre{padding: 0;}#sk-container-id-1 div.sk-toggleable {background-color: white;}#sk-container-id-1 label.sk-toggleable__label {cursor: pointer;display: block;width: 100%;margin-bottom: 0;padding: 0.3em;box-sizing: border-box;text-align: center;}#sk-container-id-1 label.sk-toggleable__label-arrow:before {content: \"▸\";float: left;margin-right: 0.25em;color: #696969;}#sk-container-id-1 label.sk-toggleable__label-arrow:hover:before {color: black;}#sk-container-id-1 div.sk-estimator:hover label.sk-toggleable__label-arrow:before {color: black;}#sk-container-id-1 div.sk-toggleable__content {max-height: 0;max-width: 0;overflow: hidden;text-align: left;background-color: #f0f8ff;}#sk-container-id-1 div.sk-toggleable__content pre {margin: 0.2em;color: black;border-radius: 0.25em;background-color: #f0f8ff;}#sk-container-id-1 input.sk-toggleable__control:checked~div.sk-toggleable__content {max-height: 200px;max-width: 100%;overflow: auto;}#sk-container-id-1 input.sk-toggleable__control:checked~label.sk-toggleable__label-arrow:before {content: \"▾\";}#sk-container-id-1 div.sk-estimator input.sk-toggleable__control:checked~label.sk-toggleable__label {background-color: #d4ebff;}#sk-container-id-1 div.sk-label input.sk-toggleable__control:checked~label.sk-toggleable__label {background-color: #d4ebff;}#sk-container-id-1 input.sk-hidden--visually {border: 0;clip: rect(1px 1px 1px 1px);clip: rect(1px, 1px, 1px, 1px);height: 1px;margin: -1px;overflow: hidden;padding: 0;position: absolute;width: 1px;}#sk-container-id-1 div.sk-estimator {font-family: monospace;background-color: #f0f8ff;border: 1px dotted black;border-radius: 0.25em;box-sizing: border-box;margin-bottom: 0.5em;}#sk-container-id-1 div.sk-estimator:hover {background-color: #d4ebff;}#sk-container-id-1 div.sk-parallel-item::after {content: \"\";width: 100%;border-bottom: 1px solid gray;flex-grow: 1;}#sk-container-id-1 div.sk-label:hover label.sk-toggleable__label {background-color: #d4ebff;}#sk-container-id-1 div.sk-serial::before {content: \"\";position: absolute;border-left: 1px solid gray;box-sizing: border-box;top: 0;bottom: 0;left: 50%;z-index: 0;}#sk-container-id-1 div.sk-serial {display: flex;flex-direction: column;align-items: center;background-color: white;padding-right: 0.2em;padding-left: 0.2em;position: relative;}#sk-container-id-1 div.sk-item {position: relative;z-index: 1;}#sk-container-id-1 div.sk-parallel {display: flex;align-items: stretch;justify-content: center;background-color: white;position: relative;}#sk-container-id-1 div.sk-item::before, #sk-container-id-1 div.sk-parallel-item::before {content: \"\";position: absolute;border-left: 1px solid gray;box-sizing: border-box;top: 0;bottom: 0;left: 50%;z-index: -1;}#sk-container-id-1 div.sk-parallel-item {display: flex;flex-direction: column;z-index: 1;position: relative;background-color: white;}#sk-container-id-1 div.sk-parallel-item:first-child::after {align-self: flex-end;width: 50%;}#sk-container-id-1 div.sk-parallel-item:last-child::after {align-self: flex-start;width: 50%;}#sk-container-id-1 div.sk-parallel-item:only-child::after {width: 0;}#sk-container-id-1 div.sk-dashed-wrapped {border: 1px dashed gray;margin: 0 0.4em 0.5em 0.4em;box-sizing: border-box;padding-bottom: 0.4em;background-color: white;}#sk-container-id-1 div.sk-label label {font-family: monospace;font-weight: bold;display: inline-block;line-height: 1.2em;}#sk-container-id-1 div.sk-label-container {text-align: center;}#sk-container-id-1 div.sk-container {/* jupyter's `normalize.less` sets `[hidden] { display: none; }` but bootstrap.min.css set `[hidden] { display: none !important; }` so we also need the `!important` here to be able to override the default hidden behavior on the sphinx rendered scikit-learn.org. See: https://github.com/scikit-learn/scikit-learn/issues/21755 */display: inline-block !important;position: relative;}#sk-container-id-1 div.sk-text-repr-fallback {display: none;}</style><div id=\"sk-container-id-1\" class=\"sk-top-container\"><div class=\"sk-text-repr-fallback\"><pre>XGBClassifier(base_score=0.5, booster=&#x27;gbtree&#x27;, colsample_bylevel=1,\n",
       "              colsample_bynode=1, colsample_bytree=1.0,\n",
       "              enable_categorical=False, eta=0.08507671904675652, gamma=0,\n",
       "              gpu_id=-1, importance_type=None, interaction_constraints=&#x27;&#x27;,\n",
       "              learning_rate=0.0850767195, max_delta_step=0, max_depth=5,\n",
       "              min_child_weight=2, missing=nan, monotone_constraints=&#x27;()&#x27;,\n",
       "              n_estimators=1000, n_jobs=-1, num_parallel_tree=1,\n",
       "              predictor=&#x27;auto&#x27;, random_state=42, reg_alpha=0, reg_lambda=1,\n",
       "              scale_pos_weight=1, subsample=0.8, tree_method=&#x27;exact&#x27;,\n",
       "              validate_parameters=1, verbosity=None)</pre><b>In a Jupyter environment, please rerun this cell to show the HTML representation or trust the notebook. <br />On GitHub, the HTML representation is unable to render, please try loading this page with nbviewer.org.</b></div><div class=\"sk-container\" hidden><div class=\"sk-item\"><div class=\"sk-estimator sk-toggleable\"><input class=\"sk-toggleable__control sk-hidden--visually\" id=\"sk-estimator-id-1\" type=\"checkbox\" checked><label for=\"sk-estimator-id-1\" class=\"sk-toggleable__label sk-toggleable__label-arrow\">XGBClassifier</label><div class=\"sk-toggleable__content\"><pre>XGBClassifier(base_score=0.5, booster=&#x27;gbtree&#x27;, colsample_bylevel=1,\n",
       "              colsample_bynode=1, colsample_bytree=1.0,\n",
       "              enable_categorical=False, eta=0.08507671904675652, gamma=0,\n",
       "              gpu_id=-1, importance_type=None, interaction_constraints=&#x27;&#x27;,\n",
       "              learning_rate=0.0850767195, max_delta_step=0, max_depth=5,\n",
       "              min_child_weight=2, missing=nan, monotone_constraints=&#x27;()&#x27;,\n",
       "              n_estimators=1000, n_jobs=-1, num_parallel_tree=1,\n",
       "              predictor=&#x27;auto&#x27;, random_state=42, reg_alpha=0, reg_lambda=1,\n",
       "              scale_pos_weight=1, subsample=0.8, tree_method=&#x27;exact&#x27;,\n",
       "              validate_parameters=1, verbosity=None)</pre></div></div></div></div></div>"
      ],
      "text/plain": [
       "XGBClassifier(base_score=0.5, booster='gbtree', colsample_bylevel=1,\n",
       "              colsample_bynode=1, colsample_bytree=1.0,\n",
       "              enable_categorical=False, eta=0.08507671904675652, gamma=0,\n",
       "              gpu_id=-1, importance_type=None, interaction_constraints='',\n",
       "              learning_rate=0.0850767195, max_delta_step=0, max_depth=5,\n",
       "              min_child_weight=2, missing=nan, monotone_constraints='()',\n",
       "              n_estimators=1000, n_jobs=-1, num_parallel_tree=1,\n",
       "              predictor='auto', random_state=42, reg_alpha=0, reg_lambda=1,\n",
       "              scale_pos_weight=1, subsample=0.8, tree_method='exact',\n",
       "              validate_parameters=1, verbosity=None)"
      ]
     },
     "execution_count": 31,
     "metadata": {},
     "output_type": "execute_result"
    }
   ],
   "source": [
    "%%time\n",
    "eval_set = [(X_train_.values, Y_train_), (X_test_.values, Y_test_)] #(X_train, Y_train[:,1]), \n",
    "model_xgb.fit(X_train_.values, Y_train_, eval_metric=['aucpr'], eval_set=eval_set, verbose=0,early_stopping_rounds=50)"
   ]
  },
  {
   "cell_type": "code",
   "execution_count": 32,
   "id": "cc9eafe4-73b1-4310-98c8-f82333f9ab7a",
   "metadata": {},
   "outputs": [
    {
     "name": "stdout",
     "output_type": "stream",
     "text": [
      "--AUCROC perf = 0.9845643534158034 -- AUCPR perf = 0.8481114604641594\n"
     ]
    }
   ],
   "source": [
    "pred_xgb = model_xgb.predict_proba(X_test_)[:,1]\n",
    "best_aucroc_xgb = roc_auc_score(Y_test_, pred_xgb) \n",
    "best_aurpr_xgb = average_precision_score(Y_test_, pred_xgb) \n",
    "print(f\"--AUCROC perf = {best_aucroc_xgb} -- AUCPR perf = {best_aurpr_xgb}\")"
   ]
  },
  {
   "cell_type": "markdown",
   "id": "5368c205-95c6-4b6e-ad41-a5c8722f61bb",
   "metadata": {},
   "source": [
    "### EBM"
   ]
  },
  {
   "cell_type": "code",
   "execution_count": 34,
   "id": "10518a11-8b27-4d46-b4f6-141415a23ba4",
   "metadata": {},
   "outputs": [
    {
     "name": "stderr",
     "output_type": "stream",
     "text": [
      "/home/kodjo/anaconda3/lib/python3.9/site-packages/interpret/glassbox/_ebm/_ebm.py:426: UserWarning: If validation_size is 0, the outer_bags have no purpose. Set outer_bags=1 to remove this warning.\n",
      "  warn(\n"
     ]
    },
    {
     "name": "stdout",
     "output_type": "stream",
     "text": [
      "CPU times: user 8.91 s, sys: 424 ms, total: 9.34 s\n",
      "Wall time: 1min 27s\n"
     ]
    },
    {
     "data": {
      "text/html": [
       "<style>#sk-container-id-2 {color: black;background-color: white;}#sk-container-id-2 pre{padding: 0;}#sk-container-id-2 div.sk-toggleable {background-color: white;}#sk-container-id-2 label.sk-toggleable__label {cursor: pointer;display: block;width: 100%;margin-bottom: 0;padding: 0.3em;box-sizing: border-box;text-align: center;}#sk-container-id-2 label.sk-toggleable__label-arrow:before {content: \"▸\";float: left;margin-right: 0.25em;color: #696969;}#sk-container-id-2 label.sk-toggleable__label-arrow:hover:before {color: black;}#sk-container-id-2 div.sk-estimator:hover label.sk-toggleable__label-arrow:before {color: black;}#sk-container-id-2 div.sk-toggleable__content {max-height: 0;max-width: 0;overflow: hidden;text-align: left;background-color: #f0f8ff;}#sk-container-id-2 div.sk-toggleable__content pre {margin: 0.2em;color: black;border-radius: 0.25em;background-color: #f0f8ff;}#sk-container-id-2 input.sk-toggleable__control:checked~div.sk-toggleable__content {max-height: 200px;max-width: 100%;overflow: auto;}#sk-container-id-2 input.sk-toggleable__control:checked~label.sk-toggleable__label-arrow:before {content: \"▾\";}#sk-container-id-2 div.sk-estimator input.sk-toggleable__control:checked~label.sk-toggleable__label {background-color: #d4ebff;}#sk-container-id-2 div.sk-label input.sk-toggleable__control:checked~label.sk-toggleable__label {background-color: #d4ebff;}#sk-container-id-2 input.sk-hidden--visually {border: 0;clip: rect(1px 1px 1px 1px);clip: rect(1px, 1px, 1px, 1px);height: 1px;margin: -1px;overflow: hidden;padding: 0;position: absolute;width: 1px;}#sk-container-id-2 div.sk-estimator {font-family: monospace;background-color: #f0f8ff;border: 1px dotted black;border-radius: 0.25em;box-sizing: border-box;margin-bottom: 0.5em;}#sk-container-id-2 div.sk-estimator:hover {background-color: #d4ebff;}#sk-container-id-2 div.sk-parallel-item::after {content: \"\";width: 100%;border-bottom: 1px solid gray;flex-grow: 1;}#sk-container-id-2 div.sk-label:hover label.sk-toggleable__label {background-color: #d4ebff;}#sk-container-id-2 div.sk-serial::before {content: \"\";position: absolute;border-left: 1px solid gray;box-sizing: border-box;top: 0;bottom: 0;left: 50%;z-index: 0;}#sk-container-id-2 div.sk-serial {display: flex;flex-direction: column;align-items: center;background-color: white;padding-right: 0.2em;padding-left: 0.2em;position: relative;}#sk-container-id-2 div.sk-item {position: relative;z-index: 1;}#sk-container-id-2 div.sk-parallel {display: flex;align-items: stretch;justify-content: center;background-color: white;position: relative;}#sk-container-id-2 div.sk-item::before, #sk-container-id-2 div.sk-parallel-item::before {content: \"\";position: absolute;border-left: 1px solid gray;box-sizing: border-box;top: 0;bottom: 0;left: 50%;z-index: -1;}#sk-container-id-2 div.sk-parallel-item {display: flex;flex-direction: column;z-index: 1;position: relative;background-color: white;}#sk-container-id-2 div.sk-parallel-item:first-child::after {align-self: flex-end;width: 50%;}#sk-container-id-2 div.sk-parallel-item:last-child::after {align-self: flex-start;width: 50%;}#sk-container-id-2 div.sk-parallel-item:only-child::after {width: 0;}#sk-container-id-2 div.sk-dashed-wrapped {border: 1px dashed gray;margin: 0 0.4em 0.5em 0.4em;box-sizing: border-box;padding-bottom: 0.4em;background-color: white;}#sk-container-id-2 div.sk-label label {font-family: monospace;font-weight: bold;display: inline-block;line-height: 1.2em;}#sk-container-id-2 div.sk-label-container {text-align: center;}#sk-container-id-2 div.sk-container {/* jupyter's `normalize.less` sets `[hidden] { display: none; }` but bootstrap.min.css set `[hidden] { display: none !important; }` so we also need the `!important` here to be able to override the default hidden behavior on the sphinx rendered scikit-learn.org. See: https://github.com/scikit-learn/scikit-learn/issues/21755 */display: inline-block !important;position: relative;}#sk-container-id-2 div.sk-text-repr-fallback {display: none;}</style><div id=\"sk-container-id-2\" class=\"sk-top-container\"><div class=\"sk-text-repr-fallback\"><pre>ExplainableBoostingClassifier(interactions=0, max_rounds=2500,\n",
       "                              validation_size=0)</pre><b>In a Jupyter environment, please rerun this cell to show the HTML representation or trust the notebook. <br />On GitHub, the HTML representation is unable to render, please try loading this page with nbviewer.org.</b></div><div class=\"sk-container\" hidden><div class=\"sk-item\"><div class=\"sk-estimator sk-toggleable\"><input class=\"sk-toggleable__control sk-hidden--visually\" id=\"sk-estimator-id-2\" type=\"checkbox\" checked><label for=\"sk-estimator-id-2\" class=\"sk-toggleable__label sk-toggleable__label-arrow\">ExplainableBoostingClassifier</label><div class=\"sk-toggleable__content\"><pre>ExplainableBoostingClassifier(interactions=0, max_rounds=2500,\n",
       "                              validation_size=0)</pre></div></div></div></div></div>"
      ],
      "text/plain": [
       "ExplainableBoostingClassifier(interactions=0, max_rounds=2500,\n",
       "                              validation_size=0)"
      ]
     },
     "execution_count": 34,
     "metadata": {},
     "output_type": "execute_result"
    }
   ],
   "source": [
    "%%time\n",
    "EBM_S = ExplainableBoostingClassifier(interactions=0,max_rounds=2500,early_stopping_rounds=50,validation_size=0)#max_bins=256#,inner_bags=100,outer_bags=100 # 10\n",
    "EBM_S.fit(X_train_, Y_train_)"
   ]
  },
  {
   "cell_type": "code",
   "execution_count": 35,
   "id": "8d47b97d-c5e7-4289-844d-3835bac01bed",
   "metadata": {},
   "outputs": [
    {
     "name": "stdout",
     "output_type": "stream",
     "text": [
      "--AUCROC perf = 0.9724736239165658 -- AUCPR perf = 0.8307529781109011\n"
     ]
    }
   ],
   "source": [
    "pred_ebm_s = EBM_S.predict_proba(X_test_)[:,1]\n",
    "best_aucroc_ebm_s = roc_auc_score(Y_test_, pred_ebm_s) \n",
    "best_aurpr_ebm_s = average_precision_score(Y_test_, pred_ebm_s) \n",
    "print(f\"--AUCROC perf = {best_aucroc_ebm_s} -- AUCPR perf = {best_aurpr_ebm_s}\")"
   ]
  },
  {
   "cell_type": "code",
   "execution_count": 36,
   "id": "2b4e4473-4f21-4bc0-8eb1-b96fa4ef3287",
   "metadata": {},
   "outputs": [
    {
     "name": "stderr",
     "output_type": "stream",
     "text": [
      "/home/kodjo/anaconda3/lib/python3.9/site-packages/interpret/glassbox/_ebm/_ebm.py:426: UserWarning: If validation_size is 0, the outer_bags have no purpose. Set outer_bags=1 to remove this warning.\n",
      "  warn(\n"
     ]
    },
    {
     "name": "stdout",
     "output_type": "stream",
     "text": [
      "CPU times: user 10.2 s, sys: 56.3 ms, total: 10.3 s\n",
      "Wall time: 1min 56s\n"
     ]
    },
    {
     "data": {
      "text/html": [
       "<style>#sk-container-id-3 {color: black;background-color: white;}#sk-container-id-3 pre{padding: 0;}#sk-container-id-3 div.sk-toggleable {background-color: white;}#sk-container-id-3 label.sk-toggleable__label {cursor: pointer;display: block;width: 100%;margin-bottom: 0;padding: 0.3em;box-sizing: border-box;text-align: center;}#sk-container-id-3 label.sk-toggleable__label-arrow:before {content: \"▸\";float: left;margin-right: 0.25em;color: #696969;}#sk-container-id-3 label.sk-toggleable__label-arrow:hover:before {color: black;}#sk-container-id-3 div.sk-estimator:hover label.sk-toggleable__label-arrow:before {color: black;}#sk-container-id-3 div.sk-toggleable__content {max-height: 0;max-width: 0;overflow: hidden;text-align: left;background-color: #f0f8ff;}#sk-container-id-3 div.sk-toggleable__content pre {margin: 0.2em;color: black;border-radius: 0.25em;background-color: #f0f8ff;}#sk-container-id-3 input.sk-toggleable__control:checked~div.sk-toggleable__content {max-height: 200px;max-width: 100%;overflow: auto;}#sk-container-id-3 input.sk-toggleable__control:checked~label.sk-toggleable__label-arrow:before {content: \"▾\";}#sk-container-id-3 div.sk-estimator input.sk-toggleable__control:checked~label.sk-toggleable__label {background-color: #d4ebff;}#sk-container-id-3 div.sk-label input.sk-toggleable__control:checked~label.sk-toggleable__label {background-color: #d4ebff;}#sk-container-id-3 input.sk-hidden--visually {border: 0;clip: rect(1px 1px 1px 1px);clip: rect(1px, 1px, 1px, 1px);height: 1px;margin: -1px;overflow: hidden;padding: 0;position: absolute;width: 1px;}#sk-container-id-3 div.sk-estimator {font-family: monospace;background-color: #f0f8ff;border: 1px dotted black;border-radius: 0.25em;box-sizing: border-box;margin-bottom: 0.5em;}#sk-container-id-3 div.sk-estimator:hover {background-color: #d4ebff;}#sk-container-id-3 div.sk-parallel-item::after {content: \"\";width: 100%;border-bottom: 1px solid gray;flex-grow: 1;}#sk-container-id-3 div.sk-label:hover label.sk-toggleable__label {background-color: #d4ebff;}#sk-container-id-3 div.sk-serial::before {content: \"\";position: absolute;border-left: 1px solid gray;box-sizing: border-box;top: 0;bottom: 0;left: 50%;z-index: 0;}#sk-container-id-3 div.sk-serial {display: flex;flex-direction: column;align-items: center;background-color: white;padding-right: 0.2em;padding-left: 0.2em;position: relative;}#sk-container-id-3 div.sk-item {position: relative;z-index: 1;}#sk-container-id-3 div.sk-parallel {display: flex;align-items: stretch;justify-content: center;background-color: white;position: relative;}#sk-container-id-3 div.sk-item::before, #sk-container-id-3 div.sk-parallel-item::before {content: \"\";position: absolute;border-left: 1px solid gray;box-sizing: border-box;top: 0;bottom: 0;left: 50%;z-index: -1;}#sk-container-id-3 div.sk-parallel-item {display: flex;flex-direction: column;z-index: 1;position: relative;background-color: white;}#sk-container-id-3 div.sk-parallel-item:first-child::after {align-self: flex-end;width: 50%;}#sk-container-id-3 div.sk-parallel-item:last-child::after {align-self: flex-start;width: 50%;}#sk-container-id-3 div.sk-parallel-item:only-child::after {width: 0;}#sk-container-id-3 div.sk-dashed-wrapped {border: 1px dashed gray;margin: 0 0.4em 0.5em 0.4em;box-sizing: border-box;padding-bottom: 0.4em;background-color: white;}#sk-container-id-3 div.sk-label label {font-family: monospace;font-weight: bold;display: inline-block;line-height: 1.2em;}#sk-container-id-3 div.sk-label-container {text-align: center;}#sk-container-id-3 div.sk-container {/* jupyter's `normalize.less` sets `[hidden] { display: none; }` but bootstrap.min.css set `[hidden] { display: none !important; }` so we also need the `!important` here to be able to override the default hidden behavior on the sphinx rendered scikit-learn.org. See: https://github.com/scikit-learn/scikit-learn/issues/21755 */display: inline-block !important;position: relative;}#sk-container-id-3 div.sk-text-repr-fallback {display: none;}</style><div id=\"sk-container-id-3\" class=\"sk-top-container\"><div class=\"sk-text-repr-fallback\"><pre>ExplainableBoostingClassifier(max_rounds=2500, n_jobs=-1, validation_size=0)</pre><b>In a Jupyter environment, please rerun this cell to show the HTML representation or trust the notebook. <br />On GitHub, the HTML representation is unable to render, please try loading this page with nbviewer.org.</b></div><div class=\"sk-container\" hidden><div class=\"sk-item\"><div class=\"sk-estimator sk-toggleable\"><input class=\"sk-toggleable__control sk-hidden--visually\" id=\"sk-estimator-id-3\" type=\"checkbox\" checked><label for=\"sk-estimator-id-3\" class=\"sk-toggleable__label sk-toggleable__label-arrow\">ExplainableBoostingClassifier</label><div class=\"sk-toggleable__content\"><pre>ExplainableBoostingClassifier(max_rounds=2500, n_jobs=-1, validation_size=0)</pre></div></div></div></div></div>"
      ],
      "text/plain": [
       "ExplainableBoostingClassifier(max_rounds=2500, n_jobs=-1, validation_size=0)"
      ]
     },
     "execution_count": 36,
     "metadata": {},
     "output_type": "execute_result"
    }
   ],
   "source": [
    "%%time\n",
    "EBM = ExplainableBoostingClassifier(interactions=10,max_rounds=2500,early_stopping_rounds=50,n_jobs=-1,validation_size=0)#max_bins=256#,inner_bags=100,outer_bags=100 # 10\n",
    "EBM.fit(X_train_, Y_train_)"
   ]
  },
  {
   "cell_type": "code",
   "execution_count": 37,
   "id": "bca16629-62e3-4d95-8ae3-e13b01448faa",
   "metadata": {},
   "outputs": [
    {
     "name": "stdout",
     "output_type": "stream",
     "text": [
      "--AUCROC perf = 0.9693344112386372 -- AUCPR perf = 0.834278608545162\n"
     ]
    }
   ],
   "source": [
    "pred_ebm = EBM.predict_proba(X_test_)[:,1]\n",
    "best_aucroc_ebm = roc_auc_score(Y_test_, pred_ebm) \n",
    "best_aurpr_ebm = average_precision_score(Y_test_, pred_ebm) \n",
    "print(f\"--AUCROC perf = {best_aucroc_ebm} -- AUCPR perf = {best_aurpr_ebm}\")"
   ]
  },
  {
   "cell_type": "markdown",
   "id": "65e6d92f-cc9a-4044-9285-2d68fced29eb",
   "metadata": {},
   "source": [
    "## Explanations"
   ]
  },
  {
   "cell_type": "code",
   "execution_count": 43,
   "id": "8403868b-365a-45be-974d-559edbeea879",
   "metadata": {},
   "outputs": [
    {
     "name": "stdout",
     "output_type": "stream",
     "text": [
      "CPU times: user 239 ms, sys: 7.8 ms, total: 246 ms\n",
      "Wall time: 18.5 ms\n"
     ]
    }
   ],
   "source": [
    "%%time\n",
    "attributions_linear = pd.DataFrame(LR.get_feature_attribution(X_test_.values))\n",
    "attributions_linear.columns = feature_names\n",
    "attributions_linear['pred_proba'] = pred_lr\n",
    "attributions_linear['label'] = Y_test_"
   ]
  },
  {
   "cell_type": "code",
   "execution_count": 44,
   "id": "284e53e7-8685-4943-8fef-a88e05c80645",
   "metadata": {},
   "outputs": [
    {
     "name": "stdout",
     "output_type": "stream",
     "text": [
      "CPU times: user 265 ms, sys: 4.08 ms, total: 270 ms\n",
      "Wall time: 23.3 ms\n"
     ]
    }
   ],
   "source": [
    "%%time\n",
    "attributions_tabsra = pd.DataFrame(TabSRA.get_feature_attribution(X_test_.values))\n",
    "attributions_tabsra.columns = feature_names\n",
    "attributions_tabsra['pred_proba'] = pred_tabsra\n",
    "attributions_tabsra['label'] = Y_test_"
   ]
  },
  {
   "cell_type": "code",
   "execution_count": 45,
   "id": "be45603f-aa52-4c55-ba40-66f76ded51e0",
   "metadata": {},
   "outputs": [
    {
     "name": "stderr",
     "output_type": "stream",
     "text": [
      "ntree_limit is deprecated, use `iteration_range` or model slicing instead.\n"
     ]
    },
    {
     "name": "stdout",
     "output_type": "stream",
     "text": [
      "CPU times: user 44.7 s, sys: 56.2 ms, total: 44.7 s\n",
      "Wall time: 3.16 s\n"
     ]
    }
   ],
   "source": [
    "%%time\n",
    "explainer = shap.TreeExplainer(model_xgb)\n",
    "shap_values = explainer(X_test_)\n",
    "attributions_xgb = pd.DataFrame(shap_values.values)\n",
    "attributions_xgb.columns = feature_names\n",
    "attributions_xgb['pred_proba'] = pred_xgb\n",
    "attributions_xgb['label'] = Y_test_"
   ]
  },
  {
   "cell_type": "code",
   "execution_count": 46,
   "id": "b0649f71-82f6-4b81-815f-3e42762c879a",
   "metadata": {},
   "outputs": [],
   "source": [
    "def get_feature_attribution_EBM(model, X_test):\n",
    "    tmp  = model.explain_local(X_test)\n",
    "    df_EBM = []\n",
    "    for i in range(len(X_test)):\n",
    "        df_EBM.append(tmp.data(i)['scores'])\n",
    "    df_EBM = pd.DataFrame(df_EBM)\n",
    "    df_EBM.columns = tmp.data(0)['names']\n",
    "    return df_EBM"
   ]
  },
  {
   "cell_type": "code",
   "execution_count": 47,
   "id": "fa91b4e2-2ab6-4666-9a89-a625aaad9079",
   "metadata": {},
   "outputs": [],
   "source": [
    "attributions_EBM_S = get_feature_attribution_EBM(EBM_S, X_test_)\n"
   ]
  },
  {
   "cell_type": "code",
   "execution_count": 48,
   "id": "d76556ac-c93d-4f2e-8b52-6e1f7f0806e7",
   "metadata": {},
   "outputs": [
    {
     "name": "stdout",
     "output_type": "stream",
     "text": [
      "CPU times: user 1.49 s, sys: 48 ms, total: 1.53 s\n",
      "Wall time: 1.53 s\n"
     ]
    }
   ],
   "source": [
    "%%time\n",
    "attributions_EBM_S = get_feature_attribution_EBM(EBM_S, X_test_)\n",
    "feature_names_EBM_S = list(attributions_EBM_S.columns)\n",
    "attributions_EBM_S['pred_proba'] = pred_ebm_s\n",
    "attributions_EBM_S['label'] = Y_test_"
   ]
  },
  {
   "cell_type": "code",
   "execution_count": 49,
   "id": "984a56d2-a57d-468e-b87f-24972c2a0c7f",
   "metadata": {},
   "outputs": [
    {
     "name": "stdout",
     "output_type": "stream",
     "text": [
      "CPU times: user 1.98 s, sys: 48 ms, total: 2.03 s\n",
      "Wall time: 2.02 s\n"
     ]
    }
   ],
   "source": [
    "%%time\n",
    "attributions_EBM = get_feature_attribution_EBM(EBM, X_test_)\n",
    "feature_names_EBM = list(attributions_EBM.columns)\n",
    "attributions_EBM['pred_proba'] = pred_ebm\n",
    "attributions_EBM['label'] = Y_test_"
   ]
  },
  {
   "cell_type": "markdown",
   "id": "aff7f017-cc34-4273-91bf-d687517ebb05",
   "metadata": {},
   "source": [
    "### Stability"
   ]
  },
  {
   "cell_type": "code",
   "execution_count": 51,
   "id": "cbab4691-d8e7-46bd-81a5-9910cbb056b2",
   "metadata": {},
   "outputs": [
    {
     "data": {
      "text/plain": [
       "2533"
      ]
     },
     "execution_count": 51,
     "metadata": {},
     "output_type": "execute_result"
    }
   ],
   "source": [
    "np.random.seed(42)\n",
    "random_ = np.random.randn(len(X_test_))\n",
    "sample_condition = np.where(random_>1.7, True, False)\n",
    "sample_condition.sum()"
   ]
  },
  {
   "cell_type": "code",
   "execution_count": 52,
   "id": "351cdc83-d870-4497-920e-5386ace257b0",
   "metadata": {},
   "outputs": [],
   "source": [
    "X_test_tmp = X_test_[sample_condition]"
   ]
  },
  {
   "cell_type": "code",
   "execution_count": 53,
   "id": "8ccad87c-2543-471f-a07f-494dbf765c0e",
   "metadata": {},
   "outputs": [],
   "source": [
    "alpha_stp = 1e-3\n",
    "n_pertub = 100\n",
    "epsilon_min = 1e-3\n",
    "n_features = len(feature_names)"
   ]
  },
  {
   "cell_type": "code",
   "execution_count": 56,
   "id": "2c15d8fe-5bfc-4d01-bbfa-6ecab075c0bc",
   "metadata": {},
   "outputs": [],
   "source": [
    "np.random.seed(42)\n",
    "tmp_x =np.random.normal(0,1*alpha_stp, n_features*n_pertub).reshape(n_pertub,n_features)\n",
    "rapport_denom  = np.linalg.norm(tmp_x,ord=2, axis=1)\n",
    "n_point = len(X_test_tmp)"
   ]
  },
  {
   "cell_type": "code",
   "execution_count": 57,
   "id": "253be0a2-2597-48a8-9489-b2db42adbff6",
   "metadata": {},
   "outputs": [],
   "source": [
    "X_test_tmp_np   = X_test_tmp[feature_names].values\n",
    "X_explain_lr,y_explain_lr = attributions_linear[sample_condition][feature_names].values, attributions_linear[sample_condition].pred_proba.values\n",
    "X_explain_tabsra,y_explain_tabsra = attributions_tabsra[sample_condition][feature_names].values, attributions_tabsra[sample_condition].pred_proba.values\n",
    "X_explain_xgb,y_explain_xgb = attributions_xgb[sample_condition][feature_names].values, attributions_xgb[sample_condition].pred_proba.values\n",
    "X_explain_EBM_S,y_explain_EBM_S = attributions_EBM_S[sample_condition][feature_names_EBM_S].values, attributions_EBM_S[sample_condition].pred_proba.values\n",
    "X_explain_EBM,y_explain_EBM= attributions_EBM[sample_condition][feature_names_EBM].values, attributions_EBM[sample_condition].pred_proba.values\n"
   ]
  },
  {
   "cell_type": "code",
   "execution_count": 58,
   "id": "8e69a5ea-1576-4a3a-bb75-8d45aca3120d",
   "metadata": {},
   "outputs": [],
   "source": [
    "time_lr =[]\n",
    "for i in range(10):\n",
    "    start_ = time.time()\n",
    "    relative_norm_lr = np.zeros(n_point)\n",
    "    relative_pred_lr = np.zeros(n_point)\n",
    "    for i in range(n_point):\n",
    "        #tmp_x =np.random.normal(0,1*alpha_stp, 5*100).reshape(100,5)\n",
    "        X_new_np = X_test_tmp_np[i]+tmp_x\n",
    "        X_new = torch.Tensor(X_new_np)\n",
    "\n",
    "        y_pred_linear = LR.predict_proba(X_new)[:,1]\n",
    "        X_explain_new_ = np.linalg.norm(X_explain_lr[i] - LR.get_feature_attribution(X_new),ord=2,axis=1)\n",
    "\n",
    "        tmp = np.abs(y_explain_lr[i]-y_pred_linear)\n",
    "        ind_adversial = np.argmax(tmp)\n",
    "        relative_pred_lr[i] = tmp[ind_adversial]\n",
    "        relative_norm_lr[i] =  (X_explain_new_/rapport_denom)[ind_adversial]\n",
    "    time_lr.append(time.time()-start_)"
   ]
  },
  {
   "cell_type": "code",
   "execution_count": 59,
   "id": "9a05a61e-4609-4815-9074-a2dbceca131b",
   "metadata": {},
   "outputs": [
    {
     "data": {
      "text/plain": [
       "(2.1203370094299316e+00, 0.03181506367914166)"
      ]
     },
     "execution_count": 59,
     "metadata": {},
     "output_type": "execute_result"
    }
   ],
   "source": [
    "np.mean(time_lr),np.std(time_lr)"
   ]
  },
  {
   "cell_type": "code",
   "execution_count": 60,
   "id": "1ddd6bfe-e878-4c71-ab93-a2cd86901b01",
   "metadata": {},
   "outputs": [],
   "source": [
    "time_tabsra =[]\n",
    "for i in range(10):\n",
    "    start_ = time.time()\n",
    "    relative_norm_tabsra = np.zeros(n_point)\n",
    "    relative_pred_tabsra = np.zeros(n_point)\n",
    "    for i in range(n_point):\n",
    "        #tmp_x =np.random.normal(0,1*alpha_stp, 5*100).reshape(100,5)\n",
    "        X_new_np = X_test_tmp_np[i]+tmp_x\n",
    "        X_new = torch.Tensor(X_new_np)\n",
    "\n",
    "        y_pred_tabsra = TabSRA.predict_proba(X_new)[:,1]\n",
    "        X_explain_new_ = np.linalg.norm(X_explain_tabsra[i] - TabSRA.get_feature_attribution(X_new),ord=2,axis=1)\n",
    "\n",
    "        tmp = np.abs(y_explain_tabsra[i]-y_pred_tabsra)\n",
    "        ind_adversial = np.argmax(tmp)\n",
    "        relative_pred_tabsra[i] = tmp[ind_adversial]\n",
    "        relative_norm_tabsra[i] =  (X_explain_new_/rapport_denom)[ind_adversial]\n",
    "    time_tabsra.append(time.time()-start_)"
   ]
  },
  {
   "cell_type": "code",
   "execution_count": 61,
   "id": "6cbbbbe1-58f1-4c2f-8543-4fd44fd8030f",
   "metadata": {},
   "outputs": [
    {
     "data": {
      "text/plain": [
       "(5.1221542119979855, 0.12985935867640375)"
      ]
     },
     "execution_count": 61,
     "metadata": {},
     "output_type": "execute_result"
    }
   ],
   "source": [
    "np.mean(time_tabsra),np.std(time_tabsra)"
   ]
  },
  {
   "cell_type": "code",
   "execution_count": 62,
   "id": "39b9beab-4b0f-4208-b383-9827b62b0e00",
   "metadata": {},
   "outputs": [
    {
     "name": "stderr",
     "output_type": "stream",
     "text": [
      "ntree_limit is deprecated, use `iteration_range` or model slicing instead.\n"
     ]
    }
   ],
   "source": [
    "time_xgb =[]\n",
    "for i in range(10):\n",
    "    start_ = time.time()\n",
    "    relative_norm_xgb = np.zeros(n_point)\n",
    "    relative_pred_xgb = np.zeros(n_point)\n",
    "    for i in range(n_point):\n",
    "        #tmp_x =np.random.normal(0,1*alpha_stp, 5*100).reshape(100,5)\n",
    "        X_new_np = X_test_tmp_np[i]+tmp_x\n",
    "\n",
    "\n",
    "        y_pred_xgb = model_xgb.predict_proba(X_new_np)[:,1]\n",
    "        X_explain_new_ = np.linalg.norm(X_explain_xgb[i] - explainer(X_new_np).values,ord=2,axis=1)\n",
    "\n",
    "        tmp = np.abs(y_explain_xgb[i]-y_pred_xgb)\n",
    "        ind_adversial = np.argmax(tmp)\n",
    "        relative_pred_xgb[i] = tmp[ind_adversial]\n",
    "        relative_norm_xgb[i] =  (X_explain_new_/rapport_denom)[ind_adversial]\n",
    "    time_xgb.append(time.time()-start_)"
   ]
  },
  {
   "cell_type": "code",
   "execution_count": 63,
   "id": "9e126471-5250-4649-ae87-ed0f7beaaef9",
   "metadata": {},
   "outputs": [
    {
     "data": {
      "text/plain": [
       "(24.203415441513062, 1.214801005924038)"
      ]
     },
     "execution_count": 63,
     "metadata": {},
     "output_type": "execute_result"
    }
   ],
   "source": [
    "np.mean(time_xgb),np.std(time_xgb)"
   ]
  },
  {
   "cell_type": "code",
   "execution_count": 64,
   "id": "359ed1c9-77a7-4847-84ee-47303c4b1855",
   "metadata": {},
   "outputs": [],
   "source": [
    "time_EBM_S =[]\n",
    "for i in range(10):\n",
    "    start_ = time.time()\n",
    "    relative_norm_EBM_S = np.zeros(n_point)\n",
    "    relative_pred_EBM_S = np.zeros(n_point)\n",
    "    for i in range(n_point):\n",
    "        #tmp_x =np.random.normal(0,1*alpha_stp, 5*100).reshape(100,5)\n",
    "        X_new_np = X_test_tmp_np[i]+tmp_x\n",
    "        X_new_df = pd.DataFrame(X_new_np,columns=feature_names)\n",
    "\n",
    "        y_pred_EBM_S = EBM_S.predict_proba(X_new_np)[:,1]\n",
    "        X_explain_EBM_S_ = np.linalg.norm(X_explain_EBM_S[i] - get_feature_attribution_EBM(EBM_S, X_new_df).values,ord=2,axis=1)\n",
    "\n",
    "        tmp = np.abs(y_explain_EBM_S[i]-y_pred_EBM_S)\n",
    "        ind_adversial = np.argmax(tmp)\n",
    "        relative_pred_EBM_S[i] = tmp[ind_adversial]\n",
    "        relative_norm_EBM_S[i] =  (X_explain_new_/rapport_denom)[ind_adversial]\n",
    "time_EBM_S.append(time.time()-start_)"
   ]
  },
  {
   "cell_type": "code",
   "execution_count": 65,
   "id": "282ed064-db0b-4ced-b1da-961418af8d40",
   "metadata": {},
   "outputs": [
    {
     "data": {
      "text/plain": [
       "(18.110591888427734, 0.0)"
      ]
     },
     "execution_count": 65,
     "metadata": {},
     "output_type": "execute_result"
    }
   ],
   "source": [
    "np.mean(time_EBM_S),np.std(time_EBM_S)"
   ]
  },
  {
   "cell_type": "code",
   "execution_count": 66,
   "id": "78f17d77-fe1c-440a-b471-a21aa2ef247c",
   "metadata": {},
   "outputs": [],
   "source": [
    "time_EBM =[]\n",
    "for i in range(10):\n",
    "    start_ = time.time()\n",
    "    relative_norm_EBM = np.zeros(n_point)\n",
    "    relative_pred_EBM = np.zeros(n_point)\n",
    "    for i in range(n_point):\n",
    "        #tmp_x =np.random.normal(0,1*alpha_stp, 5*100).reshape(100,5)\n",
    "        X_new_np = X_test_tmp_np[i]+tmp_x\n",
    "        X_new_df = pd.DataFrame(X_new_np,columns=feature_names)\n",
    "\n",
    "        y_pred_EBM = EBM.predict_proba(X_new_np)[:,1]\n",
    "        X_explain_EBM_ = np.linalg.norm(X_explain_EBM[i] - get_feature_attribution_EBM(EBM, X_new_df).values,ord=2,axis=1)\n",
    "\n",
    "        tmp = np.abs(y_explain_EBM[i]-y_pred_EBM)\n",
    "        ind_adversial = np.argmax(tmp)\n",
    "        relative_pred_EBM[i] = tmp[ind_adversial]\n",
    "        relative_norm_EBM[i] =  (X_explain_new_/rapport_denom)[ind_adversial]\n",
    "    time_EBM.append(time.time()-start_)       "
   ]
  },
  {
   "cell_type": "code",
   "execution_count": 68,
   "id": "5b2af5a5-258c-4fe1-8090-153f71cefb5e",
   "metadata": {},
   "outputs": [
    {
     "data": {
      "text/plain": [
       "(19.939333486557008, 0.4431550591672805)"
      ]
     },
     "execution_count": 68,
     "metadata": {},
     "output_type": "execute_result"
    }
   ],
   "source": [
    "np.mean(time_EBM),np.std(time_EBM)"
   ]
  },
  {
   "cell_type": "code",
   "execution_count": 69,
   "id": "8c771d43-c298-4b55-98ce-ea37403950c6",
   "metadata": {},
   "outputs": [],
   "source": [
    "df_classic_expl = pd.DataFrame()\n",
    "\n",
    "df_classic_expl[\"LR\"] = relative_norm_lr\n",
    "df_classic_expl[\"TabSRALinear\"] = relative_norm_tabsra\n",
    "df_classic_expl[\"EBM\"] = relative_norm_EBM\n",
    "df_classic_expl[\"EBM_S\"] = relative_norm_EBM_S\n",
    "df_classic_expl[\"XGBoost+TreeSHAP\"] = relative_norm_xgb"
   ]
  },
  {
   "cell_type": "code",
   "execution_count": 70,
   "id": "ad79c576-b13a-4e0f-bc3a-d97ab381a71d",
   "metadata": {},
   "outputs": [],
   "source": [
    "df_classic_output = pd.DataFrame()\n",
    "df_classic_output[\"LR\"] = relative_pred_lr\n",
    "df_classic_output[\"TabSRALinear\"] = relative_pred_tabsra\n",
    "df_classic_output[\"EBM\"] = relative_pred_EBM\n",
    "df_classic_output[\"EBM_S\"] = relative_pred_EBM_S\n",
    "df_classic_output[\"XGBoost+TreeSHAP\"] = relative_pred_xgb"
   ]
  },
  {
   "cell_type": "code",
   "execution_count": 71,
   "id": "184647e2-f760-4103-b541-743247d3a880",
   "metadata": {},
   "outputs": [
    {
     "data": {
      "text/html": [
       "<div>\n",
       "<style scoped>\n",
       "    .dataframe tbody tr th:only-of-type {\n",
       "        vertical-align: middle;\n",
       "    }\n",
       "\n",
       "    .dataframe tbody tr th {\n",
       "        vertical-align: top;\n",
       "    }\n",
       "\n",
       "    .dataframe thead th {\n",
       "        text-align: right;\n",
       "    }\n",
       "</style>\n",
       "<table border=\"1\" class=\"dataframe\">\n",
       "  <thead>\n",
       "    <tr style=\"text-align: right;\">\n",
       "      <th></th>\n",
       "      <th>LR</th>\n",
       "      <th>TabSRALinear</th>\n",
       "      <th>EBM</th>\n",
       "      <th>EBM_S</th>\n",
       "      <th>XGBoost+TreeSHAP</th>\n",
       "    </tr>\n",
       "  </thead>\n",
       "  <tbody>\n",
       "    <tr>\n",
       "      <th>0</th>\n",
       "      <td>0.134227</td>\n",
       "      <td>0.918682</td>\n",
       "      <td>5.987371</td>\n",
       "      <td>5.987371</td>\n",
       "      <td>102.398034</td>\n",
       "    </tr>\n",
       "    <tr>\n",
       "      <th>1</th>\n",
       "      <td>0.134229</td>\n",
       "      <td>0.939559</td>\n",
       "      <td>0.000000</td>\n",
       "      <td>5.987371</td>\n",
       "      <td>13.522273</td>\n",
       "    </tr>\n",
       "    <tr>\n",
       "      <th>2</th>\n",
       "      <td>0.134226</td>\n",
       "      <td>0.811474</td>\n",
       "      <td>0.000000</td>\n",
       "      <td>0.000000</td>\n",
       "      <td>48.322458</td>\n",
       "    </tr>\n",
       "    <tr>\n",
       "      <th>3</th>\n",
       "      <td>0.134225</td>\n",
       "      <td>0.984512</td>\n",
       "      <td>0.000000</td>\n",
       "      <td>0.000000</td>\n",
       "      <td>55.420292</td>\n",
       "    </tr>\n",
       "    <tr>\n",
       "      <th>4</th>\n",
       "      <td>0.134227</td>\n",
       "      <td>1.382372</td>\n",
       "      <td>6.082023</td>\n",
       "      <td>6.082023</td>\n",
       "      <td>25.610682</td>\n",
       "    </tr>\n",
       "  </tbody>\n",
       "</table>\n",
       "</div>"
      ],
      "text/plain": [
       "         LR  TabSRALinear       EBM     EBM_S  XGBoost+TreeSHAP\n",
       "0  0.134227      0.918682  5.987371  5.987371        102.398034\n",
       "1  0.134229      0.939559  0.000000  5.987371         13.522273\n",
       "2  0.134226      0.811474  0.000000  0.000000         48.322458\n",
       "3  0.134225      0.984512  0.000000  0.000000         55.420292\n",
       "4  0.134227      1.382372  6.082023  6.082023         25.610682"
      ]
     },
     "execution_count": 71,
     "metadata": {},
     "output_type": "execute_result"
    }
   ],
   "source": [
    "df_classic_expl.head()"
   ]
  },
  {
   "cell_type": "code",
   "execution_count": null,
   "id": "c407a3a9-66fa-4a06-a8bd-dde9695ec0e4",
   "metadata": {},
   "outputs": [],
   "source": []
  },
  {
   "cell_type": "code",
   "execution_count": 77,
   "id": "1398f4e2-b0d9-4c85-95b4-852e1df64a2b",
   "metadata": {},
   "outputs": [
    {
     "data": {
      "text/plain": [
       "(2533, 56962)"
      ]
     },
     "execution_count": 77,
     "metadata": {},
     "output_type": "execute_result"
    }
   ],
   "source": [
    "len(df_classic_expl),len(X_test_)"
   ]
  },
  {
   "cell_type": "code",
   "execution_count": 78,
   "id": "60b87d43-b7d4-4cb4-95b5-e6f78e0e9324",
   "metadata": {},
   "outputs": [],
   "source": [
    "df_classic_expl.columns = ['LR', 'SRA', 'EBM', 'EBM_S', 'XGB_SHAP']"
   ]
  },
  {
   "cell_type": "code",
   "execution_count": 79,
   "id": "1f5ca4bd-55cf-49af-8e13-69928851df25",
   "metadata": {},
   "outputs": [
    {
     "data": {
      "image/png": "[encoded data removed]",
      "text/plain": [
       "<Figure size 432x288 with 1 Axes>"
      ]
     },
     "metadata": {},
     "output_type": "display_data"
    }
   ],
   "source": [
    "sns.boxplot(data=df_classic_expl)\n",
    "plt.ylabel(\"Lipschitz Estimate\",weight = 'bold',fontsize=14)\n",
    "plt.xticks(weight = 'bold',fontsize=11,rotation=0)\n",
    "plt.yticks(weight = 'bold',fontsize=14)\n",
    "plt.savefig('Stability_CardFraud_Split0_hideen1_1E_3.png')\n",
    "plt.show()"
   ]
  },
  {
   "cell_type": "code",
   "execution_count": 80,
   "id": "ffe4b6da-35fc-4a5b-85de-b42890f10950",
   "metadata": {},
   "outputs": [],
   "source": [
    "df_classic_output.columns = ['LR', 'SRA', 'EBM', 'EBM_S', 'XGB_SHAP']"
   ]
  },
  {
   "cell_type": "code",
   "execution_count": 81,
   "id": "6db090f8-40de-4b7a-8671-be40036ca217",
   "metadata": {},
   "outputs": [
    {
     "data": {
      "image/png": "[encoded data removed]",
      "text/plain": [
       "<Figure size 432x288 with 1 Axes>"
      ]
     },
     "metadata": {},
     "output_type": "display_data"
    }
   ],
   "source": [
    "sns.boxplot(data=df_classic_output)\n",
    "#plt.ylabel(\"Output Change\",weight = 'bold',fontsize=14)\n",
    "plt.xticks(weight = 'bold',fontsize=11,rotation=0)\n",
    "plt.yticks(weight = 'bold',fontsize=14)\n",
    "plt.savefig('Stability_OutputChange_CardFraud_Split0_hideen1_1E_3.png')\n",
    "plt.show()"
   ]
  },
  {
   "cell_type": "code",
   "execution_count": null,
   "id": "d5808f1e-87c8-4c46-b049-c03a2ce748a4",
   "metadata": {},
   "outputs": [],
   "source": []
  },
  {
   "cell_type": "code",
   "execution_count": null,
   "id": "f084e65c-dff3-477d-8d37-2dc534d3bade",
   "metadata": {},
   "outputs": [],
   "source": []
  }
 ],
 "metadata": {
  "kernelspec": {
   "display_name": "Python 3 (ipykernel)",
   "language": "python",
   "name": "python3"
  },
  "language_info": {
   "codemirror_mode": {
    "name": "ipython",
    "version": 3
   },
   "file_extension": ".py",
   "mimetype": "text/x-python",
   "name": "python",
   "nbconvert_exporter": "python",
   "pygments_lexer": "ipython3",
   "version": "3.9.12"
  }
 },
 "nbformat": 4,
 "nbformat_minor": 5
}
