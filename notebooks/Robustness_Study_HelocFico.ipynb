{
 "cells": [
  {
   "cell_type": "markdown",
   "id": "2089a6db-afb4-46e4-ba3a-a185a95842c5",
   "metadata": {},
   "source": [
    "# Robustness Study: Heloc Fico dataset\n",
    "For this dataset, the target variable to predict is a binary variable called RiskPerformance. The value “Bad” indicates that a consumer was 90 days past due or worse at least once over a period of 24 months from when the credit account was opened. The value “Good” indicates that they have made their payments without ever being more than 90 days overdue. https://community.fico.com/s/explainable-machine-learning-challenge."
   ]
  },
  {
   "cell_type": "markdown",
   "id": "2987b76c-72f3-4f6d-9702-fdea7d7c42b7",
   "metadata": {},
   "source": [
    "## Librairies "
   ]
  },
  {
   "cell_type": "code",
   "execution_count": 1,
   "id": "82d04152-4cfa-4340-9324-53731fffe8b7",
   "metadata": {},
   "outputs": [],
   "source": [
    "import os, sys, time\n",
    "import numpy as np\n",
    "import pandas as pd"
   ]
  },
  {
   "cell_type": "code",
   "execution_count": 1,
   "id": "3aa685ff-4be5-4319-9469-4bb59e5efddc",
   "metadata": {},
   "outputs": [],
   "source": [
    "from sklearn.metrics import roc_auc_score, average_precision_score\n",
    "from sklearn.preprocessing import StandardScaler, OneHotEncoder\n",
    "from sklearn.model_selection import StratifiedKFold\n",
    "from sklearn import set_config\n",
    "from sklearn.compose import ColumnTransformer\n",
    "from sklearn.pipeline import make_pipeline"
   ]
  },
  {
   "cell_type": "code",
   "execution_count": 4,
   "id": "66ecf9e5-af68-49a9-92ec-dc6f423b4ac7",
   "metadata": {},
   "outputs": [],
   "source": [
    "import torch \n",
    "import torch.nn as nn\n",
    "import torch.optim as optim "
   ]
  },
  {
   "cell_type": "code",
   "execution_count": 5,
   "id": "4683e029-2e4c-4021-b582-c669f242de76",
   "metadata": {},
   "outputs": [],
   "source": [
    "import pickle\n",
    "import torch\n",
    "from torch.optim.lr_scheduler import ReduceLROnPlateau\n",
    "from skorch.callbacks import EarlyStopping,LRScheduler,Checkpoint, TrainEndCheckpoint, EpochScoring\n",
    "from skorch.dataset import Dataset\n",
    "from skorch.helper import predefined_split\n",
    "from sklearn.model_selection import train_test_split\n",
    "from sklearn.metrics import mean_squared_error, r2_score"
   ]
  },
  {
   "cell_type": "code",
   "execution_count": 6,
   "id": "8fb63796-266f-48d2-94d0-ba2b4e525f90",
   "metadata": {},
   "outputs": [],
   "source": [
    "sys.path.append(\"../\")\n",
    "from sramodels.SRAModels import TabSRALinearClassifier,InputShapeSetterTabSRA,LinearClassifier"
   ]
  },
  {
   "cell_type": "code",
   "execution_count": 7,
   "id": "a2b1616d-6738-4447-8422-23cb43c176d2",
   "metadata": {},
   "outputs": [],
   "source": [
    "pd.options.display.max_rows = 1000\n",
    "pd.options.display.max_columns = 1000"
   ]
  },
  {
   "cell_type": "code",
   "execution_count": 8,
   "id": "8eda4b5a-4dbf-4a8f-925a-b377bc223556",
   "metadata": {},
   "outputs": [],
   "source": [
    "from interpret.glassbox import ExplainableBoostingClassifier, ExplainableBoostingRegressor\n"
   ]
  },
  {
   "cell_type": "code",
   "execution_count": 9,
   "id": "78e160eb-487c-4e2b-8264-a98c28db7c27",
   "metadata": {},
   "outputs": [
    {
     "name": "stderr",
     "output_type": "stream",
     "text": [
      "/home/kodjo/anaconda3/lib/python3.9/site-packages/xgboost/compat.py:36: FutureWarning: pandas.Int64Index is deprecated and will be removed from pandas in a future version. Use pandas.Index with the appropriate dtype instead.\n",
      "  from pandas import MultiIndex, Int64Index\n"
     ]
    }
   ],
   "source": [
    "from xgboost import XGBClassifier\n",
    "import xgboost as xgb"
   ]
  },
  {
   "cell_type": "code",
   "execution_count": 10,
   "id": "e72ce230-24ea-45de-b9b4-e1255afbaa16",
   "metadata": {},
   "outputs": [],
   "source": [
    "import shap"
   ]
  },
  {
   "cell_type": "code",
   "execution_count": 11,
   "id": "0dfe0958-a5ab-4660-8cbc-3bbece20e4e9",
   "metadata": {},
   "outputs": [],
   "source": [
    "import matplotlib.pyplot as plt\n",
    "plt.style.use('ggplot')\n",
    "import seaborn as sns"
   ]
  },
  {
   "cell_type": "markdown",
   "id": "c9d6b675-c0f6-4822-8411-9b5abe80e4c3",
   "metadata": {},
   "source": [
    "## Data loading, preprocessing and Split"
   ]
  },
  {
   "cell_type": "code",
   "execution_count": 12,
   "id": "cbb697a4-ef56-4f4a-bcf3-5672157d20a9",
   "metadata": {},
   "outputs": [
    {
     "data": {
      "text/html": [
       "<div>\n",
       "<style scoped>\n",
       "    .dataframe tbody tr th:only-of-type {\n",
       "        vertical-align: middle;\n",
       "    }\n",
       "\n",
       "    .dataframe tbody tr th {\n",
       "        vertical-align: top;\n",
       "    }\n",
       "\n",
       "    .dataframe thead th {\n",
       "        text-align: right;\n",
       "    }\n",
       "</style>\n",
       "<table border=\"1\" class=\"dataframe\">\n",
       "  <thead>\n",
       "    <tr style=\"text-align: right;\">\n",
       "      <th></th>\n",
       "      <th>RiskPerformance</th>\n",
       "      <th>ExternalRiskEstimate</th>\n",
       "      <th>MSinceOldestTradeOpen</th>\n",
       "      <th>MSinceMostRecentTradeOpen</th>\n",
       "      <th>AverageMInFile</th>\n",
       "      <th>NumSatisfactoryTrades</th>\n",
       "      <th>NumTrades60Ever2DerogPubRec</th>\n",
       "      <th>NumTrades90Ever2DerogPubRec</th>\n",
       "      <th>PercentTradesNeverDelq</th>\n",
       "      <th>MSinceMostRecentDelq</th>\n",
       "      <th>MaxDelq2PublicRecLast12M</th>\n",
       "      <th>MaxDelqEver</th>\n",
       "      <th>NumTotalTrades</th>\n",
       "      <th>NumTradesOpeninLast12M</th>\n",
       "      <th>PercentInstallTrades</th>\n",
       "      <th>MSinceMostRecentInqexcl7days</th>\n",
       "      <th>NumInqLast6M</th>\n",
       "      <th>NumInqLast6Mexcl7days</th>\n",
       "      <th>NetFractionRevolvingBurden</th>\n",
       "      <th>NetFractionInstallBurden</th>\n",
       "      <th>NumRevolvingTradesWBalance</th>\n",
       "      <th>NumInstallTradesWBalance</th>\n",
       "      <th>NumBank2NatlTradesWHighUtilization</th>\n",
       "      <th>PercentTradesWBalance</th>\n",
       "    </tr>\n",
       "  </thead>\n",
       "  <tbody>\n",
       "    <tr>\n",
       "      <th>0</th>\n",
       "      <td>0</td>\n",
       "      <td>55</td>\n",
       "      <td>144</td>\n",
       "      <td>4</td>\n",
       "      <td>84</td>\n",
       "      <td>20</td>\n",
       "      <td>3</td>\n",
       "      <td>0</td>\n",
       "      <td>83</td>\n",
       "      <td>2</td>\n",
       "      <td>3</td>\n",
       "      <td>5</td>\n",
       "      <td>23</td>\n",
       "      <td>1</td>\n",
       "      <td>43</td>\n",
       "      <td>0</td>\n",
       "      <td>0</td>\n",
       "      <td>0</td>\n",
       "      <td>33</td>\n",
       "      <td>-8</td>\n",
       "      <td>8</td>\n",
       "      <td>1</td>\n",
       "      <td>1</td>\n",
       "      <td>69</td>\n",
       "    </tr>\n",
       "    <tr>\n",
       "      <th>1</th>\n",
       "      <td>0</td>\n",
       "      <td>61</td>\n",
       "      <td>58</td>\n",
       "      <td>15</td>\n",
       "      <td>41</td>\n",
       "      <td>2</td>\n",
       "      <td>4</td>\n",
       "      <td>4</td>\n",
       "      <td>100</td>\n",
       "      <td>-7</td>\n",
       "      <td>0</td>\n",
       "      <td>8</td>\n",
       "      <td>7</td>\n",
       "      <td>0</td>\n",
       "      <td>67</td>\n",
       "      <td>0</td>\n",
       "      <td>0</td>\n",
       "      <td>0</td>\n",
       "      <td>0</td>\n",
       "      <td>-8</td>\n",
       "      <td>0</td>\n",
       "      <td>-8</td>\n",
       "      <td>-8</td>\n",
       "      <td>0</td>\n",
       "    </tr>\n",
       "    <tr>\n",
       "      <th>2</th>\n",
       "      <td>0</td>\n",
       "      <td>67</td>\n",
       "      <td>66</td>\n",
       "      <td>5</td>\n",
       "      <td>24</td>\n",
       "      <td>9</td>\n",
       "      <td>0</td>\n",
       "      <td>0</td>\n",
       "      <td>100</td>\n",
       "      <td>-7</td>\n",
       "      <td>7</td>\n",
       "      <td>8</td>\n",
       "      <td>9</td>\n",
       "      <td>4</td>\n",
       "      <td>44</td>\n",
       "      <td>0</td>\n",
       "      <td>4</td>\n",
       "      <td>4</td>\n",
       "      <td>53</td>\n",
       "      <td>66</td>\n",
       "      <td>4</td>\n",
       "      <td>2</td>\n",
       "      <td>1</td>\n",
       "      <td>86</td>\n",
       "    </tr>\n",
       "    <tr>\n",
       "      <th>3</th>\n",
       "      <td>0</td>\n",
       "      <td>66</td>\n",
       "      <td>169</td>\n",
       "      <td>1</td>\n",
       "      <td>73</td>\n",
       "      <td>28</td>\n",
       "      <td>1</td>\n",
       "      <td>1</td>\n",
       "      <td>93</td>\n",
       "      <td>76</td>\n",
       "      <td>6</td>\n",
       "      <td>6</td>\n",
       "      <td>30</td>\n",
       "      <td>3</td>\n",
       "      <td>57</td>\n",
       "      <td>0</td>\n",
       "      <td>5</td>\n",
       "      <td>4</td>\n",
       "      <td>72</td>\n",
       "      <td>83</td>\n",
       "      <td>6</td>\n",
       "      <td>4</td>\n",
       "      <td>3</td>\n",
       "      <td>91</td>\n",
       "    </tr>\n",
       "    <tr>\n",
       "      <th>4</th>\n",
       "      <td>0</td>\n",
       "      <td>81</td>\n",
       "      <td>333</td>\n",
       "      <td>27</td>\n",
       "      <td>132</td>\n",
       "      <td>12</td>\n",
       "      <td>0</td>\n",
       "      <td>0</td>\n",
       "      <td>100</td>\n",
       "      <td>-7</td>\n",
       "      <td>7</td>\n",
       "      <td>8</td>\n",
       "      <td>12</td>\n",
       "      <td>0</td>\n",
       "      <td>25</td>\n",
       "      <td>0</td>\n",
       "      <td>1</td>\n",
       "      <td>1</td>\n",
       "      <td>51</td>\n",
       "      <td>89</td>\n",
       "      <td>3</td>\n",
       "      <td>1</td>\n",
       "      <td>0</td>\n",
       "      <td>80</td>\n",
       "    </tr>\n",
       "  </tbody>\n",
       "</table>\n",
       "</div>"
      ],
      "text/plain": [
       "   RiskPerformance  ExternalRiskEstimate  MSinceOldestTradeOpen  \\\n",
       "0                0                    55                    144   \n",
       "1                0                    61                     58   \n",
       "2                0                    67                     66   \n",
       "3                0                    66                    169   \n",
       "4                0                    81                    333   \n",
       "\n",
       "   MSinceMostRecentTradeOpen  AverageMInFile  NumSatisfactoryTrades  \\\n",
       "0                          4              84                     20   \n",
       "1                         15              41                      2   \n",
       "2                          5              24                      9   \n",
       "3                          1              73                     28   \n",
       "4                         27             132                     12   \n",
       "\n",
       "   NumTrades60Ever2DerogPubRec  NumTrades90Ever2DerogPubRec  \\\n",
       "0                            3                            0   \n",
       "1                            4                            4   \n",
       "2                            0                            0   \n",
       "3                            1                            1   \n",
       "4                            0                            0   \n",
       "\n",
       "   PercentTradesNeverDelq  MSinceMostRecentDelq  MaxDelq2PublicRecLast12M  \\\n",
       "0                      83                     2                         3   \n",
       "1                     100                    -7                         0   \n",
       "2                     100                    -7                         7   \n",
       "3                      93                    76                         6   \n",
       "4                     100                    -7                         7   \n",
       "\n",
       "   MaxDelqEver  NumTotalTrades  NumTradesOpeninLast12M  PercentInstallTrades  \\\n",
       "0            5              23                       1                    43   \n",
       "1            8               7                       0                    67   \n",
       "2            8               9                       4                    44   \n",
       "3            6              30                       3                    57   \n",
       "4            8              12                       0                    25   \n",
       "\n",
       "   MSinceMostRecentInqexcl7days  NumInqLast6M  NumInqLast6Mexcl7days  \\\n",
       "0                             0             0                      0   \n",
       "1                             0             0                      0   \n",
       "2                             0             4                      4   \n",
       "3                             0             5                      4   \n",
       "4                             0             1                      1   \n",
       "\n",
       "   NetFractionRevolvingBurden  NetFractionInstallBurden  \\\n",
       "0                          33                        -8   \n",
       "1                           0                        -8   \n",
       "2                          53                        66   \n",
       "3                          72                        83   \n",
       "4                          51                        89   \n",
       "\n",
       "   NumRevolvingTradesWBalance  NumInstallTradesWBalance  \\\n",
       "0                           8                         1   \n",
       "1                           0                        -8   \n",
       "2                           4                         2   \n",
       "3                           6                         4   \n",
       "4                           3                         1   \n",
       "\n",
       "   NumBank2NatlTradesWHighUtilization  PercentTradesWBalance  \n",
       "0                                   1                     69  \n",
       "1                                  -8                      0  \n",
       "2                                   1                     86  \n",
       "3                                   3                     91  \n",
       "4                                   0                     80  "
      ]
     },
     "execution_count": 12,
     "metadata": {},
     "output_type": "execute_result"
    }
   ],
   "source": [
    "data_path = '../ESANN_XKDD/Datasets/'\n",
    "data = pd.read_csv(data_path+'heloc_dataset_v1.csv')\n",
    "data[\"RiskPerformance\"] =  np.where(data[\"RiskPerformance\"]=='Bad',0,1)\n",
    "data.head()"
   ]
  },
  {
   "cell_type": "code",
   "execution_count": 13,
   "id": "de235b18-5e74-45e2-ac00-4b25e5495d47",
   "metadata": {},
   "outputs": [
    {
     "data": {
      "text/plain": [
       "0.4780571756382063"
      ]
     },
     "execution_count": 13,
     "metadata": {},
     "output_type": "execute_result"
    }
   ],
   "source": [
    "data.RiskPerformance.mean()"
   ]
  },
  {
   "cell_type": "markdown",
   "id": "20281c88-7cef-4213-8120-665ed4cb4b92",
   "metadata": {},
   "source": [
    "### Preprocessing "
   ]
  },
  {
   "cell_type": "code",
   "execution_count": 14,
   "id": "94b1d691-2026-4691-a5c2-60bb73b785cc",
   "metadata": {},
   "outputs": [],
   "source": [
    "data_copy = data.copy()"
   ]
  },
  {
   "cell_type": "code",
   "execution_count": 15,
   "id": "7226af8b-7e49-48ff-8067-de351d18fe2c",
   "metadata": {},
   "outputs": [],
   "source": [
    "feature_names = list(data.columns)\n",
    "feature_names.remove('RiskPerformance')"
   ]
  },
  {
   "cell_type": "markdown",
   "id": "8a9a935b-105f-459f-9d7b-a94f090461ec",
   "metadata": {},
   "source": [
    "### Split "
   ]
  },
  {
   "cell_type": "code",
   "execution_count": 12,
   "id": "d5fbb86b-3ad8-4293-972b-c08dbdcccc24",
   "metadata": {},
   "outputs": [],
   "source": [
    "k =5\n",
    "Sf= StratifiedKFold(n_splits=k, shuffle=True, random_state= 42)\n",
    "#datasets = [(X[train_index], X[test_index],y[train_index], y[test_index]) for train_index,test_index in Sf.split(X, y) ]\n",
    "datasets_raw = [(data.iloc[train_index], data.iloc[test_index]) for train_index,test_index in Sf.split(data, data.RiskPerformance.values) ]\n",
    "data_train_df,data_test_df = datasets_raw[0]"
   ]
  },
  {
   "cell_type": "code",
   "execution_count": 13,
   "id": "fa27a6d4-0a06-4d40-be5c-74ebf519f089",
   "metadata": {},
   "outputs": [],
   "source": [
    "data_train_df,data_test_df = datasets_raw[0]"
   ]
  },
  {
   "cell_type": "code",
   "execution_count": 14,
   "id": "3d76fc9f-467b-4bad-8684-27f509e12e68",
   "metadata": {},
   "outputs": [],
   "source": [
    "X_train_, X_test_, Y_train_, Y_test_ = data_train_df[feature_names], data_test_df[feature_names],data_train_df.RiskPerformance.values,data_test_df.RiskPerformance.values"
   ]
  },
  {
   "cell_type": "code",
   "execution_count": 15,
   "id": "1591692a-74f7-4ac3-8e08-ec14bb672a36",
   "metadata": {},
   "outputs": [],
   "source": [
    "set_config(transform_output=\"pandas\")\n",
    "processor =  StandardScaler()"
   ]
  },
  {
   "cell_type": "code",
   "execution_count": 16,
   "id": "9a3d7f5e-6855-4c72-8092-4db7c3f56537",
   "metadata": {},
   "outputs": [],
   "source": [
    "X_train_ = processor.fit_transform(X_train_)\n",
    "X_test_ = processor.transform(X_test_)"
   ]
  },
  {
   "cell_type": "markdown",
   "id": "60720d5d-f257-4b56-9eb8-56af62522a38",
   "metadata": {},
   "source": [
    "### Correlation visualization (map)"
   ]
  },
  {
   "cell_type": "code",
   "execution_count": 17,
   "id": "ee94046c-3fcf-433e-a38e-7adafd26086b",
   "metadata": {},
   "outputs": [],
   "source": [
    "import matplotlib.pyplot as plt\n",
    "import seaborn as sns "
   ]
  },
  {
   "cell_type": "code",
   "execution_count": 18,
   "id": "f13aa89c-f8cc-4f8a-9a73-9fa287fb91be",
   "metadata": {},
   "outputs": [],
   "source": [
    "X_train_tmp = X_train_.copy()\n",
    "X_train_tmp['y'] = Y_train_"
   ]
  },
  {
   "cell_type": "code",
   "execution_count": 19,
   "id": "b2e00f21-16eb-4102-80d3-d5b675b6144d",
   "metadata": {},
   "outputs": [
    {
     "name": "stderr",
     "output_type": "stream",
     "text": [
      "/tmp/ipykernel_13896/1798339133.py:6: DeprecationWarning: `np.bool` is a deprecated alias for the builtin `bool`. To silence this warning, use `bool` by itself. Doing this will not modify any behavior and is safe. If you specifically wanted the numpy scalar type, use `np.bool_` here.\n",
      "Deprecated in NumPy 1.20; for more details and guidance: https://numpy.org/devdocs/release/1.20.0-notes.html#deprecations\n",
      "  sns.heatmap(corr, mask=np.zeros_like(corr, dtype=np.bool), cmap=sns.diverging_palette(220, 10, as_cmap=True),\n"
     ]
    },
    {
     "data": {
      "image/png": "[encoded data removed]",
      "text/plain": [
       "<Figure size 864x864 with 2 Axes>"
      ]
     },
     "metadata": {
      "needs_background": "light"
     },
     "output_type": "display_data"
    }
   ],
   "source": [
    "import seaborn as sns\n",
    "\n",
    "f, ax = plt.subplots(figsize=(12, 12))\n",
    "tmp = X_train_tmp.astype(float) \n",
    "corr = tmp.corr(method='spearman')\n",
    "sns.heatmap(corr, mask=np.zeros_like(corr, dtype=np.bool), cmap=sns.diverging_palette(220, 10, as_cmap=True),\n",
    "            square=True, ax=ax);"
   ]
  },
  {
   "cell_type": "code",
   "execution_count": 20,
   "id": "5f626d5c-2780-479c-8870-0aecc2452c79",
   "metadata": {},
   "outputs": [
    {
     "name": "stderr",
     "output_type": "stream",
     "text": [
      "/tmp/ipykernel_13896/2226804073.py:6: DeprecationWarning: `np.bool` is a deprecated alias for the builtin `bool`. To silence this warning, use `bool` by itself. Doing this will not modify any behavior and is safe. If you specifically wanted the numpy scalar type, use `np.bool_` here.\n",
      "Deprecated in NumPy 1.20; for more details and guidance: https://numpy.org/devdocs/release/1.20.0-notes.html#deprecations\n",
      "  sns.heatmap(corr, mask=np.zeros_like(corr, dtype=np.bool), cmap=sns.diverging_palette(220, 10, as_cmap=True),\n"
     ]
    },
    {
     "data": {
      "image/png": "[encoded data removed]",
      "text/plain": [
       "<Figure size 864x864 with 2 Axes>"
      ]
     },
     "metadata": {
      "needs_background": "light"
     },
     "output_type": "display_data"
    }
   ],
   "source": [
    "import seaborn as sns\n",
    "\n",
    "f, ax = plt.subplots(figsize=(12, 12))\n",
    "tmp = X_train_tmp.astype(float) \n",
    "corr = tmp.corr()\n",
    "sns.heatmap(corr, mask=np.zeros_like(corr, dtype=np.bool), cmap=sns.diverging_palette(220, 10, as_cmap=True),\n",
    "            square=True, ax=ax);"
   ]
  },
  {
   "cell_type": "markdown",
   "id": "accepting-mexico",
   "metadata": {
    "tags": []
   },
   "source": [
    "## Model"
   ]
  },
  {
   "cell_type": "markdown",
   "id": "c5357995-647b-493b-b60e-b350a463e33f",
   "metadata": {},
   "source": [
    "### Linear  "
   ]
  },
  {
   "cell_type": "code",
   "execution_count": 21,
   "id": "90551aab-c952-4220-9133-f771899996dc",
   "metadata": {},
   "outputs": [],
   "source": [
    "#valid_loss\n",
    "other_params_linear = {\"module__bias\":True,\n",
    "                \"optimizer__lr\":0.007143256650213327,\n",
    "                \"optimizer__weight_decay\":5.348330773994543e-06,\n",
    "                \"random_state\":42,\n",
    "                \"criterion\": nn.BCEWithLogitsLoss,\n",
    "                \"module__negative_indice\":None,\n",
    "                \"module__positive_indice\":None,\n",
    "                \"max_epochs\":500,\n",
    "                \"batch_size\":256,\n",
    "                \"device\":'cuda'#change the device in 'cpu' if there is no GPU\n",
    "               }\n",
    "scoring = EpochScoring(scoring='roc_auc',lower_is_better=False)\n",
    "setter = InputShapeSetterTabSRA(regression=False)\n",
    "early_stop = EarlyStopping(monitor=scoring.scoring, patience=50,load_best=True,lower_is_better=False, threshold=0.0001,threshold_mode='abs')\n",
    "lr_scheduler = LRScheduler(policy=ReduceLROnPlateau, patience=25, min_lr=2e-5,factor=0.2, verbose=1)\n",
    "call_b = [scoring, setter, early_stop, lr_scheduler]"
   ]
  },
  {
   "cell_type": "code",
   "execution_count": 22,
   "id": "8bd4929b-0bb2-4d03-a39f-ee37270dace8",
   "metadata": {},
   "outputs": [
    {
     "data": {
      "text/plain": [
       "(2092,)"
      ]
     },
     "execution_count": 22,
     "metadata": {},
     "output_type": "execute_result"
    }
   ],
   "source": [
    "Y_test_.shape"
   ]
  },
  {
   "cell_type": "code",
   "execution_count": 23,
   "id": "126a3369-ddde-4559-8e15-f21530b4673a",
   "metadata": {
    "tags": []
   },
   "outputs": [
    {
     "name": "stdout",
     "output_type": "stream",
     "text": [
      "Re-initializing module because the following parameters were re-set: module__dim_input, module__dim_output.\n",
      "Re-initializing criterion.\n",
      "Re-initializing optimizer.\n",
      "  epoch    roc_auc    train_loss    valid_acc    valid_loss     dur\n",
      "-------  ---------  ------------  -----------  ------------  ------\n",
      "      1     \u001b[36m0.7447\u001b[0m        \u001b[32m0.6349\u001b[0m       \u001b[35m0.6840\u001b[0m        \u001b[31m0.5956\u001b[0m  0.6451\n",
      "      2     \u001b[36m0.7680\u001b[0m        \u001b[32m0.5829\u001b[0m       \u001b[35m0.7012\u001b[0m        \u001b[31m0.5772\u001b[0m  0.0590\n",
      "      3     \u001b[36m0.7725\u001b[0m        \u001b[32m0.5744\u001b[0m       \u001b[35m0.7094\u001b[0m        \u001b[31m0.5720\u001b[0m  0.0583\n",
      "      4     \u001b[36m0.7750\u001b[0m        \u001b[32m0.5703\u001b[0m       \u001b[35m0.7098\u001b[0m        \u001b[31m0.5696\u001b[0m  0.0554\n",
      "      5     \u001b[36m0.7771\u001b[0m        \u001b[32m0.5686\u001b[0m       \u001b[35m0.7122\u001b[0m        \u001b[31m0.5680\u001b[0m  0.0595\n",
      "      6     \u001b[36m0.7773\u001b[0m        \u001b[32m0.5671\u001b[0m       0.7118        \u001b[31m0.5675\u001b[0m  0.0600\n",
      "      7     \u001b[36m0.7776\u001b[0m        0.5671       0.7113        \u001b[31m0.5670\u001b[0m  0.0607\n",
      "      8     \u001b[36m0.7792\u001b[0m        0.5677       \u001b[35m0.7137\u001b[0m        \u001b[31m0.5661\u001b[0m  0.0602\n",
      "      9     0.7768        \u001b[32m0.5659\u001b[0m       0.7103        0.5674  0.0597\n",
      "     10     0.7791        \u001b[32m0.5653\u001b[0m       0.7127        0.5662  0.0580\n",
      "     11     0.7754        \u001b[32m0.5652\u001b[0m       0.7065        0.5690  0.0628\n",
      "     12     0.7791        0.5657       0.7113        \u001b[31m0.5659\u001b[0m  0.0808\n",
      "     13     0.7786        \u001b[32m0.5650\u001b[0m       0.7118        0.5665  0.0574\n",
      "     14     0.7737        0.5655       0.7075        0.5705  0.0537\n",
      "     15     \u001b[36m0.7796\u001b[0m        \u001b[32m0.5645\u001b[0m       0.7094        0.5661  0.0505\n",
      "     16     \u001b[36m0.7804\u001b[0m        \u001b[32m0.5643\u001b[0m       0.7094        \u001b[31m0.5659\u001b[0m  0.0572\n",
      "     17     0.7800        \u001b[32m0.5643\u001b[0m       0.7122        \u001b[31m0.5654\u001b[0m  0.0620\n",
      "     18     0.7801        0.5646       0.7132        0.5659  0.0719\n",
      "     19     0.7798        0.5647       0.7103        0.5656  0.0504\n",
      "     20     0.7797        \u001b[32m0.5638\u001b[0m       0.7084        0.5657  0.0557\n",
      "     21     0.7797        0.5639       0.7118        0.5659  0.0646\n",
      "     22     0.7801        0.5642       0.7098        \u001b[31m0.5654\u001b[0m  0.0588\n",
      "     23     0.7774        \u001b[32m0.5637\u001b[0m       0.7084        0.5674  0.0676\n",
      "     24     0.7803        0.5652       0.7113        0.5656  0.0634\n",
      "     25     0.7798        0.5640       0.7118        0.5657  0.0698\n",
      "     26     0.7800        0.5647       0.7108        0.5655  0.0625\n",
      "     27     0.7791        \u001b[32m0.5637\u001b[0m       0.7113        0.5665  0.0652\n",
      "     28     0.7792        0.5639       0.7118        0.5663  0.0644\n",
      "     29     0.7787        0.5638       0.7098        0.5669  0.0787\n",
      "     30     0.7802        0.5640       0.7127        0.5656  0.0625\n",
      "     31     0.7803        0.5639       0.7118        0.5657  0.0618\n",
      "     32     0.7798        0.5638       0.7098        0.5657  0.0571\n",
      "     33     \u001b[36m0.7805\u001b[0m        \u001b[32m0.5634\u001b[0m       0.7137        0.5657  0.0608\n",
      "     34     0.7796        0.5636       0.7118        0.5661  0.0571\n",
      "     35     0.7801        0.5640       0.7103        0.5657  0.0587\n",
      "     36     0.7797        0.5638       0.7094        0.5664  0.0566\n",
      "     37     0.7802        0.5637       0.7113        0.5657  0.0583\n",
      "     38     0.7792        0.5635       0.7122        0.5668  0.0606\n",
      "     39     \u001b[36m0.7809\u001b[0m        0.5635       0.7127        0.5656  0.0604\n",
      "     40     \u001b[36m0.7811\u001b[0m        0.5637       0.7122        0.5656  0.0595\n",
      "     41     0.7801        0.5640       0.7118        0.5658  0.0612\n",
      "     42     0.7808        0.5640       \u001b[35m0.7146\u001b[0m        0.5655  0.0614\n",
      "     43     0.7793        0.5645       0.7113        0.5662  0.0642\n",
      "     44     0.7801        0.5637       0.7122        0.5656  0.0748\n",
      "     45     0.7806        0.5634       \u001b[35m0.7151\u001b[0m        0.5655  0.0606\n",
      "     46     0.7808        0.5634       0.7108        0.5658  0.0670\n",
      "     47     0.7808        0.5639       0.7127        0.5655  0.0631\n",
      "     48     0.7795        0.5635       0.7094        0.5664  0.0703\n",
      "     49     0.7761        0.5636       0.7094        0.5685  0.0617\n",
      "     50     0.7805        0.5649       0.7122        0.5657  0.0673\n",
      "     51     0.7797        0.5635       0.7113        0.5663  0.0686\n",
      "     52     0.7792        0.5635       0.7098        0.5666  0.0670\n",
      "     53     0.7809        0.5637       0.7132        0.5655  0.0612\n",
      "     54     0.7776        0.5636       0.7108        0.5678  0.0609\n",
      "     55     0.7811        0.5638       \u001b[35m0.7156\u001b[0m        0.5655  0.0617\n",
      "     56     0.7796        0.5636       0.7098        0.5664  0.0681\n",
      "     57     0.7807        0.5645       0.7151        0.5656  0.0667\n",
      "     58     0.7802        0.5641       0.7122        0.5659  0.0579\n",
      "Epoch 00059: reducing learning rate of group 0 to 1.4287e-03.\n",
      "     59     0.7807        0.5635       0.7122        0.5658  0.0618\n",
      "     60     0.7798        0.5634       0.7098        0.5661  0.0626\n",
      "     61     0.7804        \u001b[32m0.5629\u001b[0m       0.7118        0.5656  0.0582\n",
      "     62     0.7802        \u001b[32m0.5628\u001b[0m       0.7137        0.5657  0.0601\n",
      "     63     0.7809        0.5628       0.7141        \u001b[31m0.5654\u001b[0m  0.0739\n",
      "     64     0.7802        0.5628       0.7113        0.5659  0.0846\n",
      "     65     0.7807        0.5628       0.7127        0.5655  0.0663\n",
      "     66     0.7802        \u001b[32m0.5627\u001b[0m       0.7132        0.5657  0.0637\n",
      "     67     0.7807        0.5628       0.7127        0.5655  0.0612\n",
      "     68     0.7804        \u001b[32m0.5627\u001b[0m       0.7118        0.5656  0.0606\n",
      "     69     0.7804        0.5629       0.7127        0.5656  0.0617\n",
      "     70     0.7805        0.5627       0.7132        0.5656  0.0595\n",
      "     71     0.7808        0.5628       0.7141        0.5655  0.0586\n",
      "     72     0.7803        0.5627       0.7118        0.5657  0.0613\n",
      "     73     0.7808        0.5627       0.7127        0.5655  0.0638\n",
      "     74     0.7805        0.5629       0.7132        0.5655  0.0585\n",
      "     75     0.7809        \u001b[32m0.5627\u001b[0m       0.7137        0.5655  0.0601\n",
      "     76     0.7800        0.5628       0.7113        0.5658  0.0626\n",
      "     77     0.7800        0.5629       0.7118        0.5660  0.0705\n",
      "     78     0.7810        0.5628       0.7141        0.5654  0.0892\n",
      "     79     0.7803        0.5627       0.7113        0.5657  0.0744\n",
      "     80     0.7809        0.5630       0.7127        0.5655  0.0723\n",
      "     81     0.7801        0.5633       0.7122        0.5658  0.0681\n",
      "     82     0.7809        \u001b[32m0.5626\u001b[0m       0.7146        0.5654  0.0695\n",
      "     83     0.7809        0.5628       0.7137        0.5655  0.0639\n",
      "     84     0.7800        0.5627       0.7118        0.5660  0.0580\n",
      "     85     0.7809        0.5629       0.7137        0.5655  0.0553\n",
      "     86     0.7804        0.5628       0.7127        0.5657  0.0650\n",
      "     87     0.7811        0.5627       0.7146        \u001b[31m0.5654\u001b[0m  0.0654\n",
      "     88     0.7805        0.5627       0.7151        0.5655  0.0680\n",
      "     89     0.7803        0.5628       0.7122        0.5657  0.0599\n",
      "Stopping since roc_auc has not improved in the last 50 epochs.\n",
      "Restoring best model from epoch 40.\n",
      "CPU times: user 6.58 s, sys: 426 ms, total: 7.01 s\n",
      "Wall time: 7.45 s\n"
     ]
    }
   ],
   "source": [
    "%%time\n",
    "valid_dataset = Dataset(X_test_.values.astype(np.float32),Y_test_.astype(np.float32))\n",
    "LR = LinearClassifier(**other_params_linear,train_split = predefined_split(valid_dataset),callbacks = call_b)#,\n",
    "_ = LR.fit(X_train_.values.astype(np.float32),Y_train_.astype(np.float32))"
   ]
  },
  {
   "cell_type": "code",
   "execution_count": 24,
   "id": "d3120b1b-e7ec-47f8-a7b7-b845be5cd917",
   "metadata": {},
   "outputs": [
    {
     "data": {
      "text/plain": [
       "23"
      ]
     },
     "execution_count": 24,
     "metadata": {},
     "output_type": "execute_result"
    }
   ],
   "source": [
    "len(feature_names)"
   ]
  },
  {
   "cell_type": "code",
   "execution_count": 24,
   "id": "8f29bc22-d680-45c1-9eb4-5bed2868c85e",
   "metadata": {},
   "outputs": [
    {
     "data": {
      "text/html": [
       "<div>\n",
       "<style scoped>\n",
       "    .dataframe tbody tr th:only-of-type {\n",
       "        vertical-align: middle;\n",
       "    }\n",
       "\n",
       "    .dataframe tbody tr th {\n",
       "        vertical-align: top;\n",
       "    }\n",
       "\n",
       "    .dataframe thead th {\n",
       "        text-align: right;\n",
       "    }\n",
       "</style>\n",
       "<table border=\"1\" class=\"dataframe\">\n",
       "  <thead>\n",
       "    <tr style=\"text-align: right;\">\n",
       "      <th></th>\n",
       "      <th>ExternalRiskEstimate</th>\n",
       "      <th>MSinceOldestTradeOpen</th>\n",
       "      <th>MSinceMostRecentTradeOpen</th>\n",
       "      <th>AverageMInFile</th>\n",
       "      <th>NumSatisfactoryTrades</th>\n",
       "      <th>NumTrades60Ever2DerogPubRec</th>\n",
       "      <th>NumTrades90Ever2DerogPubRec</th>\n",
       "      <th>PercentTradesNeverDelq</th>\n",
       "      <th>MSinceMostRecentDelq</th>\n",
       "      <th>MaxDelq2PublicRecLast12M</th>\n",
       "      <th>MaxDelqEver</th>\n",
       "      <th>NumTotalTrades</th>\n",
       "      <th>NumTradesOpeninLast12M</th>\n",
       "      <th>PercentInstallTrades</th>\n",
       "      <th>MSinceMostRecentInqexcl7days</th>\n",
       "      <th>NumInqLast6M</th>\n",
       "      <th>NumInqLast6Mexcl7days</th>\n",
       "      <th>NetFractionRevolvingBurden</th>\n",
       "      <th>NetFractionInstallBurden</th>\n",
       "      <th>NumRevolvingTradesWBalance</th>\n",
       "      <th>NumInstallTradesWBalance</th>\n",
       "      <th>NumBank2NatlTradesWHighUtilization</th>\n",
       "      <th>PercentTradesWBalance</th>\n",
       "    </tr>\n",
       "  </thead>\n",
       "  <tbody>\n",
       "    <tr>\n",
       "      <th>0</th>\n",
       "      <td>0.810069</td>\n",
       "      <td>0.057554</td>\n",
       "      <td>-0.134708</td>\n",
       "      <td>0.345282</td>\n",
       "      <td>0.370131</td>\n",
       "      <td>-0.319619</td>\n",
       "      <td>-0.280662</td>\n",
       "      <td>0.259453</td>\n",
       "      <td>-0.02527</td>\n",
       "      <td>0.24565</td>\n",
       "      <td>-0.24878</td>\n",
       "      <td>-0.027017</td>\n",
       "      <td>-0.089957</td>\n",
       "      <td>-0.260288</td>\n",
       "      <td>0.13948</td>\n",
       "      <td>-0.330407</td>\n",
       "      <td>-0.085133</td>\n",
       "      <td>-0.416432</td>\n",
       "      <td>-0.026475</td>\n",
       "      <td>-0.41397</td>\n",
       "      <td>0.08272</td>\n",
       "      <td>0.095416</td>\n",
       "      <td>-0.004345</td>\n",
       "    </tr>\n",
       "  </tbody>\n",
       "</table>\n",
       "</div>"
      ],
      "text/plain": [
       "   ExternalRiskEstimate  MSinceOldestTradeOpen  MSinceMostRecentTradeOpen  \\\n",
       "0              0.810069               0.057554                  -0.134708   \n",
       "\n",
       "   AverageMInFile  NumSatisfactoryTrades  NumTrades60Ever2DerogPubRec  \\\n",
       "0        0.345282               0.370131                    -0.319619   \n",
       "\n",
       "   NumTrades90Ever2DerogPubRec  PercentTradesNeverDelq  MSinceMostRecentDelq  \\\n",
       "0                    -0.280662                0.259453              -0.02527   \n",
       "\n",
       "   MaxDelq2PublicRecLast12M  MaxDelqEver  NumTotalTrades  \\\n",
       "0                   0.24565     -0.24878       -0.027017   \n",
       "\n",
       "   NumTradesOpeninLast12M  PercentInstallTrades  MSinceMostRecentInqexcl7days  \\\n",
       "0               -0.089957             -0.260288                       0.13948   \n",
       "\n",
       "   NumInqLast6M  NumInqLast6Mexcl7days  NetFractionRevolvingBurden  \\\n",
       "0     -0.330407              -0.085133                   -0.416432   \n",
       "\n",
       "   NetFractionInstallBurden  NumRevolvingTradesWBalance  \\\n",
       "0                 -0.026475                    -0.41397   \n",
       "\n",
       "   NumInstallTradesWBalance  NumBank2NatlTradesWHighUtilization  \\\n",
       "0                   0.08272                            0.095416   \n",
       "\n",
       "   PercentTradesWBalance  \n",
       "0              -0.004345  "
      ]
     },
     "execution_count": 24,
     "metadata": {},
     "output_type": "execute_result"
    }
   ],
   "source": [
    "Coef  = pd.DataFrame(LR.get_weights()[0])\n",
    "Coef = Coef\n",
    "Coef.columns=feature_names\n",
    "Coef"
   ]
  },
  {
   "cell_type": "code",
   "execution_count": 25,
   "id": "800cac39-0b66-4f3b-9f17-a4545ab5649b",
   "metadata": {},
   "outputs": [
    {
     "name": "stdout",
     "output_type": "stream",
     "text": [
      "--AUCROC perf = 0.7811135531135531 -- AUCPR perf = 0.7571985643576569\n"
     ]
    }
   ],
   "source": [
    "# Inference on the test set. the Predict function will return the ouptut scores and the attention weights as Model.get_attention is True\n",
    "pred_lr = LR.predict_proba(X_test_.values.astype(np.float32))[:,1]\n",
    "\n",
    "best_aucroc_lr = roc_auc_score(Y_test_, pred_lr) \n",
    "best_aurpr_lr = average_precision_score(Y_test_, pred_lr) \n",
    "print(f\"--AUCROC perf = {best_aucroc_lr} -- AUCPR perf = {best_aurpr_lr}\")"
   ]
  },
  {
   "cell_type": "markdown",
   "id": "b0c40273-23e2-4ca1-ad51-58bf966a7891",
   "metadata": {},
   "source": [
    "### TabSRA  "
   ]
  },
  {
   "cell_type": "code",
   "execution_count": 26,
   "id": "439db264-3d29-4739-9df4-53c42c311afe",
   "metadata": {},
   "outputs": [],
   "source": [
    "#valid_loss\n",
    "other_params = {\"module__encoder_bias\":True,\n",
    "                \"module__classifier_bias\":True,\n",
    "                \"module__n_head\":1,\n",
    "                \"module__dim_head\":8,\n",
    "                \"module__n_hidden_encoder\":1,\n",
    "                \"module__dropout_rate\":0.3,\n",
    "                \"optimizer__lr\":0.009,#275745003824123,\n",
    "                \"optimizer__weight_decay\":0.0004,#338871767939995,\n",
    "                \"random_state\":42,\n",
    "                \"criterion\": nn.BCEWithLogitsLoss,\n",
    "                \"module__negative_indice\":None,\n",
    "                \"module__positive_indice\":None,\n",
    "                \"max_epochs\":500,\n",
    "                \"batch_size\":1792,\n",
    "                \"device\":'cuda'#change the device in 'cpu' if there is no GPU\n",
    "               }\n",
    "scoring = EpochScoring(scoring='roc_auc',lower_is_better=False)\n",
    "setter = InputShapeSetterTabSRA(regression=False)\n",
    "early_stop = EarlyStopping(monitor=scoring.scoring, patience=50,load_best=True,lower_is_better=False, threshold=0.0001,threshold_mode='abs')\n",
    "lr_scheduler = LRScheduler(policy=ReduceLROnPlateau, patience=25, min_lr=2e-5,factor=0.2, verbose=1)\n",
    "call_b = [scoring, setter, early_stop, lr_scheduler]"
   ]
  },
  {
   "cell_type": "code",
   "execution_count": 89,
   "id": "85b4aac5-a7d4-4ce8-9200-4b29b221d403",
   "metadata": {
    "collapsed": true,
    "jupyter": {
     "outputs_hidden": true
    },
    "tags": []
   },
   "outputs": [
    {
     "name": "stdout",
     "output_type": "stream",
     "text": [
      "Re-initializing module because the following parameters were re-set: module__dim_input, module__dim_output.\n",
      "Re-initializing criterion.\n",
      "Re-initializing optimizer.\n",
      "  epoch    roc_auc    train_loss    valid_acc    valid_loss     dur\n",
      "-------  ---------  ------------  -----------  ------------  ------\n",
      "      1     \u001b[36m0.6811\u001b[0m        \u001b[32m0.6932\u001b[0m       \u001b[35m0.6233\u001b[0m        \u001b[31m0.6731\u001b[0m  0.0614\n",
      "      2     \u001b[36m0.7341\u001b[0m        \u001b[32m0.6594\u001b[0m       \u001b[35m0.6721\u001b[0m        \u001b[31m0.6391\u001b[0m  0.0559\n",
      "      3     \u001b[36m0.7431\u001b[0m        \u001b[32m0.6271\u001b[0m       \u001b[35m0.6821\u001b[0m        \u001b[31m0.6138\u001b[0m  0.0492\n",
      "      4     \u001b[36m0.7539\u001b[0m        \u001b[32m0.6065\u001b[0m       \u001b[35m0.6898\u001b[0m        \u001b[31m0.5996\u001b[0m  0.0493\n",
      "      5     \u001b[36m0.7625\u001b[0m        \u001b[32m0.5945\u001b[0m       \u001b[35m0.7012\u001b[0m        \u001b[31m0.5902\u001b[0m  0.0527\n",
      "      6     \u001b[36m0.7706\u001b[0m        \u001b[32m0.5860\u001b[0m       \u001b[35m0.7051\u001b[0m        \u001b[31m0.5824\u001b[0m  0.0487\n",
      "      7     \u001b[36m0.7742\u001b[0m        \u001b[32m0.5789\u001b[0m       \u001b[35m0.7089\u001b[0m        \u001b[31m0.5756\u001b[0m  0.0462\n",
      "      8     \u001b[36m0.7784\u001b[0m        \u001b[32m0.5723\u001b[0m       \u001b[35m0.7141\u001b[0m        \u001b[31m0.5700\u001b[0m  0.0524\n",
      "      9     \u001b[36m0.7806\u001b[0m        \u001b[32m0.5663\u001b[0m       \u001b[35m0.7165\u001b[0m        \u001b[31m0.5661\u001b[0m  0.0470\n",
      "     10     \u001b[36m0.7825\u001b[0m        \u001b[32m0.5627\u001b[0m       0.7156        \u001b[31m0.5637\u001b[0m  0.1106\n",
      "     11     \u001b[36m0.7851\u001b[0m        \u001b[32m0.5601\u001b[0m       0.7165        \u001b[31m0.5613\u001b[0m  0.0439\n",
      "     12     \u001b[36m0.7861\u001b[0m        \u001b[32m0.5575\u001b[0m       \u001b[35m0.7189\u001b[0m        \u001b[31m0.5591\u001b[0m  0.0447\n",
      "     13     \u001b[36m0.7877\u001b[0m        \u001b[32m0.5562\u001b[0m       0.7189        \u001b[31m0.5576\u001b[0m  0.0493\n",
      "     14     0.7859        \u001b[32m0.5545\u001b[0m       \u001b[35m0.7208\u001b[0m        0.5579  0.0709\n",
      "     15     \u001b[36m0.7885\u001b[0m        0.5549       0.7175        \u001b[31m0.5559\u001b[0m  0.0471\n",
      "     16     0.7877        \u001b[32m0.5528\u001b[0m       \u001b[35m0.7228\u001b[0m        0.5561  0.0487\n",
      "     17     0.7881        0.5535       \u001b[35m0.7242\u001b[0m        \u001b[31m0.5558\u001b[0m  0.0480\n",
      "     18     \u001b[36m0.7901\u001b[0m        \u001b[32m0.5525\u001b[0m       0.7199        \u001b[31m0.5544\u001b[0m  0.0510\n",
      "     19     0.7895        \u001b[32m0.5516\u001b[0m       0.7204        0.5545  0.0477\n",
      "     20     0.7898        \u001b[32m0.5506\u001b[0m       0.7199        0.5544  0.0493\n",
      "     21     0.7891        \u001b[32m0.5505\u001b[0m       0.7208        \u001b[31m0.5535\u001b[0m  0.0507\n",
      "     22     0.7899        \u001b[32m0.5495\u001b[0m       0.7237        \u001b[31m0.5532\u001b[0m  0.0488\n",
      "     23     \u001b[36m0.7902\u001b[0m        0.5496       \u001b[35m0.7266\u001b[0m        \u001b[31m0.5530\u001b[0m  0.0491\n",
      "     24     \u001b[36m0.7903\u001b[0m        \u001b[32m0.5493\u001b[0m       0.7247        \u001b[31m0.5529\u001b[0m  0.0458\n",
      "     25     \u001b[36m0.7911\u001b[0m        \u001b[32m0.5490\u001b[0m       0.7228        \u001b[31m0.5518\u001b[0m  0.0503\n",
      "     26     0.7909        \u001b[32m0.5477\u001b[0m       0.7256        0.5522  0.0464\n",
      "     27     0.7909        \u001b[32m0.5477\u001b[0m       0.7247        0.5520  0.0494\n",
      "     28     0.7903        0.5482       0.7223        0.5524  0.0477\n",
      "     29     0.7905        0.5487       0.7251        0.5522  0.0497\n",
      "     30     \u001b[36m0.7916\u001b[0m        0.5486       0.7251        \u001b[31m0.5516\u001b[0m  0.0482\n",
      "     31     0.7912        0.5479       0.7223        \u001b[31m0.5515\u001b[0m  0.0494\n",
      "     32     0.7910        \u001b[32m0.5464\u001b[0m       0.7237        0.5516  0.0498\n",
      "     33     \u001b[36m0.7916\u001b[0m        0.5476       0.7247        0.5522  0.0445\n",
      "     34     0.7905        0.5468       0.7251        0.5519  0.0497\n",
      "     35     \u001b[36m0.7920\u001b[0m        0.5467       0.7251        \u001b[31m0.5507\u001b[0m  0.0440\n",
      "     36     0.7911        0.5472       0.7237        0.5518  0.0483\n",
      "     37     0.7913        0.5469       0.7213        0.5509  0.0476\n",
      "     38     0.7919        0.5466       0.7223        0.5514  0.0525\n",
      "     39     0.7918        \u001b[32m0.5458\u001b[0m       0.7242        0.5513  0.0522\n",
      "     40     0.7909        0.5467       0.7251        0.5517  0.1090\n",
      "     41     0.7917        \u001b[32m0.5454\u001b[0m       0.7218        0.5515  0.0488\n",
      "     42     0.7911        0.5465       0.7204        0.5513  0.0476\n",
      "     43     0.7918        0.5465       0.7218        \u001b[31m0.5507\u001b[0m  0.0494\n",
      "     44     0.7909        0.5467       0.7208        0.5521  0.0503\n",
      "     45     \u001b[36m0.7921\u001b[0m        0.5467       0.7223        0.5512  0.0474\n",
      "     46     0.7916        0.5465       0.7213        0.5511  0.0430\n",
      "     47     0.7913        \u001b[32m0.5450\u001b[0m       0.7218        0.5513  0.0507\n",
      "     48     0.7915        0.5456       0.7218        0.5508  0.0613\n",
      "     49     0.7919        0.5453       0.7213        0.5509  0.0522\n",
      "     50     0.7919        0.5465       0.7208        0.5511  0.0419\n",
      "     51     0.7915        0.5456       0.7194        0.5515  0.0481\n",
      "     52     \u001b[36m0.7922\u001b[0m        0.5459       0.7228        \u001b[31m0.5504\u001b[0m  0.0407\n",
      "     53     0.7919        0.5460       0.7185        0.5517  0.0475\n",
      "     54     \u001b[36m0.7922\u001b[0m        0.5453       0.7199        0.5511  0.0456\n",
      "     55     0.7917        \u001b[32m0.5450\u001b[0m       0.7223        0.5512  0.0463\n",
      "     56     \u001b[36m0.7924\u001b[0m        \u001b[32m0.5449\u001b[0m       0.7208        0.5504  0.0482\n",
      "     57     0.7914        \u001b[32m0.5440\u001b[0m       0.7232        0.5512  0.0479\n",
      "     58     0.7924        0.5446       0.7194        0.5508  0.0461\n",
      "     59     0.7919        0.5454       0.7228        0.5506  0.0445\n",
      "     60     0.7906        0.5447       0.7218        0.5520  0.0443\n",
      "     61     0.7922        0.5448       0.7213        0.5506  0.0444\n",
      "     62     0.7918        0.5449       0.7213        0.5512  0.0456\n",
      "     63     \u001b[36m0.7929\u001b[0m        0.5452       0.7204        \u001b[31m0.5497\u001b[0m  0.0642\n",
      "     64     0.7907        0.5447       0.7199        0.5520  0.0479\n",
      "     65     0.7926        0.5453       0.7232        0.5504  0.0476\n",
      "     66     0.7923        \u001b[32m0.5435\u001b[0m       0.7213        0.5507  0.0456\n",
      "     67     0.7920        0.5448       0.7185        0.5510  0.0440\n",
      "     68     0.7916        \u001b[32m0.5433\u001b[0m       0.7208        0.5511  0.0422\n",
      "     69     0.7917        0.5444       0.7175        0.5512  0.0466\n",
      "     70     0.7920        0.5455       0.7213        0.5509  0.0465\n",
      "     71     \u001b[36m0.7930\u001b[0m        0.5447       0.7218        0.5506  0.0470\n",
      "     72     0.7920        0.5454       0.7194        0.5509  0.0413\n",
      "     73     0.7916        0.5443       0.7208        0.5507  0.0492\n",
      "     74     0.7921        0.5443       0.7194        0.5507  0.0465\n",
      "     75     0.7917        0.5447       0.7213        0.5513  0.0591\n",
      "     76     0.7917        0.5443       0.7180        0.5515  0.0550\n",
      "     77     0.7922        0.5447       0.7223        0.5506  0.0500\n",
      "     78     0.7920        0.5449       0.7185        0.5508  0.0496\n",
      "     79     0.7921        0.5438       0.7180        0.5509  0.0471\n",
      "     80     0.7929        0.5440       0.7180        0.5502  0.0517\n",
      "     81     0.7914        0.5446       0.7208        0.5511  0.0479\n",
      "     82     0.7917        0.5437       0.7165        0.5517  0.0507\n",
      "     83     0.7918        0.5438       0.7189        0.5509  0.0519\n",
      "     84     \u001b[36m0.7930\u001b[0m        \u001b[32m0.5428\u001b[0m       0.7208        0.5503  0.0477\n",
      "     85     0.7919        0.5436       0.7170        0.5513  0.0641\n",
      "     86     0.7928        0.5435       0.7204        0.5506  0.0453\n",
      "     87     0.7925        0.5431       0.7213        0.5506  0.0541\n",
      "     88     0.7919        0.5437       0.7218        0.5508  0.0529\n",
      "     89     0.7921        \u001b[32m0.5426\u001b[0m       0.7185        0.5509  0.0553\n",
      "     90     0.7922        0.5430       0.7199        0.5511  0.0526\n",
      "     91     0.7922        0.5445       0.7213        0.5507  0.0475\n",
      "     92     0.7920        \u001b[32m0.5420\u001b[0m       0.7189        0.5516  0.0503\n",
      "     93     0.7923        0.5437       0.7213        0.5506  0.0546\n",
      "     94     0.7912        0.5432       0.7185        0.5514  0.0666\n",
      "     95     0.7926        0.5428       0.7194        0.5503  0.0648\n",
      "     96     0.7928        0.5422       0.7194        0.5503  0.1122\n",
      "     97     0.7922        0.5434       0.7232        0.5507  0.0488\n",
      "     98     \u001b[36m0.7931\u001b[0m        0.5423       0.7199        0.5499  0.0494\n",
      "     99     0.7928        0.5429       0.7189        0.5504  0.0476\n",
      "    100     0.7920        0.5425       0.7208        0.5512  0.0500\n",
      "    101     0.7925        0.5429       0.7180        0.5506  0.0571\n",
      "    102     0.7922        \u001b[32m0.5415\u001b[0m       0.7199        0.5507  0.0745\n",
      "    103     0.7909        0.5426       0.7180        0.5517  0.0569\n",
      "    104     0.7925        0.5430       0.7213        0.5502  0.0573\n",
      "    105     0.7919        0.5415       0.7208        0.5510  0.0752\n",
      "    106     0.7918        0.5431       0.7189        0.5510  0.0573\n",
      "    107     \u001b[36m0.7931\u001b[0m        0.5427       0.7199        0.5503  0.0568\n",
      "    108     0.7924        0.5436       0.7194        0.5505  0.0582\n",
      "    109     0.7920        0.5416       0.7189        0.5517  0.0781\n",
      "    110     0.7930        0.5437       0.7213        0.5502  0.0568\n",
      "    111     0.7928        0.5423       0.7175        0.5505  0.0503\n",
      "    112     0.7908        0.5431       0.7194        0.5516  0.0534\n",
      "    113     0.7927        0.5419       0.7189        0.5511  0.0539\n",
      "    114     0.7925        0.5435       0.7204        0.5502  0.0567\n",
      "    115     0.7925        0.5424       0.7185        0.5512  0.0572\n",
      "    116     0.7925        \u001b[32m0.5411\u001b[0m       0.7199        0.5504  0.0712\n",
      "    117     0.7923        0.5418       0.7199        0.5506  0.0496\n",
      "    118     0.7924        0.5419       0.7208        0.5505  0.0474\n",
      "    119     0.7919        0.5423       0.7156        0.5511  0.0487\n",
      "    120     0.7915        0.5418       0.7208        0.5515  0.0505\n",
      "    121     0.7927        0.5413       0.7185        0.5504  0.0502\n",
      "    122     0.7924        0.5421       0.7180        0.5512  0.0817\n",
      "    123     0.7912        0.5420       0.7218        0.5515  0.0750\n",
      "    124     0.7921        0.5416       0.7161        0.5514  0.0487\n",
      "    125     0.7921        0.5426       0.7204        0.5507  0.0483\n",
      "    126     0.7930        0.5414       0.7199        0.5498  0.1119\n",
      "    127     0.7917        0.5413       0.7199        0.5509  0.0474\n",
      "    128     0.7931        0.5425       0.7208        \u001b[31m0.5497\u001b[0m  0.0552\n",
      "    129     0.7926        0.5416       0.7208        0.5505  0.0692\n",
      "    130     0.7926        0.5413       0.7189        0.5508  0.0577\n",
      "    131     0.7925        \u001b[32m0.5407\u001b[0m       0.7208        0.5505  0.0536\n",
      "    132     0.7926        0.5411       0.7180        0.5506  0.0652\n",
      "    133     0.7907        0.5420       0.7204        0.5522  0.0566\n",
      "    134     0.7927        0.5414       0.7208        0.5500  0.0544\n",
      "    135     0.7903        0.5409       0.7218        0.5530  0.0619\n",
      "    136     0.7923        0.5429       0.7175        0.5509  0.0658\n",
      "    137     0.7897        0.5413       0.7208        0.5527  0.0528\n",
      "    138     0.7924        \u001b[32m0.5405\u001b[0m       0.7185        0.5509  0.0490\n",
      "    139     0.7913        0.5416       0.7199        0.5512  0.0530\n",
      "    140     \u001b[36m0.7932\u001b[0m        0.5414       0.7170        0.5501  0.0475\n",
      "    141     0.7916        0.5412       0.7218        0.5514  0.0591\n",
      "    142     \u001b[36m0.7933\u001b[0m        0.5412       0.7213        \u001b[31m0.5494\u001b[0m  0.0524\n",
      "    143     0.7927        0.5410       0.7213        0.5503  0.0489\n",
      "    144     0.7923        \u001b[32m0.5403\u001b[0m       0.7218        0.5508  0.0453\n",
      "    145     0.7923        0.5420       0.7204        0.5506  0.0507\n",
      "    146     0.7924        \u001b[32m0.5399\u001b[0m       0.7199        0.5510  0.0600\n",
      "    147     \u001b[36m0.7936\u001b[0m        0.5405       0.7218        0.5496  0.0680\n",
      "    148     0.7933        0.5401       0.7223        0.5499  0.0456\n",
      "    149     0.7931        0.5408       0.7223        0.5500  0.0504\n",
      "    150     0.7907        0.5417       0.7199        0.5523  0.0507\n",
      "    151     0.7929        0.5415       0.7232        0.5504  0.0481\n",
      "    152     0.7916        0.5403       0.7175        0.5513  0.0439\n",
      "    153     0.7934        0.5405       0.7194        0.5498  0.0564\n",
      "    154     0.7933        0.5400       0.7218        0.5497  0.0504\n",
      "    155     0.7927        0.5401       0.7199        0.5503  0.0466\n",
      "    156     0.7930        0.5403       0.7237        0.5499  0.0450\n",
      "    157     0.7929        0.5402       0.7180        0.5500  0.0449\n",
      "    158     0.7935        0.5400       0.7199        0.5498  0.0562\n",
      "    159     0.7933        0.5410       0.7204        0.5496  0.0561\n",
      "    160     \u001b[36m0.7939\u001b[0m        0.5406       0.7218        \u001b[31m0.5488\u001b[0m  0.0543\n",
      "    161     0.7928        0.5402       0.7218        0.5506  0.0516\n",
      "    162     0.7930        0.5402       0.7204        0.5500  0.0505\n",
      "    163     0.7938        0.5413       0.7204        0.5493  0.0484\n",
      "    164     0.7913        0.5422       0.7223        0.5513  0.0681\n",
      "    165     0.7935        0.5406       0.7194        0.5498  0.0542\n",
      "    166     0.7931        0.5400       0.7208        0.5498  0.0540\n",
      "    167     0.7936        0.5409       0.7223        0.5493  0.0520\n",
      "    168     0.7934        0.5405       0.7218        0.5495  0.0712\n",
      "    169     0.7930        \u001b[32m0.5396\u001b[0m       0.7213        0.5500  0.0535\n",
      "    170     0.7919        0.5399       0.7242        0.5508  0.0558\n",
      "    171     0.7932        0.5413       0.7185        0.5506  0.0533\n",
      "    172     0.7925        0.5403       0.7194        0.5509  0.0681\n",
      "    173     \u001b[36m0.7939\u001b[0m        0.5404       0.7218        0.5498  0.0520\n",
      "    174     0.7931        0.5405       0.7223        0.5501  0.0550\n",
      "    175     0.7928        0.5407       0.7194        0.5500  0.0534\n",
      "    176     0.7934        0.5401       0.7194        0.5503  0.0542\n",
      "    177     0.7932        0.5407       0.7218        0.5497  0.0636\n",
      "    178     0.7934        0.5410       0.7185        0.5499  0.0483\n",
      "    179     \u001b[36m0.7940\u001b[0m        0.5399       0.7237        0.5490  0.0468\n",
      "    180     0.7918        \u001b[32m0.5393\u001b[0m       0.7204        0.5507  0.0620\n",
      "    181     0.7936        0.5406       0.7218        0.5494  0.0576\n",
      "    182     0.7933        0.5398       0.7228        0.5498  0.1295\n",
      "    183     0.7933        0.5397       0.7213        0.5500  0.0492\n",
      "    184     0.7935        0.5398       0.7218        0.5499  0.0516\n",
      "    185     0.7932        0.5401       0.7232        0.5496  0.0507\n",
      "    186     0.7931        0.5399       0.7228        0.5500  0.0523\n",
      "    187     \u001b[36m0.7941\u001b[0m        0.5400       0.7218        0.5491  0.0672\n",
      "    188     0.7927        0.5404       0.7194        0.5506  0.0523\n",
      "    189     0.7936        0.5400       0.7237        0.5497  0.0544\n",
      "    190     0.7930        0.5400       0.7213        0.5501  0.0500\n",
      "    191     0.7935        \u001b[32m0.5391\u001b[0m       0.7213        0.5497  0.0626\n",
      "    192     0.7929        0.5394       0.7218        0.5495  0.0542\n",
      "    193     0.7934        0.5398       0.7237        0.5494  0.0558\n",
      "    194     \u001b[36m0.7944\u001b[0m        0.5393       0.7247        \u001b[31m0.5487\u001b[0m  0.0513\n",
      "    195     0.7938        0.5393       0.7228        0.5492  0.0628\n",
      "    196     0.7942        \u001b[32m0.5385\u001b[0m       0.7237        \u001b[31m0.5486\u001b[0m  0.0545\n",
      "    197     0.7936        0.5394       0.7213        0.5488  0.0496\n",
      "    198     0.7927        0.5394       0.7228        0.5500  0.0511\n",
      "    199     0.7936        0.5391       0.7232        0.5494  0.0619\n",
      "    200     0.7937        0.5399       0.7228        0.5492  0.0546\n",
      "    201     0.7936        0.5398       0.7213        0.5494  0.0557\n",
      "    202     0.7938        0.5394       0.7208        0.5496  0.0519\n",
      "    203     0.7925        0.5390       0.7232        0.5502  0.0587\n",
      "    204     0.7936        0.5399       0.7204        0.5496  0.0473\n",
      "    205     0.7934        0.5398       0.7213        0.5492  0.0459\n",
      "    206     0.7938        0.5389       0.7223        0.5491  0.0541\n",
      "    207     0.7940        \u001b[32m0.5384\u001b[0m       0.7242        0.5491  0.0556\n",
      "    208     0.7939        0.5400       0.7228        0.5492  0.0573\n",
      "    209     0.7943        0.5392       0.7213        0.5489  0.0611\n",
      "    210     0.7934        0.5394       0.7199        0.5495  0.0617\n",
      "    211     0.7934        \u001b[32m0.5381\u001b[0m       0.7204        0.5493  0.0531\n",
      "    212     0.7935        0.5386       0.7204        0.5494  0.1139\n",
      "    213     0.7939        0.5393       0.7237        0.5496  0.0584\n",
      "    214     0.7940        0.5386       0.7251        0.5492  0.0531\n",
      "    215     0.7933        0.5387       0.7228        0.5497  0.0533\n",
      "    216     0.7923        0.5386       0.7232        0.5509  0.0552\n",
      "    217     0.7933        \u001b[32m0.5378\u001b[0m       0.7189        0.5501  0.0626\n",
      "    218     0.7915        0.5387       0.7204        0.5511  0.0538\n",
      "    219     \u001b[36m0.7947\u001b[0m        0.5385       0.7218        \u001b[31m0.5486\u001b[0m  0.0624\n",
      "    220     0.7944        0.5389       0.7218        0.5491  0.0714\n",
      "    221     0.7927        0.5394       0.7208        0.5505  0.0651\n",
      "    222     0.7938        0.5390       0.7237        0.5493  0.0536\n",
      "    223     0.7934        0.5393       0.7213        0.5501  0.0513\n",
      "    224     0.7940        0.5384       0.7228        0.5491  0.0542\n",
      "    225     0.7925        0.5388       0.7189        0.5508  0.0531\n",
      "    226     0.7938        0.5395       0.7213        0.5493  0.0518\n",
      "    227     0.7945        0.5396       0.7232        0.5489  0.0489\n",
      "    228     0.7929        0.5379       0.7189        0.5502  0.0551\n",
      "    229     0.7940        0.5383       0.7237        0.5487  0.0584\n",
      "    230     0.7943        0.5384       0.7228        0.5488  0.0712\n",
      "    231     0.7939        0.5383       0.7232        0.5490  0.0612\n",
      "    232     0.7935        0.5385       0.7218        0.5495  0.0559\n",
      "    233     0.7942        \u001b[32m0.5376\u001b[0m       0.7223        0.5493  0.0549\n",
      "    234     0.7939        \u001b[32m0.5375\u001b[0m       0.7213        0.5492  0.0686\n",
      "    235     0.7936        0.5379       0.7208        0.5497  0.0537\n",
      "    236     0.7940        0.5379       0.7199        0.5490  0.0539\n",
      "    237     0.7940        0.5379       0.7208        0.5490  0.0520\n",
      "    238     0.7939        0.5377       0.7223        0.5492  0.0694\n",
      "    239     0.7932        0.5378       0.7213        0.5495  0.0508\n",
      "    240     0.7929        0.5378       0.7213        0.5501  0.0485\n",
      "    241     0.7942        0.5386       0.7237        0.5487  0.0608\n",
      "    242     0.7942        0.5378       0.7232        0.5491  0.0643\n",
      "    243     0.7941        \u001b[32m0.5371\u001b[0m       0.7237        0.5490  0.0506\n",
      "    244     0.7946        0.5372       0.7232        \u001b[31m0.5483\u001b[0m  0.0501\n",
      "    245     0.7940        0.5374       0.7223        0.5487  0.0667\n",
      "    246     0.7936        0.5378       0.7213        0.5493  0.0561\n",
      "    247     0.7946        0.5374       0.7218        0.5489  0.0505\n",
      "    248     0.7939        \u001b[32m0.5364\u001b[0m       0.7223        0.5491  0.0526\n",
      "    249     0.7928        0.5375       0.7204        0.5503  0.0626\n",
      "    250     0.7944        0.5366       0.7185        0.5490  0.0584\n",
      "    251     0.7936        0.5378       0.7204        0.5495  0.0503\n",
      "    252     0.7936        0.5373       0.7218        0.5493  0.0513\n",
      "    253     0.7930        0.5383       0.7228        0.5500  0.0641\n",
      "    254     0.7937        0.5370       0.7204        0.5499  0.0565\n",
      "    255     0.7936        0.5378       0.7208        0.5491  0.0532\n",
      "    256     0.7943        0.5379       0.7237        0.5489  0.0516\n",
      "    257     0.7937        0.5372       0.7213        0.5492  0.0561\n",
      "    258     0.7945        0.5382       0.7223        0.5490  0.0611\n",
      "    259     0.7935        0.5366       0.7208        0.5495  0.0529\n",
      "    260     0.7933        0.5378       0.7189        0.5500  0.0494\n",
      "    261     0.7946        0.5374       0.7208        0.5488  0.0598\n",
      "    262     0.7938        0.5366       0.7223        0.5493  0.0539\n",
      "    263     0.7941        0.5382       0.7213        0.5497  0.0510\n",
      "    264     0.7929        0.5369       0.7161        0.5504  0.0523\n",
      "    265     0.7933        0.5374       0.7194        0.5494  0.0654\n",
      "    266     0.7943        0.5373       0.7180        0.5490  0.0530\n",
      "    267     0.7935        0.5372       0.7199        0.5491  0.0513\n",
      "    268     0.7936        0.5379       0.7232        0.5493  0.1267\n",
      "Stopping since roc_auc has not improved in the last 50 epochs.\n",
      "Restoring best model from epoch 219.\n",
      "CPU times: user 15.7 s, sys: 73.6 ms, total: 15.8 s\n",
      "Wall time: 15.8 s\n"
     ]
    }
   ],
   "source": [
    "%%time\n",
    "valid_dataset = Dataset(X_test_.values.astype(np.float32),Y_test_.astype(np.float32))\n",
    "TabSRA = TabSRALinearClassifier(**other_params,train_split = predefined_split(valid_dataset),callbacks = call_b)#,\n",
    "_ = TabSRA.fit(X_train_.values.astype(np.float32),Y_train_.astype(np.float32))"
   ]
  },
  {
   "cell_type": "code",
   "execution_count": 63,
   "id": "05237092-3cb3-4403-a0f9-f3271c329678",
   "metadata": {},
   "outputs": [
    {
     "name": "stdout",
     "output_type": "stream",
     "text": [
      "--AUCROC perf = 0.7947014652014652 -- AUCPR perf = 0.7753445622806545\n"
     ]
    }
   ],
   "source": [
    "# Inference on the test set. the Predict function will return the ouptut scores and the attention weights as Model.get_attention is True\n",
    "pred_tabsra = TabSRA.predict_proba(X_test_.values.astype(np.float32))[:,1]\n",
    "\n",
    "best_aucroc = roc_auc_score(Y_test_, pred_tabsra) \n",
    "best_aurpr = average_precision_score(Y_test_, pred_tabsra) \n",
    "print(f\"--AUCROC perf = {best_aucroc} -- AUCPR perf = {best_aurpr}\")"
   ]
  },
  {
   "cell_type": "code",
   "execution_count": 28,
   "id": "3a7e9d03-8f51-444d-bc72-891832eaf6e3",
   "metadata": {},
   "outputs": [
    {
     "data": {
      "text/html": [
       "<div>\n",
       "<style scoped>\n",
       "    .dataframe tbody tr th:only-of-type {\n",
       "        vertical-align: middle;\n",
       "    }\n",
       "\n",
       "    .dataframe tbody tr th {\n",
       "        vertical-align: top;\n",
       "    }\n",
       "\n",
       "    .dataframe thead th {\n",
       "        text-align: right;\n",
       "    }\n",
       "</style>\n",
       "<table border=\"1\" class=\"dataframe\">\n",
       "  <thead>\n",
       "    <tr style=\"text-align: right;\">\n",
       "      <th></th>\n",
       "      <th>ExternalRiskEstimate</th>\n",
       "      <th>MSinceOldestTradeOpen</th>\n",
       "      <th>MSinceMostRecentTradeOpen</th>\n",
       "      <th>AverageMInFile</th>\n",
       "      <th>NumSatisfactoryTrades</th>\n",
       "      <th>NumTrades60Ever2DerogPubRec</th>\n",
       "      <th>NumTrades90Ever2DerogPubRec</th>\n",
       "      <th>PercentTradesNeverDelq</th>\n",
       "      <th>MSinceMostRecentDelq</th>\n",
       "      <th>MaxDelq2PublicRecLast12M</th>\n",
       "      <th>MaxDelqEver</th>\n",
       "      <th>NumTotalTrades</th>\n",
       "      <th>NumTradesOpeninLast12M</th>\n",
       "      <th>PercentInstallTrades</th>\n",
       "      <th>MSinceMostRecentInqexcl7days</th>\n",
       "      <th>NumInqLast6M</th>\n",
       "      <th>NumInqLast6Mexcl7days</th>\n",
       "      <th>NetFractionRevolvingBurden</th>\n",
       "      <th>NetFractionInstallBurden</th>\n",
       "      <th>NumRevolvingTradesWBalance</th>\n",
       "      <th>NumInstallTradesWBalance</th>\n",
       "      <th>NumBank2NatlTradesWHighUtilization</th>\n",
       "      <th>PercentTradesWBalance</th>\n",
       "    </tr>\n",
       "  </thead>\n",
       "  <tbody>\n",
       "    <tr>\n",
       "      <th>0</th>\n",
       "      <td>1.611713</td>\n",
       "      <td>0.144753</td>\n",
       "      <td>-0.2851</td>\n",
       "      <td>1.447543</td>\n",
       "      <td>0.918009</td>\n",
       "      <td>-0.210805</td>\n",
       "      <td>-0.08536</td>\n",
       "      <td>1.79208</td>\n",
       "      <td>0.396699</td>\n",
       "      <td>0.863246</td>\n",
       "      <td>-0.022624</td>\n",
       "      <td>-0.061059</td>\n",
       "      <td>0.152821</td>\n",
       "      <td>-0.725277</td>\n",
       "      <td>0.896041</td>\n",
       "      <td>-0.773791</td>\n",
       "      <td>-0.218277</td>\n",
       "      <td>-1.111185</td>\n",
       "      <td>-0.157643</td>\n",
       "      <td>-1.151793</td>\n",
       "      <td>0.170946</td>\n",
       "      <td>0.030289</td>\n",
       "      <td>0.057035</td>\n",
       "    </tr>\n",
       "  </tbody>\n",
       "</table>\n",
       "</div>"
      ],
      "text/plain": [
       "   ExternalRiskEstimate  MSinceOldestTradeOpen  MSinceMostRecentTradeOpen  \\\n",
       "0              1.611713               0.144753                    -0.2851   \n",
       "\n",
       "   AverageMInFile  NumSatisfactoryTrades  NumTrades60Ever2DerogPubRec  \\\n",
       "0        1.447543               0.918009                    -0.210805   \n",
       "\n",
       "   NumTrades90Ever2DerogPubRec  PercentTradesNeverDelq  MSinceMostRecentDelq  \\\n",
       "0                     -0.08536                 1.79208              0.396699   \n",
       "\n",
       "   MaxDelq2PublicRecLast12M  MaxDelqEver  NumTotalTrades  \\\n",
       "0                  0.863246    -0.022624       -0.061059   \n",
       "\n",
       "   NumTradesOpeninLast12M  PercentInstallTrades  MSinceMostRecentInqexcl7days  \\\n",
       "0                0.152821             -0.725277                      0.896041   \n",
       "\n",
       "   NumInqLast6M  NumInqLast6Mexcl7days  NetFractionRevolvingBurden  \\\n",
       "0     -0.773791              -0.218277                   -1.111185   \n",
       "\n",
       "   NetFractionInstallBurden  NumRevolvingTradesWBalance  \\\n",
       "0                 -0.157643                   -1.151793   \n",
       "\n",
       "   NumInstallTradesWBalance  NumBank2NatlTradesWHighUtilization  \\\n",
       "0                  0.170946                            0.030289   \n",
       "\n",
       "   PercentTradesWBalance  \n",
       "0               0.057035  "
      ]
     },
     "execution_count": 28,
     "metadata": {},
     "output_type": "execute_result"
    }
   ],
   "source": [
    "Coef  = pd.DataFrame(TabSRA.get_weights()[0])\n",
    "Coef = Coef.T\n",
    "Coef.columns=feature_names\n",
    "Coef"
   ]
  },
  {
   "cell_type": "markdown",
   "id": "72af0eb1-646b-4f57-9deb-6cc304bf5f8d",
   "metadata": {},
   "source": [
    "### XGBoost"
   ]
  },
  {
   "cell_type": "code",
   "execution_count": 30,
   "id": "a2272e98-4ce4-4869-a759-49cbb1cb2530",
   "metadata": {},
   "outputs": [],
   "source": [
    "static_params = {\n",
    "                 'random_state':42,\n",
    "                 'objective': 'binary:logistic',\n",
    "                 'n_jobs': -1,\n",
    "                 #'base_score':y.mean()\n",
    "\n",
    "}\n",
    "\n",
    "params = {'eta': 0.0054836062607363095, 'max_depth': 4, 'colsample_bytree': 1.0, 'subsample': 0.8, 'n_estimators': 1100, 'min_child_weight': 22}\n",
    "\n",
    "\n",
    "\n",
    "params.update(static_params)"
   ]
  },
  {
   "cell_type": "code",
   "execution_count": 31,
   "id": "037dc1ca-95f0-4d4b-8e9b-56c3a031962a",
   "metadata": {},
   "outputs": [],
   "source": [
    "model_xgb = XGBClassifier(**params)"
   ]
  },
  {
   "cell_type": "code",
   "execution_count": 34,
   "id": "07b84507-14b3-4e2b-85f9-67b14c4214c6",
   "metadata": {
    "tags": []
   },
   "outputs": [
    {
     "name": "stderr",
     "output_type": "stream",
     "text": [
      "/home/kodjo/anaconda3/lib/python3.9/site-packages/xgboost/sklearn.py:1224: UserWarning: The use of label encoder in XGBClassifier is deprecated and will be removed in a future release. To remove this warning, do the following: 1) Pass option use_label_encoder=False when constructing XGBClassifier object; and 2) Encode your labels (y) as integers starting with 0, i.e. 0, 1, 2, ..., [num_class - 1].\n",
      "  warnings.warn(label_encoder_deprecation_msg, UserWarning)\n"
     ]
    },
    {
     "data": {
      "text/html": [
       "<style>#sk-container-id-2 {color: black;background-color: white;}#sk-container-id-2 pre{padding: 0;}#sk-container-id-2 div.sk-toggleable {background-color: white;}#sk-container-id-2 label.sk-toggleable__label {cursor: pointer;display: block;width: 100%;margin-bottom: 0;padding: 0.3em;box-sizing: border-box;text-align: center;}#sk-container-id-2 label.sk-toggleable__label-arrow:before {content: \"▸\";float: left;margin-right: 0.25em;color: #696969;}#sk-container-id-2 label.sk-toggleable__label-arrow:hover:before {color: black;}#sk-container-id-2 div.sk-estimator:hover label.sk-toggleable__label-arrow:before {color: black;}#sk-container-id-2 div.sk-toggleable__content {max-height: 0;max-width: 0;overflow: hidden;text-align: left;background-color: #f0f8ff;}#sk-container-id-2 div.sk-toggleable__content pre {margin: 0.2em;color: black;border-radius: 0.25em;background-color: #f0f8ff;}#sk-container-id-2 input.sk-toggleable__control:checked~div.sk-toggleable__content {max-height: 200px;max-width: 100%;overflow: auto;}#sk-container-id-2 input.sk-toggleable__control:checked~label.sk-toggleable__label-arrow:before {content: \"▾\";}#sk-container-id-2 div.sk-estimator input.sk-toggleable__control:checked~label.sk-toggleable__label {background-color: #d4ebff;}#sk-container-id-2 div.sk-label input.sk-toggleable__control:checked~label.sk-toggleable__label {background-color: #d4ebff;}#sk-container-id-2 input.sk-hidden--visually {border: 0;clip: rect(1px 1px 1px 1px);clip: rect(1px, 1px, 1px, 1px);height: 1px;margin: -1px;overflow: hidden;padding: 0;position: absolute;width: 1px;}#sk-container-id-2 div.sk-estimator {font-family: monospace;background-color: #f0f8ff;border: 1px dotted black;border-radius: 0.25em;box-sizing: border-box;margin-bottom: 0.5em;}#sk-container-id-2 div.sk-estimator:hover {background-color: #d4ebff;}#sk-container-id-2 div.sk-parallel-item::after {content: \"\";width: 100%;border-bottom: 1px solid gray;flex-grow: 1;}#sk-container-id-2 div.sk-label:hover label.sk-toggleable__label {background-color: #d4ebff;}#sk-container-id-2 div.sk-serial::before {content: \"\";position: absolute;border-left: 1px solid gray;box-sizing: border-box;top: 0;bottom: 0;left: 50%;z-index: 0;}#sk-container-id-2 div.sk-serial {display: flex;flex-direction: column;align-items: center;background-color: white;padding-right: 0.2em;padding-left: 0.2em;position: relative;}#sk-container-id-2 div.sk-item {position: relative;z-index: 1;}#sk-container-id-2 div.sk-parallel {display: flex;align-items: stretch;justify-content: center;background-color: white;position: relative;}#sk-container-id-2 div.sk-item::before, #sk-container-id-2 div.sk-parallel-item::before {content: \"\";position: absolute;border-left: 1px solid gray;box-sizing: border-box;top: 0;bottom: 0;left: 50%;z-index: -1;}#sk-container-id-2 div.sk-parallel-item {display: flex;flex-direction: column;z-index: 1;position: relative;background-color: white;}#sk-container-id-2 div.sk-parallel-item:first-child::after {align-self: flex-end;width: 50%;}#sk-container-id-2 div.sk-parallel-item:last-child::after {align-self: flex-start;width: 50%;}#sk-container-id-2 div.sk-parallel-item:only-child::after {width: 0;}#sk-container-id-2 div.sk-dashed-wrapped {border: 1px dashed gray;margin: 0 0.4em 0.5em 0.4em;box-sizing: border-box;padding-bottom: 0.4em;background-color: white;}#sk-container-id-2 div.sk-label label {font-family: monospace;font-weight: bold;display: inline-block;line-height: 1.2em;}#sk-container-id-2 div.sk-label-container {text-align: center;}#sk-container-id-2 div.sk-container {/* jupyter's `normalize.less` sets `[hidden] { display: none; }` but bootstrap.min.css set `[hidden] { display: none !important; }` so we also need the `!important` here to be able to override the default hidden behavior on the sphinx rendered scikit-learn.org. See: https://github.com/scikit-learn/scikit-learn/issues/21755 */display: inline-block !important;position: relative;}#sk-container-id-2 div.sk-text-repr-fallback {display: none;}</style><div id=\"sk-container-id-2\" class=\"sk-top-container\"><div class=\"sk-text-repr-fallback\"><pre>XGBClassifier(base_score=0.5, booster=&#x27;gbtree&#x27;, colsample_bylevel=1,\n",
       "              colsample_bynode=1, colsample_bytree=1.0,\n",
       "              enable_categorical=False, eta=0.0054836062607363095, gamma=0,\n",
       "              gpu_id=-1, importance_type=None, interaction_constraints=&#x27;&#x27;,\n",
       "              learning_rate=0.00548360636, max_delta_step=0, max_depth=4,\n",
       "              min_child_weight=22, missing=nan, monotone_constraints=&#x27;()&#x27;,\n",
       "              n_estimators=1100, n_jobs=-1, num_parallel_tree=1,\n",
       "              predictor=&#x27;auto&#x27;, random_state=42, reg_alpha=0, reg_lambda=1,\n",
       "              scale_pos_weight=1, subsample=0.8, tree_method=&#x27;exact&#x27;,\n",
       "              validate_parameters=1, verbosity=None)</pre><b>In a Jupyter environment, please rerun this cell to show the HTML representation or trust the notebook. <br />On GitHub, the HTML representation is unable to render, please try loading this page with nbviewer.org.</b></div><div class=\"sk-container\" hidden><div class=\"sk-item\"><div class=\"sk-estimator sk-toggleable\"><input class=\"sk-toggleable__control sk-hidden--visually\" id=\"sk-estimator-id-2\" type=\"checkbox\" checked><label for=\"sk-estimator-id-2\" class=\"sk-toggleable__label sk-toggleable__label-arrow\">XGBClassifier</label><div class=\"sk-toggleable__content\"><pre>XGBClassifier(base_score=0.5, booster=&#x27;gbtree&#x27;, colsample_bylevel=1,\n",
       "              colsample_bynode=1, colsample_bytree=1.0,\n",
       "              enable_categorical=False, eta=0.0054836062607363095, gamma=0,\n",
       "              gpu_id=-1, importance_type=None, interaction_constraints=&#x27;&#x27;,\n",
       "              learning_rate=0.00548360636, max_delta_step=0, max_depth=4,\n",
       "              min_child_weight=22, missing=nan, monotone_constraints=&#x27;()&#x27;,\n",
       "              n_estimators=1100, n_jobs=-1, num_parallel_tree=1,\n",
       "              predictor=&#x27;auto&#x27;, random_state=42, reg_alpha=0, reg_lambda=1,\n",
       "              scale_pos_weight=1, subsample=0.8, tree_method=&#x27;exact&#x27;,\n",
       "              validate_parameters=1, verbosity=None)</pre></div></div></div></div></div>"
      ],
      "text/plain": [
       "XGBClassifier(base_score=0.5, booster='gbtree', colsample_bylevel=1,\n",
       "              colsample_bynode=1, colsample_bytree=1.0,\n",
       "              enable_categorical=False, eta=0.0054836062607363095, gamma=0,\n",
       "              gpu_id=-1, importance_type=None, interaction_constraints='',\n",
       "              learning_rate=0.00548360636, max_delta_step=0, max_depth=4,\n",
       "              min_child_weight=22, missing=nan, monotone_constraints='()',\n",
       "              n_estimators=1100, n_jobs=-1, num_parallel_tree=1,\n",
       "              predictor='auto', random_state=42, reg_alpha=0, reg_lambda=1,\n",
       "              scale_pos_weight=1, subsample=0.8, tree_method='exact',\n",
       "              validate_parameters=1, verbosity=None)"
      ]
     },
     "execution_count": 34,
     "metadata": {},
     "output_type": "execute_result"
    }
   ],
   "source": [
    "eval_set = [(X_train_.values, Y_train_), (X_test_.values, Y_test_)] #(X_train, Y_train[:,1]), \n",
    "model_xgb.fit(X_train_.values, Y_train_, eval_metric=['auc'], eval_set=eval_set, verbose=0,early_stopping_rounds=100)"
   ]
  },
  {
   "cell_type": "code",
   "execution_count": 35,
   "id": "cc9eafe4-73b1-4310-98c8-f82333f9ab7a",
   "metadata": {},
   "outputs": [
    {
     "name": "stdout",
     "output_type": "stream",
     "text": [
      "--AUCROC perf = 0.7976245421245421 -- AUCPR perf = 0.7814848170562338\n"
     ]
    }
   ],
   "source": [
    "pred_xgb = model_xgb.predict_proba(X_test_)[:,1]\n",
    "best_aucroc_xgb = roc_auc_score(Y_test_, pred_xgb) \n",
    "best_aurpr_xgb = average_precision_score(Y_test_, pred_xgb) \n",
    "print(f\"--AUCROC perf = {best_aucroc_xgb} -- AUCPR perf = {best_aurpr_xgb}\")"
   ]
  },
  {
   "cell_type": "markdown",
   "id": "5368c205-95c6-4b6e-ad41-a5c8722f61bb",
   "metadata": {},
   "source": [
    "### EBM"
   ]
  },
  {
   "cell_type": "code",
   "execution_count": 37,
   "id": "9275b5ab-2046-4f66-b4a3-64cca009171a",
   "metadata": {},
   "outputs": [
    {
     "data": {
      "text/html": [
       "<style>#sk-container-id-3 {color: black;background-color: white;}#sk-container-id-3 pre{padding: 0;}#sk-container-id-3 div.sk-toggleable {background-color: white;}#sk-container-id-3 label.sk-toggleable__label {cursor: pointer;display: block;width: 100%;margin-bottom: 0;padding: 0.3em;box-sizing: border-box;text-align: center;}#sk-container-id-3 label.sk-toggleable__label-arrow:before {content: \"▸\";float: left;margin-right: 0.25em;color: #696969;}#sk-container-id-3 label.sk-toggleable__label-arrow:hover:before {color: black;}#sk-container-id-3 div.sk-estimator:hover label.sk-toggleable__label-arrow:before {color: black;}#sk-container-id-3 div.sk-toggleable__content {max-height: 0;max-width: 0;overflow: hidden;text-align: left;background-color: #f0f8ff;}#sk-container-id-3 div.sk-toggleable__content pre {margin: 0.2em;color: black;border-radius: 0.25em;background-color: #f0f8ff;}#sk-container-id-3 input.sk-toggleable__control:checked~div.sk-toggleable__content {max-height: 200px;max-width: 100%;overflow: auto;}#sk-container-id-3 input.sk-toggleable__control:checked~label.sk-toggleable__label-arrow:before {content: \"▾\";}#sk-container-id-3 div.sk-estimator input.sk-toggleable__control:checked~label.sk-toggleable__label {background-color: #d4ebff;}#sk-container-id-3 div.sk-label input.sk-toggleable__control:checked~label.sk-toggleable__label {background-color: #d4ebff;}#sk-container-id-3 input.sk-hidden--visually {border: 0;clip: rect(1px 1px 1px 1px);clip: rect(1px, 1px, 1px, 1px);height: 1px;margin: -1px;overflow: hidden;padding: 0;position: absolute;width: 1px;}#sk-container-id-3 div.sk-estimator {font-family: monospace;background-color: #f0f8ff;border: 1px dotted black;border-radius: 0.25em;box-sizing: border-box;margin-bottom: 0.5em;}#sk-container-id-3 div.sk-estimator:hover {background-color: #d4ebff;}#sk-container-id-3 div.sk-parallel-item::after {content: \"\";width: 100%;border-bottom: 1px solid gray;flex-grow: 1;}#sk-container-id-3 div.sk-label:hover label.sk-toggleable__label {background-color: #d4ebff;}#sk-container-id-3 div.sk-serial::before {content: \"\";position: absolute;border-left: 1px solid gray;box-sizing: border-box;top: 0;bottom: 0;left: 50%;z-index: 0;}#sk-container-id-3 div.sk-serial {display: flex;flex-direction: column;align-items: center;background-color: white;padding-right: 0.2em;padding-left: 0.2em;position: relative;}#sk-container-id-3 div.sk-item {position: relative;z-index: 1;}#sk-container-id-3 div.sk-parallel {display: flex;align-items: stretch;justify-content: center;background-color: white;position: relative;}#sk-container-id-3 div.sk-item::before, #sk-container-id-3 div.sk-parallel-item::before {content: \"\";position: absolute;border-left: 1px solid gray;box-sizing: border-box;top: 0;bottom: 0;left: 50%;z-index: -1;}#sk-container-id-3 div.sk-parallel-item {display: flex;flex-direction: column;z-index: 1;position: relative;background-color: white;}#sk-container-id-3 div.sk-parallel-item:first-child::after {align-self: flex-end;width: 50%;}#sk-container-id-3 div.sk-parallel-item:last-child::after {align-self: flex-start;width: 50%;}#sk-container-id-3 div.sk-parallel-item:only-child::after {width: 0;}#sk-container-id-3 div.sk-dashed-wrapped {border: 1px dashed gray;margin: 0 0.4em 0.5em 0.4em;box-sizing: border-box;padding-bottom: 0.4em;background-color: white;}#sk-container-id-3 div.sk-label label {font-family: monospace;font-weight: bold;display: inline-block;line-height: 1.2em;}#sk-container-id-3 div.sk-label-container {text-align: center;}#sk-container-id-3 div.sk-container {/* jupyter's `normalize.less` sets `[hidden] { display: none; }` but bootstrap.min.css set `[hidden] { display: none !important; }` so we also need the `!important` here to be able to override the default hidden behavior on the sphinx rendered scikit-learn.org. See: https://github.com/scikit-learn/scikit-learn/issues/21755 */display: inline-block !important;position: relative;}#sk-container-id-3 div.sk-text-repr-fallback {display: none;}</style><div id=\"sk-container-id-3\" class=\"sk-top-container\"><div class=\"sk-text-repr-fallback\"><pre>ExplainableBoostingClassifier(inner_bags=25, max_rounds=20000, n_jobs=-1,\n",
       "                              outer_bags=100)</pre><b>In a Jupyter environment, please rerun this cell to show the HTML representation or trust the notebook. <br />On GitHub, the HTML representation is unable to render, please try loading this page with nbviewer.org.</b></div><div class=\"sk-container\" hidden><div class=\"sk-item\"><div class=\"sk-estimator sk-toggleable\"><input class=\"sk-toggleable__control sk-hidden--visually\" id=\"sk-estimator-id-3\" type=\"checkbox\" checked><label for=\"sk-estimator-id-3\" class=\"sk-toggleable__label sk-toggleable__label-arrow\">ExplainableBoostingClassifier</label><div class=\"sk-toggleable__content\"><pre>ExplainableBoostingClassifier(inner_bags=25, max_rounds=20000, n_jobs=-1,\n",
       "                              outer_bags=100)</pre></div></div></div></div></div>"
      ],
      "text/plain": [
       "ExplainableBoostingClassifier(inner_bags=25, max_rounds=20000, n_jobs=-1,\n",
       "                              outer_bags=100)"
      ]
     },
     "execution_count": 37,
     "metadata": {},
     "output_type": "execute_result"
    }
   ],
   "source": [
    "ExplainableBoostingClassifier(interactions=10,max_rounds=20000,early_stopping_rounds=50,inner_bags=25,outer_bags=100,n_jobs=-1)"
   ]
  },
  {
   "cell_type": "code",
   "execution_count": 38,
   "id": "10518a11-8b27-4d46-b4f6-141415a23ba4",
   "metadata": {},
   "outputs": [
    {
     "name": "stdout",
     "output_type": "stream",
     "text": [
      "CPU times: user 309 ms, sys: 320 ms, total: 628 ms\n",
      "Wall time: 22.9 s\n"
     ]
    },
    {
     "data": {
      "text/html": [
       "<style>#sk-container-id-4 {color: black;background-color: white;}#sk-container-id-4 pre{padding: 0;}#sk-container-id-4 div.sk-toggleable {background-color: white;}#sk-container-id-4 label.sk-toggleable__label {cursor: pointer;display: block;width: 100%;margin-bottom: 0;padding: 0.3em;box-sizing: border-box;text-align: center;}#sk-container-id-4 label.sk-toggleable__label-arrow:before {content: \"▸\";float: left;margin-right: 0.25em;color: #696969;}#sk-container-id-4 label.sk-toggleable__label-arrow:hover:before {color: black;}#sk-container-id-4 div.sk-estimator:hover label.sk-toggleable__label-arrow:before {color: black;}#sk-container-id-4 div.sk-toggleable__content {max-height: 0;max-width: 0;overflow: hidden;text-align: left;background-color: #f0f8ff;}#sk-container-id-4 div.sk-toggleable__content pre {margin: 0.2em;color: black;border-radius: 0.25em;background-color: #f0f8ff;}#sk-container-id-4 input.sk-toggleable__control:checked~div.sk-toggleable__content {max-height: 200px;max-width: 100%;overflow: auto;}#sk-container-id-4 input.sk-toggleable__control:checked~label.sk-toggleable__label-arrow:before {content: \"▾\";}#sk-container-id-4 div.sk-estimator input.sk-toggleable__control:checked~label.sk-toggleable__label {background-color: #d4ebff;}#sk-container-id-4 div.sk-label input.sk-toggleable__control:checked~label.sk-toggleable__label {background-color: #d4ebff;}#sk-container-id-4 input.sk-hidden--visually {border: 0;clip: rect(1px 1px 1px 1px);clip: rect(1px, 1px, 1px, 1px);height: 1px;margin: -1px;overflow: hidden;padding: 0;position: absolute;width: 1px;}#sk-container-id-4 div.sk-estimator {font-family: monospace;background-color: #f0f8ff;border: 1px dotted black;border-radius: 0.25em;box-sizing: border-box;margin-bottom: 0.5em;}#sk-container-id-4 div.sk-estimator:hover {background-color: #d4ebff;}#sk-container-id-4 div.sk-parallel-item::after {content: \"\";width: 100%;border-bottom: 1px solid gray;flex-grow: 1;}#sk-container-id-4 div.sk-label:hover label.sk-toggleable__label {background-color: #d4ebff;}#sk-container-id-4 div.sk-serial::before {content: \"\";position: absolute;border-left: 1px solid gray;box-sizing: border-box;top: 0;bottom: 0;left: 50%;z-index: 0;}#sk-container-id-4 div.sk-serial {display: flex;flex-direction: column;align-items: center;background-color: white;padding-right: 0.2em;padding-left: 0.2em;position: relative;}#sk-container-id-4 div.sk-item {position: relative;z-index: 1;}#sk-container-id-4 div.sk-parallel {display: flex;align-items: stretch;justify-content: center;background-color: white;position: relative;}#sk-container-id-4 div.sk-item::before, #sk-container-id-4 div.sk-parallel-item::before {content: \"\";position: absolute;border-left: 1px solid gray;box-sizing: border-box;top: 0;bottom: 0;left: 50%;z-index: -1;}#sk-container-id-4 div.sk-parallel-item {display: flex;flex-direction: column;z-index: 1;position: relative;background-color: white;}#sk-container-id-4 div.sk-parallel-item:first-child::after {align-self: flex-end;width: 50%;}#sk-container-id-4 div.sk-parallel-item:last-child::after {align-self: flex-start;width: 50%;}#sk-container-id-4 div.sk-parallel-item:only-child::after {width: 0;}#sk-container-id-4 div.sk-dashed-wrapped {border: 1px dashed gray;margin: 0 0.4em 0.5em 0.4em;box-sizing: border-box;padding-bottom: 0.4em;background-color: white;}#sk-container-id-4 div.sk-label label {font-family: monospace;font-weight: bold;display: inline-block;line-height: 1.2em;}#sk-container-id-4 div.sk-label-container {text-align: center;}#sk-container-id-4 div.sk-container {/* jupyter's `normalize.less` sets `[hidden] { display: none; }` but bootstrap.min.css set `[hidden] { display: none !important; }` so we also need the `!important` here to be able to override the default hidden behavior on the sphinx rendered scikit-learn.org. See: https://github.com/scikit-learn/scikit-learn/issues/21755 */display: inline-block !important;position: relative;}#sk-container-id-4 div.sk-text-repr-fallback {display: none;}</style><div id=\"sk-container-id-4\" class=\"sk-top-container\"><div class=\"sk-text-repr-fallback\"><pre>ExplainableBoostingClassifier(inner_bags=25, interactions=0, max_rounds=20000,\n",
       "                              n_jobs=-1, outer_bags=100)</pre><b>In a Jupyter environment, please rerun this cell to show the HTML representation or trust the notebook. <br />On GitHub, the HTML representation is unable to render, please try loading this page with nbviewer.org.</b></div><div class=\"sk-container\" hidden><div class=\"sk-item\"><div class=\"sk-estimator sk-toggleable\"><input class=\"sk-toggleable__control sk-hidden--visually\" id=\"sk-estimator-id-4\" type=\"checkbox\" checked><label for=\"sk-estimator-id-4\" class=\"sk-toggleable__label sk-toggleable__label-arrow\">ExplainableBoostingClassifier</label><div class=\"sk-toggleable__content\"><pre>ExplainableBoostingClassifier(inner_bags=25, interactions=0, max_rounds=20000,\n",
       "                              n_jobs=-1, outer_bags=100)</pre></div></div></div></div></div>"
      ],
      "text/plain": [
       "ExplainableBoostingClassifier(inner_bags=25, interactions=0, max_rounds=20000,\n",
       "                              n_jobs=-1, outer_bags=100)"
      ]
     },
     "execution_count": 38,
     "metadata": {},
     "output_type": "execute_result"
    }
   ],
   "source": [
    "%%time\n",
    "EBM_S = ExplainableBoostingClassifier(interactions=0,max_rounds=20000,early_stopping_rounds=50,inner_bags=25,outer_bags=100,n_jobs=-1)#max_bins=256#,inner_bags=100,outer_bags=100 # 10\n",
    "EBM_S.fit(X_train_, Y_train_)"
   ]
  },
  {
   "cell_type": "code",
   "execution_count": 39,
   "id": "8d47b97d-c5e7-4289-844d-3835bac01bed",
   "metadata": {},
   "outputs": [
    {
     "name": "stdout",
     "output_type": "stream",
     "text": [
      "--AUCROC perf = 0.7950137362637363 -- AUCPR perf = 0.7775959851942762\n"
     ]
    }
   ],
   "source": [
    "pred_ebm_s = EBM_S.predict_proba(X_test_)[:,1]\n",
    "best_aucroc_ebm_s = roc_auc_score(Y_test_, pred_ebm_s) \n",
    "best_aurpr_ebm_s = average_precision_score(Y_test_, pred_ebm_s) \n",
    "print(f\"--AUCROC perf = {best_aucroc_ebm_s} -- AUCPR perf = {best_aurpr_ebm_s}\")"
   ]
  },
  {
   "cell_type": "code",
   "execution_count": 41,
   "id": "2b4e4473-4f21-4bc0-8eb1-b96fa4ef3287",
   "metadata": {},
   "outputs": [
    {
     "name": "stdout",
     "output_type": "stream",
     "text": [
      "CPU times: user 869 ms, sys: 35.6 ms, total: 905 ms\n",
      "Wall time: 43.3 s\n"
     ]
    },
    {
     "data": {
      "text/html": [
       "<style>#sk-container-id-5 {color: black;background-color: white;}#sk-container-id-5 pre{padding: 0;}#sk-container-id-5 div.sk-toggleable {background-color: white;}#sk-container-id-5 label.sk-toggleable__label {cursor: pointer;display: block;width: 100%;margin-bottom: 0;padding: 0.3em;box-sizing: border-box;text-align: center;}#sk-container-id-5 label.sk-toggleable__label-arrow:before {content: \"▸\";float: left;margin-right: 0.25em;color: #696969;}#sk-container-id-5 label.sk-toggleable__label-arrow:hover:before {color: black;}#sk-container-id-5 div.sk-estimator:hover label.sk-toggleable__label-arrow:before {color: black;}#sk-container-id-5 div.sk-toggleable__content {max-height: 0;max-width: 0;overflow: hidden;text-align: left;background-color: #f0f8ff;}#sk-container-id-5 div.sk-toggleable__content pre {margin: 0.2em;color: black;border-radius: 0.25em;background-color: #f0f8ff;}#sk-container-id-5 input.sk-toggleable__control:checked~div.sk-toggleable__content {max-height: 200px;max-width: 100%;overflow: auto;}#sk-container-id-5 input.sk-toggleable__control:checked~label.sk-toggleable__label-arrow:before {content: \"▾\";}#sk-container-id-5 div.sk-estimator input.sk-toggleable__control:checked~label.sk-toggleable__label {background-color: #d4ebff;}#sk-container-id-5 div.sk-label input.sk-toggleable__control:checked~label.sk-toggleable__label {background-color: #d4ebff;}#sk-container-id-5 input.sk-hidden--visually {border: 0;clip: rect(1px 1px 1px 1px);clip: rect(1px, 1px, 1px, 1px);height: 1px;margin: -1px;overflow: hidden;padding: 0;position: absolute;width: 1px;}#sk-container-id-5 div.sk-estimator {font-family: monospace;background-color: #f0f8ff;border: 1px dotted black;border-radius: 0.25em;box-sizing: border-box;margin-bottom: 0.5em;}#sk-container-id-5 div.sk-estimator:hover {background-color: #d4ebff;}#sk-container-id-5 div.sk-parallel-item::after {content: \"\";width: 100%;border-bottom: 1px solid gray;flex-grow: 1;}#sk-container-id-5 div.sk-label:hover label.sk-toggleable__label {background-color: #d4ebff;}#sk-container-id-5 div.sk-serial::before {content: \"\";position: absolute;border-left: 1px solid gray;box-sizing: border-box;top: 0;bottom: 0;left: 50%;z-index: 0;}#sk-container-id-5 div.sk-serial {display: flex;flex-direction: column;align-items: center;background-color: white;padding-right: 0.2em;padding-left: 0.2em;position: relative;}#sk-container-id-5 div.sk-item {position: relative;z-index: 1;}#sk-container-id-5 div.sk-parallel {display: flex;align-items: stretch;justify-content: center;background-color: white;position: relative;}#sk-container-id-5 div.sk-item::before, #sk-container-id-5 div.sk-parallel-item::before {content: \"\";position: absolute;border-left: 1px solid gray;box-sizing: border-box;top: 0;bottom: 0;left: 50%;z-index: -1;}#sk-container-id-5 div.sk-parallel-item {display: flex;flex-direction: column;z-index: 1;position: relative;background-color: white;}#sk-container-id-5 div.sk-parallel-item:first-child::after {align-self: flex-end;width: 50%;}#sk-container-id-5 div.sk-parallel-item:last-child::after {align-self: flex-start;width: 50%;}#sk-container-id-5 div.sk-parallel-item:only-child::after {width: 0;}#sk-container-id-5 div.sk-dashed-wrapped {border: 1px dashed gray;margin: 0 0.4em 0.5em 0.4em;box-sizing: border-box;padding-bottom: 0.4em;background-color: white;}#sk-container-id-5 div.sk-label label {font-family: monospace;font-weight: bold;display: inline-block;line-height: 1.2em;}#sk-container-id-5 div.sk-label-container {text-align: center;}#sk-container-id-5 div.sk-container {/* jupyter's `normalize.less` sets `[hidden] { display: none; }` but bootstrap.min.css set `[hidden] { display: none !important; }` so we also need the `!important` here to be able to override the default hidden behavior on the sphinx rendered scikit-learn.org. See: https://github.com/scikit-learn/scikit-learn/issues/21755 */display: inline-block !important;position: relative;}#sk-container-id-5 div.sk-text-repr-fallback {display: none;}</style><div id=\"sk-container-id-5\" class=\"sk-top-container\"><div class=\"sk-text-repr-fallback\"><pre>ExplainableBoostingClassifier(inner_bags=25, max_rounds=20000, n_jobs=-1,\n",
       "                              outer_bags=100)</pre><b>In a Jupyter environment, please rerun this cell to show the HTML representation or trust the notebook. <br />On GitHub, the HTML representation is unable to render, please try loading this page with nbviewer.org.</b></div><div class=\"sk-container\" hidden><div class=\"sk-item\"><div class=\"sk-estimator sk-toggleable\"><input class=\"sk-toggleable__control sk-hidden--visually\" id=\"sk-estimator-id-5\" type=\"checkbox\" checked><label for=\"sk-estimator-id-5\" class=\"sk-toggleable__label sk-toggleable__label-arrow\">ExplainableBoostingClassifier</label><div class=\"sk-toggleable__content\"><pre>ExplainableBoostingClassifier(inner_bags=25, max_rounds=20000, n_jobs=-1,\n",
       "                              outer_bags=100)</pre></div></div></div></div></div>"
      ],
      "text/plain": [
       "ExplainableBoostingClassifier(inner_bags=25, max_rounds=20000, n_jobs=-1,\n",
       "                              outer_bags=100)"
      ]
     },
     "execution_count": 41,
     "metadata": {},
     "output_type": "execute_result"
    }
   ],
   "source": [
    "%%time\n",
    "EBM = ExplainableBoostingClassifier(interactions=10,max_rounds=20000,early_stopping_rounds=50,inner_bags=25,outer_bags=100,n_jobs=-1)#max_bins=256#,inner_bags=100,outer_bags=100 # 10\n",
    "EBM.fit(X_train_, Y_train_)"
   ]
  },
  {
   "cell_type": "code",
   "execution_count": 42,
   "id": "bca16629-62e3-4d95-8ae3-e13b01448faa",
   "metadata": {},
   "outputs": [
    {
     "name": "stdout",
     "output_type": "stream",
     "text": [
      "--AUCROC perf = 0.7982097069597069 -- AUCPR perf = 0.7826232899324753\n"
     ]
    }
   ],
   "source": [
    "pred_ebm = EBM.predict_proba(X_test_)[:,1]\n",
    "best_aucroc_ebm = roc_auc_score(Y_test_, pred_ebm) \n",
    "best_aurpr_ebm = average_precision_score(Y_test_, pred_ebm) \n",
    "print(f\"--AUCROC perf = {best_aucroc_ebm} -- AUCPR perf = {best_aurpr_ebm}\")"
   ]
  },
  {
   "cell_type": "markdown",
   "id": "65e6d92f-cc9a-4044-9285-2d68fced29eb",
   "metadata": {},
   "source": [
    "## Explanations"
   ]
  },
  {
   "cell_type": "code",
   "execution_count": 64,
   "id": "8403868b-365a-45be-974d-559edbeea879",
   "metadata": {},
   "outputs": [
    {
     "name": "stdout",
     "output_type": "stream",
     "text": [
      "CPU times: user 67.5 ms, sys: 253 µs, total: 67.7 ms\n",
      "Wall time: 5.8 ms\n"
     ]
    }
   ],
   "source": [
    "%%time\n",
    "attributions_linear = pd.DataFrame(LR.get_feature_attribution(X_test_.values))\n",
    "attributions_linear.columns = feature_names\n",
    "attributions_linear['pred_proba'] = pred_lr\n",
    "attributions_linear['label'] = Y_test_"
   ]
  },
  {
   "cell_type": "code",
   "execution_count": 65,
   "id": "284e53e7-8685-4943-8fef-a88e05c80645",
   "metadata": {},
   "outputs": [
    {
     "name": "stdout",
     "output_type": "stream",
     "text": [
      "CPU times: user 45.6 ms, sys: 922 µs, total: 46.5 ms\n",
      "Wall time: 5.06 ms\n"
     ]
    }
   ],
   "source": [
    "%%time\n",
    "attributions_tabsra = pd.DataFrame(TabSRA.get_feature_attribution(X_test_.values))\n",
    "attributions_tabsra.columns = feature_names\n",
    "attributions_tabsra['pred_proba'] = pred_tabsra\n",
    "attributions_tabsra['label'] = Y_test_"
   ]
  },
  {
   "cell_type": "code",
   "execution_count": 66,
   "id": "be45603f-aa52-4c55-ba40-66f76ded51e0",
   "metadata": {},
   "outputs": [
    {
     "name": "stderr",
     "output_type": "stream",
     "text": [
      "ntree_limit is deprecated, use `iteration_range` or model slicing instead.\n"
     ]
    },
    {
     "name": "stdout",
     "output_type": "stream",
     "text": [
      "CPU times: user 5.13 s, sys: 4.15 ms, total: 5.13 s\n",
      "Wall time: 626 ms\n"
     ]
    }
   ],
   "source": [
    "%%time\n",
    "explainer = shap.TreeExplainer(model_xgb)\n",
    "shap_values = explainer(X_test_)\n",
    "attributions_xgb = pd.DataFrame(shap_values.values)\n",
    "attributions_xgb.columns = feature_names\n",
    "attributions_xgb['pred_proba'] = pred_xgb\n",
    "attributions_xgb['label'] = Y_test_"
   ]
  },
  {
   "cell_type": "code",
   "execution_count": 67,
   "id": "b0649f71-82f6-4b81-815f-3e42762c879a",
   "metadata": {},
   "outputs": [],
   "source": [
    "def get_feature_attribution_EBM(model, X_test):\n",
    "    tmp  = model.explain_local(X_test)\n",
    "    df_EBM = []\n",
    "    for i in range(len(X_test)):\n",
    "        df_EBM.append(tmp.data(i)['scores'])\n",
    "    df_EBM = pd.DataFrame(df_EBM)\n",
    "    df_EBM.columns = tmp.data(0)['names']\n",
    "    return df_EBM"
   ]
  },
  {
   "cell_type": "code",
   "execution_count": 68,
   "id": "fa91b4e2-2ab6-4666-9a89-a625aaad9079",
   "metadata": {},
   "outputs": [],
   "source": [
    "attributions_EBM_S = get_feature_attribution_EBM(EBM_S, X_test_)\n"
   ]
  },
  {
   "cell_type": "code",
   "execution_count": 69,
   "id": "d76556ac-c93d-4f2e-8b52-6e1f7f0806e7",
   "metadata": {},
   "outputs": [
    {
     "name": "stdout",
     "output_type": "stream",
     "text": [
      "CPU times: user 74.9 ms, sys: 7.91 ms, total: 82.8 ms\n",
      "Wall time: 81.1 ms\n"
     ]
    }
   ],
   "source": [
    "%%time\n",
    "attributions_EBM_S = get_feature_attribution_EBM(EBM_S, X_test_)\n",
    "feature_names_EBM_S = list(attributions_EBM_S.columns)\n",
    "attributions_EBM_S['pred_proba'] = pred_ebm_s\n",
    "attributions_EBM_S['label'] = Y_test_"
   ]
  },
  {
   "cell_type": "code",
   "execution_count": 70,
   "id": "984a56d2-a57d-468e-b87f-24972c2a0c7f",
   "metadata": {},
   "outputs": [
    {
     "name": "stdout",
     "output_type": "stream",
     "text": [
      "CPU times: user 84.9 ms, sys: 8.04 ms, total: 93 ms\n",
      "Wall time: 91.1 ms\n"
     ]
    }
   ],
   "source": [
    "%%time\n",
    "attributions_EBM = get_feature_attribution_EBM(EBM, X_test_)\n",
    "feature_names_EBM = list(attributions_EBM.columns)\n",
    "attributions_EBM['pred_proba'] = pred_ebm\n",
    "attributions_EBM['label'] = Y_test_"
   ]
  },
  {
   "cell_type": "code",
   "execution_count": 71,
   "id": "cbab4691-d8e7-46bd-81a5-9910cbb056b2",
   "metadata": {},
   "outputs": [
    {
     "data": {
      "text/plain": [
       "1076"
      ]
     },
     "execution_count": 71,
     "metadata": {},
     "output_type": "execute_result"
    }
   ],
   "source": [
    "# sample random observations\n",
    "np.random.seed(42)\n",
    "random_ = np.random.randn(len(X_test_))\n",
    "sample_condition = np.where(random_>0, True, False)\n",
    "sample_condition.sum()"
   ]
  },
  {
   "cell_type": "code",
   "execution_count": 72,
   "id": "351cdc83-d870-4497-920e-5386ace257b0",
   "metadata": {},
   "outputs": [],
   "source": [
    "X_test_tmp = X_test_[sample_condition]"
   ]
  },
  {
   "cell_type": "code",
   "execution_count": 73,
   "id": "8ccad87c-2543-471f-a07f-494dbf765c0e",
   "metadata": {},
   "outputs": [],
   "source": [
    "alpha_stp = 1e-2\n",
    "n_pertub = 100\n",
    "epsilon_min = 1e-3\n",
    "n_features = len(feature_names)"
   ]
  },
  {
   "cell_type": "code",
   "execution_count": 74,
   "id": "74d29dda-946c-4961-a0d6-2fa6c090cd74",
   "metadata": {},
   "outputs": [],
   "source": [
    "np.random.seed(42)\n",
    "tmp_x =np.random.normal(0,1*alpha_stp, n_features*n_pertub).reshape(n_pertub,n_features)\n",
    "rapport_denom  = np.linalg.norm(tmp_x,ord=2, axis=1)\n",
    "n_point = len(X_test_tmp)"
   ]
  },
  {
   "cell_type": "code",
   "execution_count": 75,
   "id": "df4811dd-bd2b-45ee-9764-71575a58afb7",
   "metadata": {},
   "outputs": [],
   "source": [
    "X_test_tmp_np   = X_test_tmp[feature_names].values\n",
    "X_explain_lr,y_explain_lr = attributions_linear[sample_condition][feature_names].values, attributions_linear[sample_condition].pred_proba.values\n",
    "X_explain_tabsra,y_explain_tabsra = attributions_tabsra[sample_condition][feature_names].values, attributions_tabsra[sample_condition].pred_proba.values\n",
    "X_explain_xgb,y_explain_xgb = attributions_xgb[sample_condition][feature_names].values, attributions_xgb[sample_condition].pred_proba.values\n",
    "X_explain_EBM_S,y_explain_EBM_S = attributions_EBM_S[sample_condition][feature_names_EBM_S].values, attributions_EBM_S[sample_condition].pred_proba.values\n",
    "X_explain_EBM,y_explain_EBM= attributions_EBM[sample_condition][feature_names_EBM].values, attributions_EBM[sample_condition].pred_proba.values\n"
   ]
  },
  {
   "cell_type": "code",
   "execution_count": 76,
   "id": "f78bbe1b-05e4-42bc-9109-b9e4af2e5a3f",
   "metadata": {},
   "outputs": [],
   "source": [
    "time_lr =[]\n",
    "for i in range(10):\n",
    "    start_ = time.time()\n",
    "    relative_norm_lr = np.zeros(n_point)\n",
    "    relative_pred_lr = np.zeros(n_point)\n",
    "    for i in range(n_point):\n",
    "        #tmp_x =np.random.normal(0,1*alpha_stp, 5*100).reshape(100,5)\n",
    "        X_new_np = X_test_tmp_np[i]+tmp_x\n",
    "        X_new = torch.Tensor(X_new_np)\n",
    "\n",
    "        y_pred_linear = LR.predict_proba(X_new)[:,1]\n",
    "        X_explain_new_ = np.linalg.norm(X_explain_lr[i] - LR.get_feature_attribution(X_new),ord=2,axis=1)\n",
    "\n",
    "        tmp = np.abs(y_explain_lr[i]-y_pred_linear)\n",
    "        ind_adversial = np.argmax(tmp)\n",
    "        relative_pred_lr[i] = tmp[ind_adversial]\n",
    "        relative_norm_lr[i] =  (X_explain_new_/rapport_denom)[ind_adversial]\n",
    "    time_lr.append(time.time()-start_)"
   ]
  },
  {
   "cell_type": "code",
   "execution_count": 79,
   "id": "8cff9aca-7cd8-4479-b1eb-52f4161d4d87",
   "metadata": {},
   "outputs": [
    {
     "data": {
      "text/plain": [
       "(0.867487096786499, 0.024375846386603978)"
      ]
     },
     "execution_count": 79,
     "metadata": {},
     "output_type": "execute_result"
    }
   ],
   "source": [
    "np.mean(time_lr),np.std(time_lr)"
   ]
  },
  {
   "cell_type": "code",
   "execution_count": null,
   "id": "fc35edf4-4176-4c45-aa1f-0d5cec12833a",
   "metadata": {},
   "outputs": [],
   "source": []
  },
  {
   "cell_type": "code",
   "execution_count": 80,
   "id": "10b46366-efe6-4771-8378-25181615bf1f",
   "metadata": {},
   "outputs": [],
   "source": [
    "time_tabsra =[]\n",
    "for i in range(10):\n",
    "    start_ = time.time()\n",
    "    relative_norm_tabsra = np.zeros(n_point)\n",
    "    relative_pred_tabsra = np.zeros(n_point)\n",
    "    for i in range(n_point):\n",
    "        #tmp_x =np.random.normal(0,1*alpha_stp, 5*100).reshape(100,5)\n",
    "        X_new_np = X_test_tmp_np[i]+tmp_x\n",
    "        X_new = torch.Tensor(X_new_np)\n",
    "\n",
    "        y_pred_tabsra = TabSRA.predict_proba(X_new)[:,1]\n",
    "        X_explain_new_ = np.linalg.norm(X_explain_tabsra[i] - TabSRA.get_feature_attribution(X_new),ord=2,axis=1)\n",
    "\n",
    "        tmp = np.abs(y_explain_tabsra[i]-y_pred_tabsra)\n",
    "        ind_adversial = np.argmax(tmp)\n",
    "        relative_pred_tabsra[i] = tmp[ind_adversial]\n",
    "        relative_norm_tabsra[i] =  (X_explain_new_/rapport_denom)[ind_adversial]\n",
    "    time_tabsra.append(time.time()-start_)"
   ]
  },
  {
   "cell_type": "code",
   "execution_count": 81,
   "id": "d7b29204-2b08-403b-b289-7f6000557fca",
   "metadata": {},
   "outputs": [
    {
     "data": {
      "text/plain": [
       "(1.459298062324524, 0.019078239796916197)"
      ]
     },
     "execution_count": 81,
     "metadata": {},
     "output_type": "execute_result"
    }
   ],
   "source": [
    "np.mean(time_tabsra),np.std(time_tabsra)"
   ]
  },
  {
   "cell_type": "code",
   "execution_count": 82,
   "id": "bb676724-89e4-4ff1-b404-71e193eb0779",
   "metadata": {},
   "outputs": [
    {
     "name": "stderr",
     "output_type": "stream",
     "text": [
      "ntree_limit is deprecated, use `iteration_range` or model slicing instead.\n"
     ]
    }
   ],
   "source": [
    "time_xgb =[]\n",
    "for i in range(10):\n",
    "    start_ = time.time()\n",
    "    relative_norm_xgb = np.zeros(n_point)\n",
    "    relative_pred_xgb = np.zeros(n_point)\n",
    "    for i in range(n_point):\n",
    "        #tmp_x =np.random.normal(0,1*alpha_stp, 5*100).reshape(100,5)\n",
    "        X_new_np = X_test_tmp_np[i]+tmp_x\n",
    "\n",
    "\n",
    "        y_pred_xgb = model_xgb.predict_proba(X_new_np)[:,1]\n",
    "        X_explain_new_ = np.linalg.norm(X_explain_xgb[i] - explainer(X_new_np).values,ord=2,axis=1)\n",
    "\n",
    "        tmp = np.abs(y_explain_xgb[i]-y_pred_xgb)\n",
    "        ind_adversial = np.argmax(tmp)\n",
    "        relative_pred_xgb[i] = tmp[ind_adversial]\n",
    "        relative_norm_xgb[i] =  (X_explain_new_/rapport_denom)[ind_adversial]\n",
    "    time_xgb.append(time.time()-start_)"
   ]
  },
  {
   "cell_type": "code",
   "execution_count": 83,
   "id": "7cd704b2-63b6-4a2d-ac46-ab34fe3c6836",
   "metadata": {},
   "outputs": [
    {
     "data": {
      "text/plain": [
       "(21.29535698890686, 0.939028836328257)"
      ]
     },
     "execution_count": 83,
     "metadata": {},
     "output_type": "execute_result"
    }
   ],
   "source": [
    "np.mean(time_xgb),np.std(time_xgb)"
   ]
  },
  {
   "cell_type": "code",
   "execution_count": 88,
   "id": "ea4335c4-d6a2-4c55-a413-3277f2711e40",
   "metadata": {},
   "outputs": [],
   "source": [
    "time_EBM_S =[]\n",
    "for i in range(10):\n",
    "    start_ = time.time()\n",
    "    relative_norm_EBM_S = np.zeros(n_point)\n",
    "    relative_pred_EBM_S = np.zeros(n_point)\n",
    "    for i in range(n_point):\n",
    "        #tmp_x =np.random.normal(0,1*alpha_stp, 5*100).reshape(100,5)\n",
    "        X_new_np = X_test_tmp_np[i]+tmp_x\n",
    "        X_new_df = pd.DataFrame(X_new_np,columns=feature_names)\n",
    "\n",
    "        y_pred_EBM_S = EBM_S.predict_proba(X_new_np)[:,1]\n",
    "        X_explain_EBM_S_ = np.linalg.norm(X_explain_EBM_S[i] - get_feature_attribution_EBM(EBM_S, X_new_df).values,ord=2,axis=1)\n",
    "\n",
    "        tmp = np.abs(y_explain_EBM_S[i]-y_pred_EBM_S)\n",
    "        ind_adversial = np.argmax(tmp)\n",
    "        relative_pred_EBM_S[i] = tmp[ind_adversial]\n",
    "        relative_norm_EBM_S[i] =  (X_explain_new_/rapport_denom)[ind_adversial]\n",
    "time_EBM_S.append(time.time()-start_)"
   ]
  },
  {
   "cell_type": "code",
   "execution_count": 89,
   "id": "58b17c74-9567-4203-b7b6-c68fced6cf9e",
   "metadata": {},
   "outputs": [
    {
     "data": {
      "text/plain": [
       "(5.6853766441345215, 0.0)"
      ]
     },
     "execution_count": 89,
     "metadata": {},
     "output_type": "execute_result"
    }
   ],
   "source": [
    "np.mean(time_EBM_S),np.std(time_EBM_S)"
   ]
  },
  {
   "cell_type": "code",
   "execution_count": null,
   "id": "07204d86-1264-4462-bf09-3cb25c6838fc",
   "metadata": {},
   "outputs": [],
   "source": []
  },
  {
   "cell_type": "code",
   "execution_count": 86,
   "id": "aa84ff0e-67b1-4ae4-9e54-c8365ea2abd9",
   "metadata": {},
   "outputs": [],
   "source": [
    "time_EBM =[]\n",
    "for i in range(10):\n",
    "    start_ = time.time()\n",
    "    relative_norm_EBM = np.zeros(n_point)\n",
    "    relative_pred_EBM = np.zeros(n_point)\n",
    "    for i in range(n_point):\n",
    "        #tmp_x =np.random.normal(0,1*alpha_stp, 5*100).reshape(100,5)\n",
    "        X_new_np = X_test_tmp_np[i]+tmp_x\n",
    "        X_new_df = pd.DataFrame(X_new_np,columns=feature_names)\n",
    "\n",
    "        y_pred_EBM = EBM.predict_proba(X_new_np)[:,1]\n",
    "        X_explain_EBM_ = np.linalg.norm(X_explain_EBM[i] - get_feature_attribution_EBM(EBM, X_new_df).values,ord=2,axis=1)\n",
    "\n",
    "        tmp = np.abs(y_explain_EBM[i]-y_pred_EBM)\n",
    "        ind_adversial = np.argmax(tmp)\n",
    "        relative_pred_EBM[i] = tmp[ind_adversial]\n",
    "        relative_norm_EBM[i] =  (X_explain_new_/rapport_denom)[ind_adversial]\n",
    "    time_EBM.append(time.time()-start_)       "
   ]
  },
  {
   "cell_type": "code",
   "execution_count": 87,
   "id": "c1ad0895-fafc-4482-8563-4efa84452987",
   "metadata": {},
   "outputs": [
    {
     "data": {
      "text/plain": [
       "(6.661557221412659, 0.11419476946040463)"
      ]
     },
     "execution_count": 87,
     "metadata": {},
     "output_type": "execute_result"
    }
   ],
   "source": [
    "np.mean(time_EBM),np.std(time_EBM)"
   ]
  },
  {
   "cell_type": "code",
   "execution_count": 90,
   "id": "8c771d43-c298-4b55-98ce-ea37403950c6",
   "metadata": {},
   "outputs": [],
   "source": [
    "df_classic_expl = pd.DataFrame()\n",
    "\n",
    "df_classic_expl[\"LR\"] = relative_norm_lr\n",
    "df_classic_expl[\"TabSRALinear\"] = relative_norm_tabsra\n",
    "df_classic_expl[\"EBM\"] = relative_norm_EBM\n",
    "df_classic_expl[\"EBM_S\"] = relative_norm_EBM_S\n",
    "df_classic_expl[\"XGBoost+TreeSHAP\"] = relative_norm_xgb"
   ]
  },
  {
   "cell_type": "code",
   "execution_count": 91,
   "id": "ad79c576-b13a-4e0f-bc3a-d97ab381a71d",
   "metadata": {},
   "outputs": [],
   "source": [
    "df_classic_output = pd.DataFrame()\n",
    "df_classic_output[\"LR\"] = relative_pred_lr\n",
    "df_classic_output[\"TabSRALinear\"] = relative_pred_tabsra\n",
    "df_classic_output[\"EBM\"] = relative_pred_EBM\n",
    "df_classic_output[\"EBM_S\"] = relative_pred_EBM_S\n",
    "df_classic_output[\"XGBoost+TreeSHAP\"] = relative_pred_xgb"
   ]
  },
  {
   "cell_type": "code",
   "execution_count": 92,
   "id": "c4d22c0f-77ff-4b5b-bde4-55474569d118",
   "metadata": {},
   "outputs": [
    {
     "data": {
      "text/html": [
       "<div>\n",
       "<style scoped>\n",
       "    .dataframe tbody tr th:only-of-type {\n",
       "        vertical-align: middle;\n",
       "    }\n",
       "\n",
       "    .dataframe tbody tr th {\n",
       "        vertical-align: top;\n",
       "    }\n",
       "\n",
       "    .dataframe thead th {\n",
       "        text-align: right;\n",
       "    }\n",
       "</style>\n",
       "<table border=\"1\" class=\"dataframe\">\n",
       "  <thead>\n",
       "    <tr style=\"text-align: right;\">\n",
       "      <th></th>\n",
       "      <th>LR</th>\n",
       "      <th>TabSRALinear</th>\n",
       "      <th>EBM</th>\n",
       "      <th>EBM_S</th>\n",
       "      <th>XGBoost+TreeSHAP</th>\n",
       "    </tr>\n",
       "  </thead>\n",
       "  <tbody>\n",
       "    <tr>\n",
       "      <th>0</th>\n",
       "      <td>0.307179</td>\n",
       "      <td>0.467895</td>\n",
       "      <td>1.147138</td>\n",
       "      <td>1.147138</td>\n",
       "      <td>0.454984</td>\n",
       "    </tr>\n",
       "    <tr>\n",
       "      <th>1</th>\n",
       "      <td>0.307179</td>\n",
       "      <td>0.399638</td>\n",
       "      <td>0.000000</td>\n",
       "      <td>0.000000</td>\n",
       "      <td>0.990627</td>\n",
       "    </tr>\n",
       "    <tr>\n",
       "      <th>2</th>\n",
       "      <td>0.307179</td>\n",
       "      <td>0.179733</td>\n",
       "      <td>0.000000</td>\n",
       "      <td>0.000000</td>\n",
       "      <td>0.517604</td>\n",
       "    </tr>\n",
       "    <tr>\n",
       "      <th>3</th>\n",
       "      <td>0.307179</td>\n",
       "      <td>0.317978</td>\n",
       "      <td>0.000000</td>\n",
       "      <td>0.000000</td>\n",
       "      <td>0.235470</td>\n",
       "    </tr>\n",
       "    <tr>\n",
       "      <th>4</th>\n",
       "      <td>0.307179</td>\n",
       "      <td>0.298078</td>\n",
       "      <td>0.000000</td>\n",
       "      <td>0.000000</td>\n",
       "      <td>2.082124</td>\n",
       "    </tr>\n",
       "  </tbody>\n",
       "</table>\n",
       "</div>"
      ],
      "text/plain": [
       "         LR  TabSRALinear       EBM     EBM_S  XGBoost+TreeSHAP\n",
       "0  0.307179      0.467895  1.147138  1.147138          0.454984\n",
       "1  0.307179      0.399638  0.000000  0.000000          0.990627\n",
       "2  0.307179      0.179733  0.000000  0.000000          0.517604\n",
       "3  0.307179      0.317978  0.000000  0.000000          0.235470\n",
       "4  0.307179      0.298078  0.000000  0.000000          2.082124"
      ]
     },
     "execution_count": 92,
     "metadata": {},
     "output_type": "execute_result"
    }
   ],
   "source": [
    "df_classic_expl.head()"
   ]
  },
  {
   "cell_type": "code",
   "execution_count": 94,
   "id": "1398f4e2-b0d9-4c85-95b4-852e1df64a2b",
   "metadata": {},
   "outputs": [
    {
     "data": {
      "text/plain": [
       "(1076, 2092)"
      ]
     },
     "execution_count": 94,
     "metadata": {},
     "output_type": "execute_result"
    }
   ],
   "source": [
    "len(df_classic_expl),len(X_test_)"
   ]
  },
  {
   "cell_type": "code",
   "execution_count": 100,
   "id": "f2f22d2b-785b-4f9b-9e66-5f5466dba3a3",
   "metadata": {},
   "outputs": [],
   "source": [
    "df_classic_expl.columns = ['LR', 'SRA', 'EBM', 'EBM_S', 'XGB_SHAP']"
   ]
  },
  {
   "cell_type": "code",
   "execution_count": 102,
   "id": "acd3fc95-227b-4dde-b0b0-519047de5f14",
   "metadata": {},
   "outputs": [
    {
     "data": {
      "image/png": "[encoded data removed]",
      "text/plain": [
       "<Figure size 432x288 with 1 Axes>"
      ]
     },
     "metadata": {},
     "output_type": "display_data"
    }
   ],
   "source": [
    "sns.boxplot(data=df_classic_expl)\n",
    "plt.ylabel(\"Lipschitz Estimate\",weight = 'bold',fontsize=14)\n",
    "plt.xticks(weight = 'bold',fontsize=11,rotation=0)\n",
    "plt.yticks(weight = 'bold',fontsize=14)\n",
    "plt.savefig('Stability_HelocFico_hideen1_1E_2.png')\n",
    "plt.show()"
   ]
  },
  {
   "cell_type": "code",
   "execution_count": 104,
   "id": "91166030-a9d1-470e-9d60-8eed6ce7e775",
   "metadata": {},
   "outputs": [],
   "source": [
    "df_classic_output.columns = ['LR', 'SRA', 'EBM', 'EBM_S', 'XGB_SHAP']"
   ]
  },
  {
   "cell_type": "code",
   "execution_count": 108,
   "id": "90436108-b37c-4b4a-9c0a-0adb3e764c9c",
   "metadata": {},
   "outputs": [
    {
     "data": {
      "image/png": "[encoded data removed]",
      "text/plain": [
       "<Figure size 432x288 with 1 Axes>"
      ]
     },
     "metadata": {},
     "output_type": "display_data"
    }
   ],
   "source": [
    "sns.boxplot(data=df_classic_output)\n",
    "#plt.ylabel(\"Output Change\",weight = 'bold',fontsize=14)\n",
    "plt.xticks(weight = 'bold',fontsize=11,rotation=0)\n",
    "plt.yticks(weight = 'bold',fontsize=14)\n",
    "plt.savefig('Stability_OutputChange_HelocFico_hideen1_1E_2.png')\n",
    "plt.show()"
   ]
  },
  {
   "cell_type": "code",
   "execution_count": null,
   "id": "d5808f1e-87c8-4c46-b049-c03a2ce748a4",
   "metadata": {},
   "outputs": [],
   "source": []
  }
 ],
 "metadata": {
  "kernelspec": {
   "display_name": "Python 3 (ipykernel)",
   "language": "python",
   "name": "python3"
  },
  "language_info": {
   "codemirror_mode": {
    "name": "ipython",
    "version": 3
   },
   "file_extension": ".py",
   "mimetype": "text/x-python",
   "name": "python",
   "nbconvert_exporter": "python",
   "pygments_lexer": "ipython3",
   "version": "3.9.12"
  }
 },
 "nbformat": 4,
 "nbformat_minor": 5
}
